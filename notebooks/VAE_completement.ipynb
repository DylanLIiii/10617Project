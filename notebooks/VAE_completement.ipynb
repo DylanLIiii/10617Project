{
 "cells": [
  {
   "cell_type": "code",
   "execution_count": 1,
   "metadata": {
    "id": "bQGmFNYSkYUi"
   },
   "outputs": [],
   "source": [
    "import time\n",
    "import numpy as np\n",
    "import torch\n",
    "import torch.nn as nn\n",
    "import torch.nn.functional as F\n",
    "from torch.utils.data import Dataset, DataLoader\n",
    "from torchvision import datasets\n",
    "from torchvision import transforms\n",
    "import os\n",
    "import torch.optim as optim\n",
    "import argparse\n",
    "from tqdm import tqdm\n",
    "import matplotlib.pyplot as plt\n",
    "import wandb\n",
    "from pprint import pprint\n",
    "import plotly\n",
    "from torchview import draw_graph\n",
    "import graphviz\n",
    "import scipy.io as sio\n",
    "\n",
    "if torch.cuda.is_available():\n",
    "    torch.backends.cudnn.deterministic = True"
   ]
  },
  {
   "cell_type": "code",
   "execution_count": 2,
   "metadata": {},
   "outputs": [
    {
     "data": {
      "text/plain": [
       "'svg'"
      ]
     },
     "execution_count": 2,
     "metadata": {},
     "output_type": "execute_result"
    }
   ],
   "source": [
    "# when running on VSCode run the below command\n",
    "# svg format on vscode does not give desired result\n",
    "graphviz.set_jupyter_format('png')"
   ]
  },
  {
   "cell_type": "markdown",
   "metadata": {},
   "source": [
    "## Use Weight and Bias to log the training process "
   ]
  },
  {
   "cell_type": "code",
   "execution_count": 3,
   "metadata": {},
   "outputs": [
    {
     "name": "stderr",
     "output_type": "stream",
     "text": [
      "\u001b[34m\u001b[1mwandb\u001b[0m: Currently logged in as: \u001b[33mdylanheddedly\u001b[0m (\u001b[33mdylanli\u001b[0m). Use \u001b[1m`wandb login --relogin`\u001b[0m to force relogin\n"
     ]
    },
    {
     "data": {
      "text/plain": [
       "True"
      ]
     },
     "execution_count": 3,
     "metadata": {},
     "output_type": "execute_result"
    }
   ],
   "source": [
    "os.environ['WANDB_NOTEBOOK_NAME'] = '/home/dylan/repo/VAE/VAE_completement.ipynb'\n",
    "wandb.login()\n",
    "\n"
   ]
  },
  {
   "cell_type": "code",
   "execution_count": 4,
   "metadata": {
    "id": "ToXWY_C7k3an"
   },
   "outputs": [],
   "source": [
    "def seed_everything(seed: int):\n",
    "    import random, os\n",
    "\n",
    "    random.seed(seed)\n",
    "    os.environ['PYTHONHASHSEED'] = str(seed)\n",
    "    np.random.seed(seed)\n",
    "    torch.manual_seed(seed)\n",
    "    torch.cuda.manual_seed(seed)\n",
    "    torch.backends.cudnn.deterministic = True\n",
    "    torch.backends.cudnn.benchmark = True\n",
    "\n",
    "seed_everything(seed=3407) #From Torch.manual_seed(3407) is all you need: On the influence of random seeds in deep learning architectures for computer vision"
   ]
  },
  {
   "cell_type": "code",
   "execution_count": 5,
   "metadata": {
    "id": "gVghyyIumbO2"
   },
   "outputs": [],
   "source": [
    "def reparametrization(mu, logvar):\n",
    "\n",
    "    \n",
    "    std = torch.exp(0.5 * logvar)\n",
    "    eps = torch.randn_like(std)\n",
    "    return mu + eps * std"
   ]
  },
  {
   "cell_type": "code",
   "execution_count": 6,
   "metadata": {},
   "outputs": [],
   "source": [
    "def make_physical_data(args, train=True, return_ax=False):\n",
    "    import scipy.io as sio\n",
    "    \n",
    "    #### make pytorch dataset \n",
    "    class dataset(Dataset):\n",
    "        def __init__(self, data, minus_mean=False):\n",
    "            self.data = data\n",
    "            self.len = len(data)\n",
    "            # scale data to float32\n",
    "            self.data = self.data.astype(np.float32)\n",
    "            if minus_mean:\n",
    "                self.data = self.data - self.data.mean(axis=0, keepdims=True)\n",
    "\n",
    "        def __getitem__(self, idx):\n",
    "            return self.data[idx], self.data[idx]\n",
    "\n",
    "        def __len__(self):\n",
    "            return self.len\n",
    "\n",
    "    \n",
    "    data_path = args.data_path + 'physical/'\n",
    "    if not os.path.exists(data_path):\n",
    "        os.makedirs(data_path)\n",
    "    data = sio.loadmat(data_path + 'CYLINDER.mat')\n",
    "        \n",
    "    U = data['U']\n",
    "    V = data['V']\n",
    "    VORTALL = data['VORTALL']\n",
    "    X = data['X']\n",
    "    Y = data['Y']\n",
    "    nx = data['nx'].item()\n",
    "    ny = data['ny'].item()\n",
    "    \n",
    "    if return_ax: \n",
    "        return X, Y, nx, ny\n",
    "    else: \n",
    "        # Train test split \n",
    "        portion = 0.8\n",
    "        train_index = int(portion * U.shape[0])\n",
    "        if train: \n",
    "            U_data = U[:train_index, :]\n",
    "            V_data = V[:train_index, :]\n",
    "            VORTALL_data = VORTALL[:train_index, :]\n",
    "        else:\n",
    "            U_data = U[train_index:, :]\n",
    "            V_data = V[train_index:, :]\n",
    "            VORTALL_data = VORTALL[train_index:, :]\n",
    "        U_data = dataset(U_data)\n",
    "        V_data = dataset(V_data)\n",
    "        VORTALL_data = dataset(VORTALL_data)\n",
    "\n",
    "        \n",
    "        \n",
    "        return U_data, V_data, VORTALL_data\n",
    "    \n",
    "    "
   ]
  },
  {
   "cell_type": "code",
   "execution_count": 7,
   "metadata": {},
   "outputs": [],
   "source": [
    "def log_everything(train_loss, val_loss, epoch):\n",
    "    wandb.log({'loss': train_loss, 'val_loss': val_loss, 'epoch': epoch})"
   ]
  },
  {
   "cell_type": "code",
   "execution_count": 8,
   "metadata": {
    "id": "Ji-QOJBOmGtD"
   },
   "outputs": [],
   "source": [
    "# for downstream classification\n",
    "class Head(nn.Module):\n",
    "    def __init__(self, code_dim, out_channels):\n",
    "        super(Head, self).__init__()\n",
    "        self.code_dim = code_dim\n",
    "        self.out_channels = out_channels\n",
    "        self.hidden = nn.ModuleList()\n",
    "        for k in range(2):\n",
    "            self.hidden.append(nn.Linear(code_dim, code_dim, bias=True))\n",
    "            self.hidden.append(nn.ReLU(True))\n",
    "            self.hidden.append(nn.Dropout2d(0.5))\n",
    "        self.hidden.append(nn.Linear(code_dim, out_channels, bias=False))\n",
    "\n",
    "    def forward(self, z):\n",
    "        for l in self.hidden:\n",
    "            z = l(z)\n",
    "        return z"
   ]
  },
  {
   "cell_type": "code",
   "execution_count": 9,
   "metadata": {
    "id": "kUM_lp2CmMzB"
   },
   "outputs": [],
   "source": [
    "class InnerMLP(nn.Module):\n",
    "    def __init__(self, latent_dim, layers):\n",
    "        super(InnerMLP, self).__init__()\n",
    "        self.latent_dim = latent_dim\n",
    "        self.layers = layers\n",
    "        self.hidden = nn.ModuleList()\n",
    "        for k in range(layers):\n",
    "            linear_layer = nn.Linear(latent_dim, latent_dim, bias=False)\n",
    "            self.hidden.append(linear_layer)\n",
    "\n",
    "    def forward(self, z):\n",
    "        for l in self.hidden:\n",
    "            z = l(z)\n",
    "        return z"
   ]
  },
  {
   "cell_type": "code",
   "execution_count": 10,
   "metadata": {
    "id": "CWnEBxdslC21"
   },
   "outputs": [],
   "source": [
    "class MNIST_Encoder(nn.Module):\n",
    "    def __init__(self):\n",
    "        super(MNIST_Encoder, self).__init__()\n",
    "        self.dcnn = nn.Sequential(\n",
    "            nn.Conv2d(1, 32, 4, 2, 1),\n",
    "            nn.ReLU(True),\n",
    "            nn.Conv2d(32, 64, 4, 2, 1),\n",
    "            nn.ReLU(True),\n",
    "            nn.Conv2d(64, 128, 4, 2, 1),\n",
    "            nn.ReLU(True),\n",
    "            nn.Conv2d(128, 256, 4, 2, 1),\n",
    "            nn.ReLU(True),\n",
    "        )\n",
    "        #self.fc = nn.Linear(256*2*2, self.code_dim)\n",
    "    def forward(self, z):\n",
    "          z = self.dcnn(z)\n",
    "          z = z.view(z.size(0), 256*2*2)\n",
    "          #z = self.fc(z)\n",
    "          return z\n"
   ]
  },
  {
   "cell_type": "code",
   "execution_count": 11,
   "metadata": {
    "id": "9LhYUpWbmnfz"
   },
   "outputs": [],
   "source": [
    "class MNIST_Decoder(nn.Module):\n",
    "    def __init__(self, latent_dim,vae=False):\n",
    "        super(MNIST_Decoder, self).__init__()\n",
    "        self.latent_dim = latent_dim\n",
    "        self.fc = nn.Linear(self.latent_dim, 8*8*128)\n",
    "        self.dcnn = nn.Sequential(\n",
    "            nn.ReLU(True),\n",
    "            nn.ConvTranspose2d(128, 64, 4, 2, 1),\n",
    "            nn.ReLU(True),\n",
    "            nn.ConvTranspose2d(64, 32, 4, 2, 1),\n",
    "            nn.ReLU(True),\n",
    "            nn.ConvTranspose2d(32, 1, 1, 1, 0),\n",
    "            nn.Sigmoid() if vae else nn.Tanh()\n",
    "        )\n",
    "\n",
    "    def forward(self, z):\n",
    "        z = self.fc(z)\n",
    "        z = z.view(z.size(0), 128, 8, 8)\n",
    "        z = self.dcnn(z)\n",
    "        return z"
   ]
  },
  {
   "cell_type": "code",
   "execution_count": 32,
   "metadata": {},
   "outputs": [],
   "source": [
    "class Physical_Encoder(nn.Module):\n",
    "    def __init__(self, args):\n",
    "        super(Physical_Encoder, self).__init__()\n",
    "        if args.model_name == 'linearAE':\n",
    "            self.mlp = nn.Sequential(\n",
    "                nn.Linear(250, 128, bias=False),\n",
    "                nn.Linear(128, 64, bias=False),\n",
    "            )\n",
    "        else: \n",
    "            self.mlp = nn.Sequential(\n",
    "                nn.Linear(250, 128),\n",
    "                nn.ReLU(True),\n",
    "                nn.Linear(128, 64),\n",
    "                nn.ReLU(True),\n",
    "            )\n",
    "        \n",
    "    def forward(self, z):\n",
    "        z = self.mlp(z)\n",
    "        return z"
   ]
  },
  {
   "cell_type": "code",
   "execution_count": 33,
   "metadata": {},
   "outputs": [],
   "source": [
    "class Physical_Decoder(nn.Module):\n",
    "    def __init__(self, args, latent_dim):\n",
    "        super(Physical_Decoder, self).__init__()\n",
    "        self.latent_dim = latent_dim\n",
    "        if args.model_name == 'linearAE':\n",
    "            self.mlp = nn.Sequential(\n",
    "                nn.Linear(32, 64, bias=False),\n",
    "                nn.Linear(64, 128, bias=False),\n",
    "                nn.Linear(128, 250, bias=False),\n",
    "            )\n",
    "        else:\n",
    "            self.mlp = nn.Sequential(\n",
    "                nn.Linear(32, 64),\n",
    "                nn.ReLU(True),\n",
    "                nn.Linear(64, 128),\n",
    "                nn.ReLU(True),\n",
    "                nn.Linear(128, 250),\n",
    "            )\n",
    "\n",
    "    def forward(self, z):\n",
    "        z = self.mlp(z)\n",
    "        return z\n",
    "    "
   ]
  },
  {
   "cell_type": "code",
   "execution_count": 34,
   "metadata": {},
   "outputs": [],
   "source": [
    "class Physical_Final_Latent(nn.Module):\n",
    "    def __init__(self, args, latent_dim):\n",
    "        super(Physical_Final_Latent, self).__init__()\n",
    "        self.latent_dim = latent_dim \n",
    "        if args.model_name == 'linearAE':\n",
    "            self.fc = nn.Linear(64, latent_dim, bias=False)\n",
    "        else:\n",
    "            self.fc = nn.Linear(64, latent_dim)\n",
    "        \n",
    "    def forward(self, z):\n",
    "        z = self.fc(z)\n",
    "        return z"
   ]
  },
  {
   "cell_type": "code",
   "execution_count": 35,
   "metadata": {
    "id": "Rw7PevA3m8rv"
   },
   "outputs": [],
   "source": [
    "class Image_Final_Latent(nn.Module):\n",
    "    def __init__(self, input_dim, latent_dim):\n",
    "        super(Image_Final_Latent, self).__init__()\n",
    "        self.latent_dim = latent_dim\n",
    "        self.fc = nn.Linear(input_dim, latent_dim)\n",
    "\n",
    "    def forward(self, z):\n",
    "        z = self.fc(z)\n",
    "        return z\n"
   ]
  },
  {
   "cell_type": "code",
   "execution_count": 36,
   "metadata": {
    "id": "OLsuc_Ucnzr5"
   },
   "outputs": [],
   "source": [
    "class AE(nn.Module):\n",
    "    def __init__(self, args):\n",
    "        super(AE, self).__init__()\n",
    "        self.args = args\n",
    "        self.n = args.n\n",
    "        self.vae = args.vae\n",
    "        self.l = args.l\n",
    "        if args.dataset == \"physical\": self.final_latent = Physical_Final_Latent(args, args.n)\n",
    "        else: self.final_latent = Image_Final_Latent(256*2*2, args.n * 2)\n",
    "        self.post_connect = args.post_connect\n",
    "        if args.dataset == \"mnist\":\n",
    "            if args.vae:\n",
    "                self.enc = MNIST_Encoder()\n",
    "                self.final_latent = Image_Final_Latent(256*2*2, args.n * 2)\n",
    "                self.dec = MNIST_Decoder(args.n, vae=True)\n",
    "            else:\n",
    "                self.enc = MNIST_Encoder(args)\n",
    "                self.dec = MNIST_Decoder(args.n)\n",
    "        if args.dataset == \"physical\":\n",
    "            if args.vae:\n",
    "                # Todo: add vae for physical\n",
    "                pass\n",
    "            else: \n",
    "                self.enc = Physical_Encoder(args)\n",
    "                self.dec = Physical_Decoder(args, args.n)\n",
    "                \n",
    "        if args.vae and args.l > 0 and not args.post_connect :\n",
    "            self.mlp = InnerMLP(args.n * 2, args.l)\n",
    "        else: self.mlp = InnerMLP(args.n, args.l)\n",
    "\n",
    "    def encode(self, x):\n",
    "        _ = self.enc(x)\n",
    "        z = self.final_latent(_)\n",
    "        if self.vae:\n",
    "            if self.l > 0: \n",
    "                if self.post_connect:\n",
    "                    mu = z[:, :self.n]\n",
    "                    logvar = z[:, self.n:]\n",
    "                    z_bar = reparametrization(mu, logvar)\n",
    "                    z_bar = self.mlp(z_bar)\n",
    "                else: \n",
    "                    z = self.mlp(z)\n",
    "                    mu = z[:, :self.n]\n",
    "                    logvar = z[:, self.n:]\n",
    "                    z_bar = reparametrization(mu, logvar)\n",
    "            else: \n",
    "                mu = z[:, :self.n]\n",
    "                logvar = z[:, self.n:]\n",
    "                z_bar = reparametrization(mu, logvar)\n",
    "        elif self.l > 0:\n",
    "            z_bar = self.mlp(z)\n",
    "        else:\n",
    "            z_bar = z\n",
    "        return z_bar\n",
    "\n",
    "    def decode(self, z):\n",
    "        return self.dec(z)\n",
    "\n",
    "    def forward(self, x):\n",
    "        _ = self.enc(x)\n",
    "        z = self.final_latent(_)\n",
    "        if self.vae:\n",
    "            if self.l > 0: \n",
    "                if self.post_connect:\n",
    "                    mu = z[:, :self.n]\n",
    "                    logvar = z[:, self.n:]\n",
    "                    z_bar = reparametrization(mu, logvar)\n",
    "                    z_bar = self.mlp(z_bar)\n",
    "                else: \n",
    "                    z = self.mlp(z)\n",
    "                    mu = z[:, :self.n]\n",
    "                    logvar = z[:, self.n:]\n",
    "                    z_bar = reparametrization(mu, logvar)\n",
    "            else: \n",
    "                mu = z[:, :self.n]\n",
    "                logvar = z[:, self.n:]\n",
    "                z_bar = reparametrization(mu, logvar)\n",
    "        elif self.l > 0:\n",
    "            z_bar = self.mlp(z)\n",
    "        else:\n",
    "            z_bar = z\n",
    "        x_hat = self.decode(z_bar)\n",
    "        if self.vae:\n",
    "            loss = F.binary_cross_entropy(x_hat, x)\n",
    "            loss -= self.args.beta * torch.mean(\n",
    "                1 + logvar - mu.pow(2) - logvar.exp()\n",
    "            )\n",
    "        else:\n",
    "            loss = F.mse_loss(x_hat, x)\n",
    "        \n",
    "        return loss"
   ]
  },
  {
   "cell_type": "code",
   "execution_count": 37,
   "metadata": {
    "id": "Kpz93qqhs4q6"
   },
   "outputs": [],
   "source": [
    "def train(args):\n",
    "\n",
    "    # use gpu ##########################################\n",
    "    device = torch.device(\"cuda\" if args.gpu else \"cpu\")\n",
    "\n",
    "    # dataset ##########################################\n",
    "    if args.dataset == \"mnist\":\n",
    "        data_path = args.data_path + \"mnist/\"\n",
    "        if not os.path.exists(data_path):\n",
    "            os.makedirs(data_path)\n",
    "\n",
    "        train_set = datasets.MNIST(data_path, train=True,\n",
    "                                download=True,\n",
    "                                transform=transforms.Compose([\n",
    "                                    transforms.Resize([32, 32]),\n",
    "                                    transforms.ToTensor()]))\n",
    "        valid_set = datasets.MNIST(data_path, train=False,\n",
    "                                download=True,\n",
    "                                transform=transforms.Compose([\n",
    "                                    transforms.Resize([32, 32]),\n",
    "                                    transforms.ToTensor()]))\n",
    "    if args.dataset == \"physical\":\n",
    "        data_path = args.data_path + \"physical/\"\n",
    "        if not os.path.exists(data_path):\n",
    "            os.makedirs(data_path)\n",
    "        U_train_data, V_train_data, VORTALL_train_data= make_physical_data(args, True)\n",
    "        U_test_data, V_test_data, VORTALL_test_data = make_physical_data(args, False)\n",
    "        x, y, nx, ny = make_physical_data(args, True, return_ax=True)\n",
    "        \n",
    "        if args.train_target == \"U\":\n",
    "            train_set = U_train_data \n",
    "            valid_set = U_test_data\n",
    "        elif args.train_target == \"V\":\n",
    "            train_set = V_train_data \n",
    "            valid_set = V_test_data\n",
    "        else:\n",
    "            train_set = VORTALL_train_data \n",
    "            valid_set = VORTALL_test_data\n",
    "        \n",
    "        \n",
    "\n",
    "    # dataloader ##########################################\n",
    "\n",
    "    train_loader = torch.utils.data.DataLoader(\n",
    "        train_set,\n",
    "        num_workers=32,\n",
    "        batch_size=args.batch_size\n",
    "    )\n",
    "    valid_loader = torch.utils.data.DataLoader(\n",
    "        valid_set,\n",
    "        num_workers=32,\n",
    "        batch_size=args.batch_size\n",
    "    )\n",
    "\n",
    "    # init networks ##########################################\n",
    "\n",
    "    net = AE(args)\n",
    "    net.to(device)\n",
    "    \n",
    "    wandb.watch(net,log='all',log_freq=20)\n",
    "\n",
    "    # optimizer ##########################################\n",
    "    optimizer = optim.AdamW(net.parameters(), args.lr)\n",
    "\n",
    "    # train ################################################\n",
    "    save_path = args.checkpoint + \"/\" + args.dataset + \"/\"\n",
    "\n",
    "    if not os.path.exists(save_path):\n",
    "        os.makedirs(save_path)\n",
    "\n",
    "    for e in range(args.epochs):\n",
    "\n",
    "        recon_loss = 0\n",
    "        bar = tqdm(train_loader)\n",
    "\n",
    "        for yi, _, in bar:\n",
    "            bar.set_description(\"Epoch %d\" % e)\n",
    "            net.train()\n",
    "\n",
    "            optimizer.zero_grad()\n",
    "\n",
    "            yi = yi.to(device)\n",
    "            loss = net(yi)\n",
    "            recon_loss += loss.item()\n",
    "\n",
    "            loss.backward()\n",
    "            optimizer.step()\n",
    "\n",
    "        recon_loss /= len(train_loader)\n",
    "        if e % 10 == 0:\n",
    "            print(\"Epoch \" + str(e) + '\\ttraining loss = ' + str(recon_loss))\n",
    "\n",
    "        valid_loss = 0\n",
    "\n",
    "        for yi, _ in tqdm(valid_loader):\n",
    "            net.eval()\n",
    "\n",
    "            yi = yi.to(device)\n",
    "            eval_loss = net(yi)\n",
    "            valid_loss += eval_loss.item()\n",
    "\n",
    "        valid_loss /= len(valid_loader)\n",
    "\n",
    "        print(\"Epoch \" + str(e) + '\\tvalid loss = ' + str(valid_loss))\n",
    "        \n",
    "        # wandb log ##########################################\n",
    "        log_everything(recon_loss, valid_loss, e)\n",
    "        # save model ##########################################\n",
    "        torch.save(net.state_dict(), save_path + args.model_name)\n",
    "        # save onnx model ##########################################\n",
    "        torch.onnx.export(net, yi, save_path+f\"{args.model_name}.onnx\")\n",
    "        wandb.save(save_path+f\"{args.model_name}.onnx\")\n",
    "    \n",
    "    wandb.define_metric(\"val_loss\", summary=\"min\")\n",
    "\n",
    "        \n",
    "\n",
    "            \n",
    "\n"
   ]
  },
  {
   "cell_type": "code",
   "execution_count": 38,
   "metadata": {
    "id": "A4NcbP5PR_rT"
   },
   "outputs": [],
   "source": [
    "def caculate_FID(args, model_list):\n",
    "  #todo \n",
    "  if args.dataset == \"mnist\":\n",
    "    args.data_path = args.data_path + \"mnist/\"\n",
    "    if not os.path.exists(args.data_path):\n",
    "        os.makedirs(args.data_path)\n",
    "\n",
    "    valid_set = datasets.MNIST(args.data_path, train=False,\n",
    "                                transform=transforms.Compose([\n",
    "                                  transforms.Resize([32, 32]),\n",
    "                                  transforms.ToTensor()]))\n",
    "\n",
    "\n"
   ]
  },
  {
   "cell_type": "code",
   "execution_count": 39,
   "metadata": {},
   "outputs": [],
   "source": [
    "def plot_singular(args):\n",
    "\n",
    "    # dataset ##########################################\n",
    "    # todo : write a make_data_load function\n",
    "    if args.dataset == \"mnist\":\n",
    "        data_path = args.data_path + \"mnist/\"\n",
    "        if not os.path.exists(data_path):\n",
    "            os.makedirs(data_path)\n",
    "        test_set = datasets.MNIST(data_path, train=False,\n",
    "                                  transform=transforms.Compose([\n",
    "                                     transforms.Resize([32, 32]),\n",
    "                                     transforms.ToTensor()]))\n",
    "\n",
    "        test_loader = torch.utils.data.DataLoader(\n",
    "            test_set,\n",
    "            num_workers=32,\n",
    "            batch_size=100\n",
    "        )    \n",
    "    if args.dataset == \"physical\":\n",
    "        U_train_data, V_train_data, VORTALL_train_data= make_physical_data(args, True)\n",
    "        U_test_data, V_test_data, VORTALL_test_data = make_physical_data(args, False)\n",
    "        x, y, nx, ny = make_physical_data(args, True, return_ax=True)\n",
    "        \n",
    "        if args.train_target == \"U\":\n",
    "            train_set = U_train_data \n",
    "            test_set = U_test_data\n",
    "        elif args.train_target == \"V\":\n",
    "            train_set = V_train_data \n",
    "            test_set = V_test_data\n",
    "        else:\n",
    "            train_set = VORTALL_train_data \n",
    "            test_set = VORTALL_test_data\n",
    "\n",
    "        test_loader = torch.utils.data.DataLoader(\n",
    "            test_set,\n",
    "            num_workers=32,\n",
    "            batch_size=100\n",
    "        )    \n",
    "    # load model ##########################################\n",
    "\n",
    "    plt.figure(figsize=(6, 4))\n",
    "\n",
    "    net = AE(args)\n",
    "    net.load_state_dict(torch.load(args.checkpoint + \"/\" + args.dataset + \"/\"\n",
    "                        + args.model_name,\n",
    "                        map_location=torch.device('cpu')))\n",
    "    print(f\"load model {args.model_name}!\")\n",
    "    net.eval()\n",
    "\n",
    "    z = []\n",
    "    for yi, _ in test_loader:\n",
    "        \n",
    "        z_hat = net.encode(yi)\n",
    "        z.append(z_hat)\n",
    "\n",
    "    z = torch.cat(z, dim=0).data.numpy()\n",
    "\n",
    "    c = np.cov(z, rowvar=False)\n",
    "    u, d, v = np.linalg.svd(c)\n",
    "\n",
    "    d = d / d[0]\n",
    "\n",
    "    plt.plot(range(args.n), d)\n",
    "\n",
    "    plt.autoscale(enable=True, axis='y', tight=True)\n",
    "    plt.autoscale(enable=True, axis='x', tight=True)\n",
    "    plt.ylim(0, 1)\n",
    "    plt.xlim(0, args.n)\n",
    "    plt.xlabel(\"Singular Value Rank\")\n",
    "    plt.ylabel(\"Singular Values\")\n",
    "    plt.title(\"Singular Values of Covariance Matrix\")\n",
    "\n",
    "    if args.dataset == \"shape\":\n",
    "        plt.axvline(x=7, color='k', linestyle='dashed', linewidth=1)\n",
    "\n",
    "    path = args.save_path + \"/\" + args.dataset + \"/singular/\"\n",
    "    if not os.path.exists(path):\n",
    "        os.makedirs(path)\n",
    "        \n",
    "    wandb.log({f\"{args.model_name}_Singular\": wandb.Image(plt)})\n",
    "    \n",
    "    plt.savefig(args.save_path + \"/\" + args.dataset + \"/singular/\" +\n",
    "                args.model_name + \".png\", bbox_inches='tight')\n",
    "    \n",
    "\n",
    "    return z"
   ]
  },
  {
   "cell_type": "code",
   "execution_count": 40,
   "metadata": {},
   "outputs": [],
   "source": [
    "def plot_physical_data(args):\n",
    "  data_path = args.data_path + 'physical/'\n",
    "  if not os.path.exists(data_path):\n",
    "      os.makedirs(data_path)\n",
    "  data = sio.loadmat(data_path + 'CYLINDER.mat')\n",
    "  latent_save_path = args.checkpoint + \"/\" + args.dataset + \"/latent_space/\"\n",
    "  if not os.path.exists(latent_save_path):\n",
    "    os.makedirs(latent_save_path)\n",
    "    \n",
    "      \n",
    "  U = data['U']\n",
    "  V = data['V']\n",
    "  VORTALL = data['VORTALL']\n",
    "  X = data['X']\n",
    "  Y = data['Y']\n",
    "  nx = data['nx'].item()\n",
    "  ny = data['ny'].item()\n",
    "  z = np.load(latent_save_path+f'{args.model_name}_{args.train_target}_z.npy')\n",
    "  if z.shape[1] < 5:\n",
    "    num = int(z.shape[1])\n",
    "  else: num = 5\n",
    "  r = range(num)\n",
    "  fig, axs = plt.subplots(nrows=num, ncols=1, figsize=(num*2,num*4))\n",
    "  if int(z.shape[1]) == 1:\n",
    "    axs = [axs]\n",
    "  else: axs = axs.flatten()\n",
    "  idx = 0\n",
    "  for i in r:\n",
    "    pcm = axs[idx].pcolormesh(X,Y,z[:,i].reshape(nx,ny).T,cmap = 'RdBu_r')\n",
    "    fig.colorbar(pcm,ax=axs[idx])\n",
    "    axs[idx].set_title(f'{args.model_name} mode {i+1} for $v$ velocity')\n",
    "    axs[idx].set_aspect('equal')\n",
    "    axs[idx].set_xlabel('x', fontsize = 14)\n",
    "    axs[idx].set_ylabel('y',fontsize = 14)\n",
    "    idx += 1\n",
    "  fig.tight_layout()\n",
    "  wandb.log({f'{args.model_name}_{args.train_target}_reconstructed': wandb.Image(fig)})\n",
    "  # Clear the current figure\n",
    "  plt.clf()"
   ]
  },
  {
   "cell_type": "code",
   "execution_count": 41,
   "metadata": {},
   "outputs": [],
   "source": [
    "def calculate_latent_space(args):\n",
    "    #### Load saved model \n",
    "    net = AE(args)\n",
    "    net.load_state_dict(torch.load(args.checkpoint + \"/\" + args.dataset + \"/\"\n",
    "                        + args.model_name,\n",
    "                        map_location=torch.device('cpu')))\n",
    "    print(f\"load model {args.model_name}_{args.train_target}!\")\n",
    "    net.eval()\n",
    "    \n",
    "    #### Saved Path\n",
    "    latent_save_path = args.checkpoint + \"/\" + args.dataset + \"/latent_space/\"\n",
    "    if not os.path.exists(latent_save_path):\n",
    "        os.makedirs(latent_save_path)\n",
    "    \n",
    "    #### Load whole data\n",
    "    if args.dataset == 'physical':\n",
    "        data_path = args.data_path + 'physical/'\n",
    "        if not os.path.exists(data_path):\n",
    "            os.makedirs(data_path)\n",
    "        data = sio.loadmat(data_path + 'CYLINDER.mat')\n",
    "            \n",
    "        U = data['U']\n",
    "        V = data['V']\n",
    "        VORTALL = data['VORTALL']\n",
    "        X = data['X']\n",
    "        Y = data['Y']\n",
    "        nx = data['nx'].item()\n",
    "        ny = data['ny'].item()\n",
    "        if args.train_target == 'U':\n",
    "            _ = U\n",
    "        elif args.train_target == 'V':\n",
    "            _ = V\n",
    "        elif args.train_target == 'VORTALL':\n",
    "            _ = VORTALL\n",
    "        else:\n",
    "            raise ValueError(\"train_target should be U, V or VORTALL\")\n",
    "\n",
    "        z = net.encode(torch.tensor(_.astype(np.float32)))\n",
    "        np.save(latent_save_path+f'{args.model_name}_{args.train_target}_z.npy', z.detach().numpy())\n",
    "    # todoL: add other dataset\n",
    "        "
   ]
  },
  {
   "cell_type": "code",
   "execution_count": 42,
   "metadata": {},
   "outputs": [],
   "source": [
    "def main(args):\n",
    "    with wandb.init(project=args.wandb_project, config=args, name=args.wandb_run_name, notes=\"This is a baseline for the project\", tags=['baseline'], save_code=True) as run:\n",
    "        pprint(AE(args))\n",
    "        train(args)\n",
    "        plot_singular(args)\n",
    "        calculate_latent_space(args)\n",
    "        plot_physical_data(args)\n",
    "    "
   ]
  },
  {
   "cell_type": "code",
   "execution_count": 43,
   "metadata": {
    "id": "TlR_XzcewUnv"
   },
   "outputs": [],
   "source": [
    "\n",
    "class Config:\n",
    "  def __init__(self):\n",
    "    self.l = 0\n",
    "    self.lr = 0.0001\n",
    "    self.epochs = 100\n",
    "    self.vae = True\n",
    "    self.n = 128\n",
    "    self.batch_size = 128\n",
    "    self.dataset = 'mnist'\n",
    "    self.data_path = './data/'\n",
    "    self.checkpoint = './checkpoint/'\n",
    "    self.gpu = torch.cuda.is_available()\n",
    "    self.beta = 0.1\n",
    "    self.model_name = 'VAE'\n",
    "    self.wandb_run_name = ''\n",
    "    self.save_path = './results/'\n",
    "    self.post_connect = False\n",
    "    self.wandb_project = '10617-project'\n",
    "    self.train_target = 'U'\n",
    "    \n",
    "  def __str__(self):\n",
    "        attributes = [\"{}={}\".format(attr, value) for attr, value in vars(self).items()]\n",
    "        return \"Config({})\".format(\", \".join(attributes))\n",
    "  \n",
    "  def __repr__(self):\n",
    "      return self.__str__()\n",
    "\n"
   ]
  },
  {
   "cell_type": "markdown",
   "metadata": {},
   "source": [
    "### Linear Autoencoder "
   ]
  },
  {
   "cell_type": "code",
   "execution_count": 48,
   "metadata": {},
   "outputs": [],
   "source": [
    "args_linear = Config()\n",
    "args_linear.model_name = \"linearAE\"\n",
    "args_linear.vae = False\n",
    "args_linear.l = 0\n",
    "args_linear.lr = 0.001\n",
    "args_linear.epochs = 50\n",
    "args_linear.post_connect = False\n",
    "args_linear.dataset = \"physical\"\n",
    "args_linear.train_target = \"U\"\n",
    "args_linear.wandb_run_name = \"linearAE\"\n",
    "args_linear.n = 32"
   ]
  },
  {
   "cell_type": "code",
   "execution_count": 49,
   "metadata": {},
   "outputs": [
    {
     "name": "stdout",
     "output_type": "stream",
     "text": [
      "Config(l=0, lr=0.001, epochs=50, vae=False, n=32, batch_size=128, dataset=physical, data_path=./data/, checkpoint=./checkpoint/, gpu=True, beta=0.1, model_name=linearAE, wandb_run_name=linearAE, save_path=./results/, post_connect=False, wandb_project=10617-project, train_target=U)\n"
     ]
    }
   ],
   "source": [
    "pprint(args_linear)"
   ]
  },
  {
   "cell_type": "code",
   "execution_count": 50,
   "metadata": {},
   "outputs": [
    {
     "data": {
      "text/html": [
       "Tracking run with wandb version 0.15.12"
      ],
      "text/plain": [
       "<IPython.core.display.HTML object>"
      ]
     },
     "metadata": {},
     "output_type": "display_data"
    },
    {
     "data": {
      "text/html": [
       "Run data is saved locally in <code>/home/dylan/repo/VAE/wandb/run-20231030_005014-j0h0onkv</code>"
      ],
      "text/plain": [
       "<IPython.core.display.HTML object>"
      ]
     },
     "metadata": {},
     "output_type": "display_data"
    },
    {
     "data": {
      "text/html": [
       "Syncing run <strong><a href='https://wandb.ai/dylanli/10617-project/runs/j0h0onkv' target=\"_blank\">linearAE</a></strong> to <a href='https://wandb.ai/dylanli/10617-project' target=\"_blank\">Weights & Biases</a> (<a href='https://wandb.me/run' target=\"_blank\">docs</a>)<br/>"
      ],
      "text/plain": [
       "<IPython.core.display.HTML object>"
      ]
     },
     "metadata": {},
     "output_type": "display_data"
    },
    {
     "data": {
      "text/html": [
       " View project at <a href='https://wandb.ai/dylanli/10617-project' target=\"_blank\">https://wandb.ai/dylanli/10617-project</a>"
      ],
      "text/plain": [
       "<IPython.core.display.HTML object>"
      ]
     },
     "metadata": {},
     "output_type": "display_data"
    },
    {
     "data": {
      "text/html": [
       " View run at <a href='https://wandb.ai/dylanli/10617-project/runs/j0h0onkv' target=\"_blank\">https://wandb.ai/dylanli/10617-project/runs/j0h0onkv</a>"
      ],
      "text/plain": [
       "<IPython.core.display.HTML object>"
      ]
     },
     "metadata": {},
     "output_type": "display_data"
    },
    {
     "name": "stdout",
     "output_type": "stream",
     "text": [
      "AE(\n",
      "  (final_latent): Physical_Final_Latent(\n",
      "    (fc): Linear(in_features=64, out_features=32, bias=False)\n",
      "  )\n",
      "  (enc): Physical_Encoder(\n",
      "    (mlp): Sequential(\n",
      "      (0): Linear(in_features=250, out_features=128, bias=False)\n",
      "      (1): Linear(in_features=128, out_features=64, bias=False)\n",
      "    )\n",
      "  )\n",
      "  (dec): Physical_Decoder(\n",
      "    (mlp): Sequential(\n",
      "      (0): Linear(in_features=32, out_features=64, bias=False)\n",
      "      (1): Linear(in_features=64, out_features=128, bias=False)\n",
      "      (2): Linear(in_features=128, out_features=250, bias=False)\n",
      "    )\n",
      "  )\n",
      "  (mlp): InnerMLP(\n",
      "    (hidden): ModuleList()\n",
      "  )\n",
      ")\n"
     ]
    },
    {
     "name": "stderr",
     "output_type": "stream",
     "text": [
      "Epoch 0: 100%|██████████| 786/786 [00:04<00:00, 180.31it/s]\n"
     ]
    },
    {
     "name": "stdout",
     "output_type": "stream",
     "text": [
      "Epoch 0\ttraining loss = 0.011450156039530136\n"
     ]
    },
    {
     "name": "stderr",
     "output_type": "stream",
     "text": [
      "100%|██████████| 197/197 [00:02<00:00, 74.52it/s] \n"
     ]
    },
    {
     "name": "stdout",
     "output_type": "stream",
     "text": [
      "Epoch 0\tvalid loss = 0.0010094533412632186\n"
     ]
    },
    {
     "name": "stderr",
     "output_type": "stream",
     "text": [
      "Epoch 1: 100%|██████████| 786/786 [00:04<00:00, 184.70it/s]\n",
      "100%|██████████| 197/197 [00:02<00:00, 75.47it/s] \n"
     ]
    },
    {
     "name": "stdout",
     "output_type": "stream",
     "text": [
      "Epoch 1\tvalid loss = 0.0010594761629617267\n"
     ]
    },
    {
     "name": "stderr",
     "output_type": "stream",
     "text": [
      "Epoch 2: 100%|██████████| 786/786 [00:04<00:00, 187.00it/s]\n",
      "100%|██████████| 197/197 [00:02<00:00, 75.60it/s] \n"
     ]
    },
    {
     "name": "stdout",
     "output_type": "stream",
     "text": [
      "Epoch 2\tvalid loss = 0.0005010133448883012\n"
     ]
    },
    {
     "name": "stderr",
     "output_type": "stream",
     "text": [
      "Epoch 3: 100%|██████████| 786/786 [00:04<00:00, 182.70it/s]\n",
      "100%|██████████| 197/197 [00:02<00:00, 78.09it/s] \n"
     ]
    },
    {
     "name": "stdout",
     "output_type": "stream",
     "text": [
      "Epoch 3\tvalid loss = 0.00043844503430628365\n"
     ]
    },
    {
     "name": "stderr",
     "output_type": "stream",
     "text": [
      "Epoch 4: 100%|██████████| 786/786 [00:04<00:00, 181.29it/s]\n",
      "100%|██████████| 197/197 [00:02<00:00, 76.08it/s] \n",
      "/home/dylan/mambaforge/envs/aiml/lib/python3.10/site-packages/wandb/wandb_torch.py:287: TracerWarning: Converting a tensor to a Python boolean might cause the trace to be incorrect. We can't record the data flow of Python values, so this value will be treated as a constant in the future. This means that the trace might not generalize to other inputs!\n",
      "  return tensor.shape == torch.Size([0]) or (~torch.isfinite(tensor)).all().item()\n",
      "/home/dylan/mambaforge/envs/aiml/lib/python3.10/site-packages/wandb/wandb_torch.py:287: TracerWarning: Converting a tensor to a Python number might cause the trace to be incorrect. We can't record the data flow of Python values, so this value will be treated as a constant in the future. This means that the trace might not generalize to other inputs!\n",
      "  return tensor.shape == torch.Size([0]) or (~torch.isfinite(tensor)).all().item()\n",
      "/home/dylan/mambaforge/envs/aiml/lib/python3.10/site-packages/wandb/wandb_torch.py:290: TracerWarning: Converting a tensor to a Python boolean might cause the trace to be incorrect. We can't record the data flow of Python values, so this value will be treated as a constant in the future. This means that the trace might not generalize to other inputs!\n",
      "  if not torch.isfinite(tensor).all():\n",
      "/home/dylan/mambaforge/envs/aiml/lib/python3.10/site-packages/wandb/wandb_torch.py:207: TracerWarning: Converting a tensor to a Python number might cause the trace to be incorrect. We can't record the data flow of Python values, so this value will be treated as a constant in the future. This means that the trace might not generalize to other inputs!\n",
      "  tmin = flat.min().item()\n",
      "/home/dylan/mambaforge/envs/aiml/lib/python3.10/site-packages/wandb/wandb_torch.py:208: TracerWarning: Converting a tensor to a Python number might cause the trace to be incorrect. We can't record the data flow of Python values, so this value will be treated as a constant in the future. This means that the trace might not generalize to other inputs!\n",
      "  tmax = flat.max().item()\n",
      "/home/dylan/mambaforge/envs/aiml/lib/python3.10/site-packages/wandb/wandb_torch.py:243: TracerWarning: Converting a tensor to a Python list might cause the trace to be incorrect. We can't record the data flow of Python values, so this value will be treated as a constant in the future. This means that the trace might not generalize to other inputs!\n",
      "  {name: wandb.Histogram(np_histogram=(tensor.tolist(), bins.tolist()))},\n"
     ]
    },
    {
     "name": "stdout",
     "output_type": "stream",
     "text": [
      "Epoch 4\tvalid loss = 0.0004815324813498038\n"
     ]
    },
    {
     "name": "stderr",
     "output_type": "stream",
     "text": [
      "Epoch 5: 100%|██████████| 786/786 [00:04<00:00, 183.17it/s]\n",
      "100%|██████████| 197/197 [00:02<00:00, 77.39it/s] \n"
     ]
    },
    {
     "name": "stdout",
     "output_type": "stream",
     "text": [
      "Epoch 5\tvalid loss = 0.000628868405827437\n"
     ]
    },
    {
     "name": "stderr",
     "output_type": "stream",
     "text": [
      "Epoch 6: 100%|██████████| 786/786 [00:04<00:00, 184.79it/s]\n",
      "100%|██████████| 197/197 [00:02<00:00, 76.56it/s] \n"
     ]
    },
    {
     "name": "stdout",
     "output_type": "stream",
     "text": [
      "Epoch 6\tvalid loss = 0.0004518695157845646\n"
     ]
    },
    {
     "name": "stderr",
     "output_type": "stream",
     "text": [
      "Epoch 7: 100%|██████████| 786/786 [00:04<00:00, 181.26it/s]\n",
      "100%|██████████| 197/197 [00:02<00:00, 75.62it/s] \n"
     ]
    },
    {
     "name": "stdout",
     "output_type": "stream",
     "text": [
      "Epoch 7\tvalid loss = 0.0004944284581715184\n"
     ]
    },
    {
     "name": "stderr",
     "output_type": "stream",
     "text": [
      "Epoch 8: 100%|██████████| 786/786 [00:04<00:00, 182.48it/s]\n",
      "100%|██████████| 197/197 [00:02<00:00, 75.62it/s] \n"
     ]
    },
    {
     "name": "stdout",
     "output_type": "stream",
     "text": [
      "Epoch 8\tvalid loss = 0.0006516920454722716\n"
     ]
    },
    {
     "name": "stderr",
     "output_type": "stream",
     "text": [
      "Epoch 9: 100%|██████████| 786/786 [00:04<00:00, 179.99it/s]\n",
      "100%|██████████| 197/197 [00:02<00:00, 77.38it/s] \n"
     ]
    },
    {
     "name": "stdout",
     "output_type": "stream",
     "text": [
      "Epoch 9\tvalid loss = 0.0005475960792379742\n"
     ]
    },
    {
     "name": "stderr",
     "output_type": "stream",
     "text": [
      "Epoch 10: 100%|██████████| 786/786 [00:04<00:00, 181.39it/s]\n"
     ]
    },
    {
     "name": "stdout",
     "output_type": "stream",
     "text": [
      "Epoch 10\ttraining loss = 0.00014296787040990466\n"
     ]
    },
    {
     "name": "stderr",
     "output_type": "stream",
     "text": [
      "100%|██████████| 197/197 [00:02<00:00, 75.88it/s] \n"
     ]
    },
    {
     "name": "stdout",
     "output_type": "stream",
     "text": [
      "Epoch 10\tvalid loss = 0.0006717238554537183\n"
     ]
    },
    {
     "name": "stderr",
     "output_type": "stream",
     "text": [
      "Epoch 11: 100%|██████████| 786/786 [00:04<00:00, 182.56it/s]\n",
      "100%|██████████| 197/197 [00:02<00:00, 76.57it/s] \n"
     ]
    },
    {
     "name": "stdout",
     "output_type": "stream",
     "text": [
      "Epoch 11\tvalid loss = 0.0007231074193215381\n"
     ]
    },
    {
     "name": "stderr",
     "output_type": "stream",
     "text": [
      "Epoch 12: 100%|██████████| 786/786 [00:04<00:00, 182.20it/s]\n",
      "100%|██████████| 197/197 [00:02<00:00, 76.37it/s] \n"
     ]
    },
    {
     "name": "stdout",
     "output_type": "stream",
     "text": [
      "Epoch 12\tvalid loss = 0.0008661378207004885\n"
     ]
    },
    {
     "name": "stderr",
     "output_type": "stream",
     "text": [
      "Epoch 13: 100%|██████████| 786/786 [00:04<00:00, 182.87it/s]\n",
      "100%|██████████| 197/197 [00:02<00:00, 76.59it/s] \n"
     ]
    },
    {
     "name": "stdout",
     "output_type": "stream",
     "text": [
      "Epoch 13\tvalid loss = 0.0008290146472275867\n"
     ]
    },
    {
     "name": "stderr",
     "output_type": "stream",
     "text": [
      "Epoch 14: 100%|██████████| 786/786 [00:04<00:00, 183.33it/s]\n",
      "100%|██████████| 197/197 [00:02<00:00, 74.57it/s] \n"
     ]
    },
    {
     "name": "stdout",
     "output_type": "stream",
     "text": [
      "Epoch 14\tvalid loss = 0.0009835045954053288\n"
     ]
    },
    {
     "name": "stderr",
     "output_type": "stream",
     "text": [
      "Epoch 15: 100%|██████████| 786/786 [00:04<00:00, 179.90it/s]\n",
      "100%|██████████| 197/197 [00:02<00:00, 75.61it/s] \n"
     ]
    },
    {
     "name": "stdout",
     "output_type": "stream",
     "text": [
      "Epoch 15\tvalid loss = 0.0006212356639863464\n"
     ]
    },
    {
     "name": "stderr",
     "output_type": "stream",
     "text": [
      "Epoch 16: 100%|██████████| 786/786 [00:04<00:00, 178.84it/s]\n",
      "100%|██████████| 197/197 [00:02<00:00, 74.86it/s] \n"
     ]
    },
    {
     "name": "stdout",
     "output_type": "stream",
     "text": [
      "Epoch 16\tvalid loss = 0.0008146054698151376\n"
     ]
    },
    {
     "name": "stderr",
     "output_type": "stream",
     "text": [
      "Epoch 17: 100%|██████████| 786/786 [00:04<00:00, 177.07it/s]\n",
      "100%|██████████| 197/197 [00:02<00:00, 76.22it/s] \n"
     ]
    },
    {
     "name": "stdout",
     "output_type": "stream",
     "text": [
      "Epoch 17\tvalid loss = 0.0008242602538681462\n"
     ]
    },
    {
     "name": "stderr",
     "output_type": "stream",
     "text": [
      "Epoch 18: 100%|██████████| 786/786 [00:04<00:00, 183.82it/s]\n",
      "100%|██████████| 197/197 [00:02<00:00, 76.61it/s] \n"
     ]
    },
    {
     "name": "stdout",
     "output_type": "stream",
     "text": [
      "Epoch 18\tvalid loss = 0.0007712292682313298\n"
     ]
    },
    {
     "name": "stderr",
     "output_type": "stream",
     "text": [
      "Epoch 19: 100%|██████████| 786/786 [00:04<00:00, 180.85it/s]\n",
      "100%|██████████| 197/197 [00:02<00:00, 76.37it/s] \n"
     ]
    },
    {
     "name": "stdout",
     "output_type": "stream",
     "text": [
      "Epoch 19\tvalid loss = 0.0006694765884484174\n"
     ]
    },
    {
     "name": "stderr",
     "output_type": "stream",
     "text": [
      "Epoch 20: 100%|██████████| 786/786 [00:04<00:00, 177.11it/s]\n"
     ]
    },
    {
     "name": "stdout",
     "output_type": "stream",
     "text": [
      "Epoch 20\ttraining loss = 0.00010065010506864574\n"
     ]
    },
    {
     "name": "stderr",
     "output_type": "stream",
     "text": [
      "100%|██████████| 197/197 [00:02<00:00, 75.29it/s] \n"
     ]
    },
    {
     "name": "stdout",
     "output_type": "stream",
     "text": [
      "Epoch 20\tvalid loss = 0.0008207328727930964\n"
     ]
    },
    {
     "name": "stderr",
     "output_type": "stream",
     "text": [
      "Epoch 21: 100%|██████████| 786/786 [00:04<00:00, 180.91it/s]\n",
      "100%|██████████| 197/197 [00:02<00:00, 73.62it/s] \n"
     ]
    },
    {
     "name": "stdout",
     "output_type": "stream",
     "text": [
      "Epoch 21\tvalid loss = 0.0007897356968195187\n"
     ]
    },
    {
     "name": "stderr",
     "output_type": "stream",
     "text": [
      "Epoch 22: 100%|██████████| 786/786 [00:04<00:00, 182.04it/s]\n",
      "100%|██████████| 197/197 [00:02<00:00, 74.88it/s] \n"
     ]
    },
    {
     "name": "stdout",
     "output_type": "stream",
     "text": [
      "Epoch 22\tvalid loss = 0.0008135680538063826\n"
     ]
    },
    {
     "name": "stderr",
     "output_type": "stream",
     "text": [
      "Epoch 23: 100%|██████████| 786/786 [00:04<00:00, 180.97it/s]\n",
      "100%|██████████| 197/197 [00:02<00:00, 75.94it/s] \n"
     ]
    },
    {
     "name": "stdout",
     "output_type": "stream",
     "text": [
      "Epoch 23\tvalid loss = 0.000719586947488452\n"
     ]
    },
    {
     "name": "stderr",
     "output_type": "stream",
     "text": [
      "Epoch 24: 100%|██████████| 786/786 [00:04<00:00, 181.56it/s]\n",
      "100%|██████████| 197/197 [00:02<00:00, 75.38it/s] \n"
     ]
    },
    {
     "name": "stdout",
     "output_type": "stream",
     "text": [
      "Epoch 24\tvalid loss = 0.0008405251938909963\n"
     ]
    },
    {
     "name": "stderr",
     "output_type": "stream",
     "text": [
      "Epoch 25: 100%|██████████| 786/786 [00:04<00:00, 178.58it/s]\n",
      "100%|██████████| 197/197 [00:02<00:00, 74.76it/s] \n"
     ]
    },
    {
     "name": "stdout",
     "output_type": "stream",
     "text": [
      "Epoch 25\tvalid loss = 0.0006248134180671786\n"
     ]
    },
    {
     "name": "stderr",
     "output_type": "stream",
     "text": [
      "Epoch 26: 100%|██████████| 786/786 [00:04<00:00, 178.35it/s]\n",
      "100%|██████████| 197/197 [00:02<00:00, 76.17it/s] \n"
     ]
    },
    {
     "name": "stdout",
     "output_type": "stream",
     "text": [
      "Epoch 26\tvalid loss = 0.0006528979668238313\n"
     ]
    },
    {
     "name": "stderr",
     "output_type": "stream",
     "text": [
      "Epoch 27: 100%|██████████| 786/786 [00:04<00:00, 179.58it/s]\n",
      "100%|██████████| 197/197 [00:02<00:00, 74.57it/s] \n"
     ]
    },
    {
     "name": "stdout",
     "output_type": "stream",
     "text": [
      "Epoch 27\tvalid loss = 0.000668180447142999\n"
     ]
    },
    {
     "name": "stderr",
     "output_type": "stream",
     "text": [
      "Epoch 28: 100%|██████████| 786/786 [00:04<00:00, 180.97it/s]\n",
      "100%|██████████| 197/197 [00:02<00:00, 75.01it/s] \n"
     ]
    },
    {
     "name": "stdout",
     "output_type": "stream",
     "text": [
      "Epoch 28\tvalid loss = 0.00075843889113125\n"
     ]
    },
    {
     "name": "stderr",
     "output_type": "stream",
     "text": [
      "Epoch 29: 100%|██████████| 786/786 [00:04<00:00, 177.73it/s]\n",
      "100%|██████████| 197/197 [00:02<00:00, 76.47it/s] \n"
     ]
    },
    {
     "name": "stdout",
     "output_type": "stream",
     "text": [
      "Epoch 29\tvalid loss = 0.0006641412586630274\n"
     ]
    },
    {
     "name": "stderr",
     "output_type": "stream",
     "text": [
      "Epoch 30: 100%|██████████| 786/786 [00:04<00:00, 176.40it/s]\n"
     ]
    },
    {
     "name": "stdout",
     "output_type": "stream",
     "text": [
      "Epoch 30\ttraining loss = 0.00041819695176219186\n"
     ]
    },
    {
     "name": "stderr",
     "output_type": "stream",
     "text": [
      "100%|██████████| 197/197 [00:02<00:00, 75.13it/s] \n"
     ]
    },
    {
     "name": "stdout",
     "output_type": "stream",
     "text": [
      "Epoch 30\tvalid loss = 0.0005753541040691655\n"
     ]
    },
    {
     "name": "stderr",
     "output_type": "stream",
     "text": [
      "Epoch 31: 100%|██████████| 786/786 [00:04<00:00, 174.95it/s]\n",
      "100%|██████████| 197/197 [00:02<00:00, 74.70it/s] \n"
     ]
    },
    {
     "name": "stdout",
     "output_type": "stream",
     "text": [
      "Epoch 31\tvalid loss = 0.000855010679921816\n"
     ]
    },
    {
     "name": "stderr",
     "output_type": "stream",
     "text": [
      "Epoch 32: 100%|██████████| 786/786 [00:04<00:00, 177.85it/s]\n",
      "100%|██████████| 197/197 [00:02<00:00, 74.74it/s] \n"
     ]
    },
    {
     "name": "stdout",
     "output_type": "stream",
     "text": [
      "Epoch 32\tvalid loss = 0.0006256915255804867\n"
     ]
    },
    {
     "name": "stderr",
     "output_type": "stream",
     "text": [
      "Epoch 33: 100%|██████████| 786/786 [00:04<00:00, 176.41it/s]\n",
      "100%|██████████| 197/197 [00:02<00:00, 76.35it/s] \n"
     ]
    },
    {
     "name": "stdout",
     "output_type": "stream",
     "text": [
      "Epoch 33\tvalid loss = 0.0008455457751311807\n"
     ]
    },
    {
     "name": "stderr",
     "output_type": "stream",
     "text": [
      "Epoch 34: 100%|██████████| 786/786 [00:04<00:00, 181.21it/s]\n",
      "100%|██████████| 197/197 [00:02<00:00, 76.08it/s] \n"
     ]
    },
    {
     "name": "stdout",
     "output_type": "stream",
     "text": [
      "Epoch 34\tvalid loss = 0.000978721335570465\n"
     ]
    },
    {
     "name": "stderr",
     "output_type": "stream",
     "text": [
      "Epoch 35: 100%|██████████| 786/786 [00:04<00:00, 181.94it/s]\n",
      "100%|██████████| 197/197 [00:02<00:00, 75.26it/s] \n"
     ]
    },
    {
     "name": "stdout",
     "output_type": "stream",
     "text": [
      "Epoch 35\tvalid loss = 0.0010493415802880308\n"
     ]
    },
    {
     "name": "stderr",
     "output_type": "stream",
     "text": [
      "Epoch 36: 100%|██████████| 786/786 [00:04<00:00, 182.74it/s]\n",
      "100%|██████████| 197/197 [00:02<00:00, 74.66it/s] \n"
     ]
    },
    {
     "name": "stdout",
     "output_type": "stream",
     "text": [
      "Epoch 36\tvalid loss = 0.0009313242125184852\n"
     ]
    },
    {
     "name": "stderr",
     "output_type": "stream",
     "text": [
      "Epoch 37: 100%|██████████| 786/786 [00:04<00:00, 179.54it/s]\n",
      "100%|██████████| 197/197 [00:02<00:00, 74.97it/s] \n"
     ]
    },
    {
     "name": "stdout",
     "output_type": "stream",
     "text": [
      "Epoch 37\tvalid loss = 0.0008987626162780741\n"
     ]
    },
    {
     "name": "stderr",
     "output_type": "stream",
     "text": [
      "Epoch 38: 100%|██████████| 786/786 [00:04<00:00, 183.07it/s]\n",
      "100%|██████████| 197/197 [00:02<00:00, 75.91it/s] \n"
     ]
    },
    {
     "name": "stdout",
     "output_type": "stream",
     "text": [
      "Epoch 38\tvalid loss = 0.0007071689394210184\n"
     ]
    },
    {
     "name": "stderr",
     "output_type": "stream",
     "text": [
      "Epoch 39: 100%|██████████| 786/786 [00:04<00:00, 179.98it/s]\n",
      "100%|██████████| 197/197 [00:02<00:00, 75.89it/s] \n"
     ]
    },
    {
     "name": "stdout",
     "output_type": "stream",
     "text": [
      "Epoch 39\tvalid loss = 0.000872380941450155\n"
     ]
    },
    {
     "name": "stderr",
     "output_type": "stream",
     "text": [
      "Epoch 40: 100%|██████████| 786/786 [00:04<00:00, 178.57it/s]\n"
     ]
    },
    {
     "name": "stdout",
     "output_type": "stream",
     "text": [
      "Epoch 40\ttraining loss = 0.00020226417962976136\n"
     ]
    },
    {
     "name": "stderr",
     "output_type": "stream",
     "text": [
      "100%|██████████| 197/197 [00:02<00:00, 76.18it/s] \n"
     ]
    },
    {
     "name": "stdout",
     "output_type": "stream",
     "text": [
      "Epoch 40\tvalid loss = 0.0011346899300036883\n"
     ]
    },
    {
     "name": "stderr",
     "output_type": "stream",
     "text": [
      "Epoch 41: 100%|██████████| 786/786 [00:04<00:00, 182.79it/s]\n",
      "100%|██████████| 197/197 [00:02<00:00, 74.12it/s] \n"
     ]
    },
    {
     "name": "stdout",
     "output_type": "stream",
     "text": [
      "Epoch 41\tvalid loss = 0.00091814575812881\n"
     ]
    },
    {
     "name": "stderr",
     "output_type": "stream",
     "text": [
      "Epoch 42: 100%|██████████| 786/786 [00:04<00:00, 181.57it/s]\n",
      "100%|██████████| 197/197 [00:02<00:00, 74.80it/s] \n"
     ]
    },
    {
     "name": "stdout",
     "output_type": "stream",
     "text": [
      "Epoch 42\tvalid loss = 0.0010858432175653637\n"
     ]
    },
    {
     "name": "stderr",
     "output_type": "stream",
     "text": [
      "Epoch 43: 100%|██████████| 786/786 [00:04<00:00, 179.52it/s]\n",
      "100%|██████████| 197/197 [00:02<00:00, 76.56it/s] \n"
     ]
    },
    {
     "name": "stdout",
     "output_type": "stream",
     "text": [
      "Epoch 43\tvalid loss = 0.0011176964496930133\n"
     ]
    },
    {
     "name": "stderr",
     "output_type": "stream",
     "text": [
      "Epoch 44: 100%|██████████| 786/786 [00:04<00:00, 179.31it/s]\n",
      "100%|██████████| 197/197 [00:02<00:00, 75.77it/s] \n"
     ]
    },
    {
     "name": "stdout",
     "output_type": "stream",
     "text": [
      "Epoch 44\tvalid loss = 0.0009038296832051837\n"
     ]
    },
    {
     "name": "stderr",
     "output_type": "stream",
     "text": [
      "Epoch 45: 100%|██████████| 786/786 [00:04<00:00, 180.06it/s]\n",
      "100%|██████████| 197/197 [00:02<00:00, 75.12it/s] \n"
     ]
    },
    {
     "name": "stdout",
     "output_type": "stream",
     "text": [
      "Epoch 45\tvalid loss = 0.0008653109339343592\n"
     ]
    },
    {
     "name": "stderr",
     "output_type": "stream",
     "text": [
      "Epoch 46: 100%|██████████| 786/786 [00:04<00:00, 178.77it/s]\n",
      "100%|██████████| 197/197 [00:02<00:00, 76.85it/s] \n"
     ]
    },
    {
     "name": "stdout",
     "output_type": "stream",
     "text": [
      "Epoch 46\tvalid loss = 0.0005415563681694741\n"
     ]
    },
    {
     "name": "stderr",
     "output_type": "stream",
     "text": [
      "Epoch 47: 100%|██████████| 786/786 [00:04<00:00, 178.94it/s]\n",
      "100%|██████████| 197/197 [00:02<00:00, 75.42it/s] \n"
     ]
    },
    {
     "name": "stdout",
     "output_type": "stream",
     "text": [
      "Epoch 47\tvalid loss = 0.0009544211542131888\n"
     ]
    },
    {
     "name": "stderr",
     "output_type": "stream",
     "text": [
      "Epoch 48: 100%|██████████| 786/786 [00:04<00:00, 180.49it/s]\n",
      "100%|██████████| 197/197 [00:02<00:00, 70.91it/s] \n"
     ]
    },
    {
     "name": "stdout",
     "output_type": "stream",
     "text": [
      "Epoch 48\tvalid loss = 0.0008045432394486261\n"
     ]
    },
    {
     "name": "stderr",
     "output_type": "stream",
     "text": [
      "Epoch 49: 100%|██████████| 786/786 [00:04<00:00, 179.71it/s]\n",
      "100%|██████████| 197/197 [00:02<00:00, 77.23it/s] \n"
     ]
    },
    {
     "name": "stdout",
     "output_type": "stream",
     "text": [
      "Epoch 49\tvalid loss = 0.0008726392336980721\n",
      "load model linearAE!\n",
      "load model linearAE_U!\n"
     ]
    },
    {
     "data": {
      "text/html": [
       "Waiting for W&B process to finish... <strong style=\"color:green\">(success).</strong>"
      ],
      "text/plain": [
       "<IPython.core.display.HTML object>"
      ]
     },
     "metadata": {},
     "output_type": "display_data"
    },
    {
     "data": {
      "text/html": [
       "<style>\n",
       "    table.wandb td:nth-child(1) { padding: 0 10px; text-align: left ; width: auto;} td:nth-child(2) {text-align: left ; width: 100%}\n",
       "    .wandb-row { display: flex; flex-direction: row; flex-wrap: wrap; justify-content: flex-start; width: 100% }\n",
       "    .wandb-col { display: flex; flex-direction: column; flex-basis: 100%; flex: 1; padding: 10px; }\n",
       "    </style>\n",
       "<div class=\"wandb-row\"><div class=\"wandb-col\"><h3>Run history:</h3><br/><table class=\"wandb\"><tr><td>epoch</td><td>▁▁▁▁▂▂▂▂▂▃▃▃▃▃▃▄▄▄▄▄▅▅▅▅▅▅▆▆▆▆▆▆▇▇▇▇▇███</td></tr><tr><td>loss</td><td>█▂▃▁▁▃▁▁▁▂▁▂▂▁▁▁▁▁▁▂▂▁▁▁▁▁▁▁▁▁▁▁▁▁▁▁▁▁▁▁</td></tr><tr><td>val_loss</td><td>▇▇▂▁▃▁▂▃▃▄▅▅▃▅▅▄▅▅▅▄▃▃▃▄▂▅▃▅▇▆▆▄█▆██▅▂▆▅</td></tr></table><br/></div><div class=\"wandb-col\"><h3>Run summary:</h3><br/><table class=\"wandb\"><tr><td>epoch</td><td>49</td></tr><tr><td>loss</td><td>0.00011</td></tr><tr><td>val_loss</td><td>0.00087</td></tr></table><br/></div></div>"
      ],
      "text/plain": [
       "<IPython.core.display.HTML object>"
      ]
     },
     "metadata": {},
     "output_type": "display_data"
    },
    {
     "data": {
      "text/html": [
       " View run <strong style=\"color:#cdcd00\">linearAE</strong> at: <a href='https://wandb.ai/dylanli/10617-project/runs/j0h0onkv' target=\"_blank\">https://wandb.ai/dylanli/10617-project/runs/j0h0onkv</a><br/> View job at <a href='https://wandb.ai/dylanli/10617-project/jobs/QXJ0aWZhY3RDb2xsZWN0aW9uOjExMTAzODkzNw==/version_details/v25' target=\"_blank\">https://wandb.ai/dylanli/10617-project/jobs/QXJ0aWZhY3RDb2xsZWN0aW9uOjExMTAzODkzNw==/version_details/v25</a><br/>Synced 6 W&B file(s), 2 media file(s), 4 artifact file(s) and 2 other file(s)"
      ],
      "text/plain": [
       "<IPython.core.display.HTML object>"
      ]
     },
     "metadata": {},
     "output_type": "display_data"
    },
    {
     "data": {
      "text/html": [
       "Find logs at: <code>./wandb/run-20231030_005014-j0h0onkv/logs</code>"
      ],
      "text/plain": [
       "<IPython.core.display.HTML object>"
      ]
     },
     "metadata": {},
     "output_type": "display_data"
    },
    {
     "data": {
      "image/png": "[encoded data removed]",
      "image/svg+xml": [
       "<?xml version=\"1.0\" encoding=\"utf-8\" standalone=\"no\"?>\n",
       "<!DOCTYPE svg PUBLIC \"-//W3C//DTD SVG 1.1//EN\"\n",
       "  \"http://www.w3.org/Graphics/SVG/1.1/DTD/svg11.dtd\">\n",
       "<svg xmlns:xlink=\"http://www.w3.org/1999/xlink\" width=\"385.78125pt\" height=\"281.634375pt\" viewBox=\"0 0 385.78125 281.634375\" xmlns=\"http://www.w3.org/2000/svg\" version=\"1.1\">\n",
       " <metadata>\n",
       "  <rdf:RDF xmlns:dc=\"http://purl.org/dc/elements/1.1/\" xmlns:cc=\"http://creativecommons.org/ns#\" xmlns:rdf=\"http://www.w3.org/1999/02/22-rdf-syntax-ns#\">\n",
       "   <cc:Work>\n",
       "    <dc:type rdf:resource=\"http://purl.org/dc/dcmitype/StillImage\"/>\n",
       "    <dc:date>2023-10-30T00:56:45.076057</dc:date>\n",
       "    <dc:format>image/svg+xml</dc:format>\n",
       "    <dc:creator>\n",
       "     <cc:Agent>\n",
       "      <dc:title>Matplotlib v3.8.0, https://matplotlib.org/</dc:title>\n",
       "     </cc:Agent>\n",
       "    </dc:creator>\n",
       "   </cc:Work>\n",
       "  </rdf:RDF>\n",
       " </metadata>\n",
       " <defs>\n",
       "  <style type=\"text/css\">*{stroke-linejoin: round; stroke-linecap: butt}</style>\n",
       " </defs>\n",
       " <g id=\"figure_1\">\n",
       "  <g id=\"patch_1\">\n",
       "   <path d=\"M 0 281.634375 \n",
       "L 385.78125 281.634375 \n",
       "L 385.78125 0 \n",
       "L 0 0 \n",
       "z\n",
       "\"/>\n",
       "  </g>\n",
       "  <g id=\"axes_1\">\n",
       "   <g id=\"patch_2\">\n",
       "    <path d=\"M 43.78125 244.078125 \n",
       "L 378.58125 244.078125 \n",
       "L 378.58125 22.318125 \n",
       "L 43.78125 22.318125 \n",
       "z\n",
       "\"/>\n",
       "   </g>\n",
       "   <g id=\"matplotlib.axis_1\">\n",
       "    <g id=\"xtick_1\">\n",
       "     <g id=\"line2d_1\">\n",
       "      <defs>\n",
       "       <path id=\"m09e4f175ff\" d=\"M 0 0 \n",
       "L 0 3.5 \n",
       "\" style=\"stroke: #ffffff; stroke-width: 0.8\"/>\n",
       "      </defs>\n",
       "      <g>\n",
       "       <use xlink:href=\"#m09e4f175ff\" x=\"43.78125\" y=\"244.078125\" style=\"fill: #ffffff; stroke: #ffffff; stroke-width: 0.8\"/>\n",
       "      </g>\n",
       "     </g>\n",
       "     <g id=\"text_1\">\n",
       "      <!-- 0 -->\n",
       "      <g style=\"fill: #ffffff\" transform=\"translate(40.6 258.676562) scale(0.1 -0.1)\">\n",
       "       <defs>\n",
       "        <path id=\"DejaVuSans-30\" d=\"M 2034 4250 \n",
       "Q 1547 4250 1301 3770 \n",
       "Q 1056 3291 1056 2328 \n",
       "Q 1056 1369 1301 889 \n",
       "Q 1547 409 2034 409 \n",
       "Q 2525 409 2770 889 \n",
       "Q 3016 1369 3016 2328 \n",
       "Q 3016 3291 2770 3770 \n",
       "Q 2525 4250 2034 4250 \n",
       "z\n",
       "M 2034 4750 \n",
       "Q 2819 4750 3233 4129 \n",
       "Q 3647 3509 3647 2328 \n",
       "Q 3647 1150 3233 529 \n",
       "Q 2819 -91 2034 -91 \n",
       "Q 1250 -91 836 529 \n",
       "Q 422 1150 422 2328 \n",
       "Q 422 3509 836 4129 \n",
       "Q 1250 4750 2034 4750 \n",
       "z\n",
       "\" transform=\"scale(0.015625)\"/>\n",
       "       </defs>\n",
       "       <use xlink:href=\"#DejaVuSans-30\"/>\n",
       "      </g>\n",
       "     </g>\n",
       "    </g>\n",
       "    <g id=\"xtick_2\">\n",
       "     <g id=\"line2d_2\">\n",
       "      <g>\n",
       "       <use xlink:href=\"#m09e4f175ff\" x=\"96.09375\" y=\"244.078125\" style=\"fill: #ffffff; stroke: #ffffff; stroke-width: 0.8\"/>\n",
       "      </g>\n",
       "     </g>\n",
       "     <g id=\"text_2\">\n",
       "      <!-- 5 -->\n",
       "      <g style=\"fill: #ffffff\" transform=\"translate(92.9125 258.676562) scale(0.1 -0.1)\">\n",
       "       <defs>\n",
       "        <path id=\"DejaVuSans-35\" d=\"M 691 4666 \n",
       "L 3169 4666 \n",
       "L 3169 4134 \n",
       "L 1269 4134 \n",
       "L 1269 2991 \n",
       "Q 1406 3038 1543 3061 \n",
       "Q 1681 3084 1819 3084 \n",
       "Q 2600 3084 3056 2656 \n",
       "Q 3513 2228 3513 1497 \n",
       "Q 3513 744 3044 326 \n",
       "Q 2575 -91 1722 -91 \n",
       "Q 1428 -91 1123 -41 \n",
       "Q 819 9 494 109 \n",
       "L 494 744 \n",
       "Q 775 591 1075 516 \n",
       "Q 1375 441 1709 441 \n",
       "Q 2250 441 2565 725 \n",
       "Q 2881 1009 2881 1497 \n",
       "Q 2881 1984 2565 2268 \n",
       "Q 2250 2553 1709 2553 \n",
       "Q 1456 2553 1204 2497 \n",
       "Q 953 2441 691 2322 \n",
       "L 691 4666 \n",
       "z\n",
       "\" transform=\"scale(0.015625)\"/>\n",
       "       </defs>\n",
       "       <use xlink:href=\"#DejaVuSans-35\"/>\n",
       "      </g>\n",
       "     </g>\n",
       "    </g>\n",
       "    <g id=\"xtick_3\">\n",
       "     <g id=\"line2d_3\">\n",
       "      <g>\n",
       "       <use xlink:href=\"#m09e4f175ff\" x=\"148.40625\" y=\"244.078125\" style=\"fill: #ffffff; stroke: #ffffff; stroke-width: 0.8\"/>\n",
       "      </g>\n",
       "     </g>\n",
       "     <g id=\"text_3\">\n",
       "      <!-- 10 -->\n",
       "      <g style=\"fill: #ffffff\" transform=\"translate(142.04375 258.676562) scale(0.1 -0.1)\">\n",
       "       <defs>\n",
       "        <path id=\"DejaVuSans-31\" d=\"M 794 531 \n",
       "L 1825 531 \n",
       "L 1825 4091 \n",
       "L 703 3866 \n",
       "L 703 4441 \n",
       "L 1819 4666 \n",
       "L 2450 4666 \n",
       "L 2450 531 \n",
       "L 3481 531 \n",
       "L 3481 0 \n",
       "L 794 0 \n",
       "L 794 531 \n",
       "z\n",
       "\" transform=\"scale(0.015625)\"/>\n",
       "       </defs>\n",
       "       <use xlink:href=\"#DejaVuSans-31\"/>\n",
       "       <use xlink:href=\"#DejaVuSans-30\" x=\"63.623047\"/>\n",
       "      </g>\n",
       "     </g>\n",
       "    </g>\n",
       "    <g id=\"xtick_4\">\n",
       "     <g id=\"line2d_4\">\n",
       "      <g>\n",
       "       <use xlink:href=\"#m09e4f175ff\" x=\"200.71875\" y=\"244.078125\" style=\"fill: #ffffff; stroke: #ffffff; stroke-width: 0.8\"/>\n",
       "      </g>\n",
       "     </g>\n",
       "     <g id=\"text_4\">\n",
       "      <!-- 15 -->\n",
       "      <g style=\"fill: #ffffff\" transform=\"translate(194.35625 258.676562) scale(0.1 -0.1)\">\n",
       "       <use xlink:href=\"#DejaVuSans-31\"/>\n",
       "       <use xlink:href=\"#DejaVuSans-35\" x=\"63.623047\"/>\n",
       "      </g>\n",
       "     </g>\n",
       "    </g>\n",
       "    <g id=\"xtick_5\">\n",
       "     <g id=\"line2d_5\">\n",
       "      <g>\n",
       "       <use xlink:href=\"#m09e4f175ff\" x=\"253.03125\" y=\"244.078125\" style=\"fill: #ffffff; stroke: #ffffff; stroke-width: 0.8\"/>\n",
       "      </g>\n",
       "     </g>\n",
       "     <g id=\"text_5\">\n",
       "      <!-- 20 -->\n",
       "      <g style=\"fill: #ffffff\" transform=\"translate(246.66875 258.676562) scale(0.1 -0.1)\">\n",
       "       <defs>\n",
       "        <path id=\"DejaVuSans-32\" d=\"M 1228 531 \n",
       "L 3431 531 \n",
       "L 3431 0 \n",
       "L 469 0 \n",
       "L 469 531 \n",
       "Q 828 903 1448 1529 \n",
       "Q 2069 2156 2228 2338 \n",
       "Q 2531 2678 2651 2914 \n",
       "Q 2772 3150 2772 3378 \n",
       "Q 2772 3750 2511 3984 \n",
       "Q 2250 4219 1831 4219 \n",
       "Q 1534 4219 1204 4116 \n",
       "Q 875 4013 500 3803 \n",
       "L 500 4441 \n",
       "Q 881 4594 1212 4672 \n",
       "Q 1544 4750 1819 4750 \n",
       "Q 2544 4750 2975 4387 \n",
       "Q 3406 4025 3406 3419 \n",
       "Q 3406 3131 3298 2873 \n",
       "Q 3191 2616 2906 2266 \n",
       "Q 2828 2175 2409 1742 \n",
       "Q 1991 1309 1228 531 \n",
       "z\n",
       "\" transform=\"scale(0.015625)\"/>\n",
       "       </defs>\n",
       "       <use xlink:href=\"#DejaVuSans-32\"/>\n",
       "       <use xlink:href=\"#DejaVuSans-30\" x=\"63.623047\"/>\n",
       "      </g>\n",
       "     </g>\n",
       "    </g>\n",
       "    <g id=\"xtick_6\">\n",
       "     <g id=\"line2d_6\">\n",
       "      <g>\n",
       "       <use xlink:href=\"#m09e4f175ff\" x=\"305.34375\" y=\"244.078125\" style=\"fill: #ffffff; stroke: #ffffff; stroke-width: 0.8\"/>\n",
       "      </g>\n",
       "     </g>\n",
       "     <g id=\"text_6\">\n",
       "      <!-- 25 -->\n",
       "      <g style=\"fill: #ffffff\" transform=\"translate(298.98125 258.676562) scale(0.1 -0.1)\">\n",
       "       <use xlink:href=\"#DejaVuSans-32\"/>\n",
       "       <use xlink:href=\"#DejaVuSans-35\" x=\"63.623047\"/>\n",
       "      </g>\n",
       "     </g>\n",
       "    </g>\n",
       "    <g id=\"xtick_7\">\n",
       "     <g id=\"line2d_7\">\n",
       "      <g>\n",
       "       <use xlink:href=\"#m09e4f175ff\" x=\"357.65625\" y=\"244.078125\" style=\"fill: #ffffff; stroke: #ffffff; stroke-width: 0.8\"/>\n",
       "      </g>\n",
       "     </g>\n",
       "     <g id=\"text_7\">\n",
       "      <!-- 30 -->\n",
       "      <g style=\"fill: #ffffff\" transform=\"translate(351.29375 258.676562) scale(0.1 -0.1)\">\n",
       "       <defs>\n",
       "        <path id=\"DejaVuSans-33\" d=\"M 2597 2516 \n",
       "Q 3050 2419 3304 2112 \n",
       "Q 3559 1806 3559 1356 \n",
       "Q 3559 666 3084 287 \n",
       "Q 2609 -91 1734 -91 \n",
       "Q 1441 -91 1130 -33 \n",
       "Q 819 25 488 141 \n",
       "L 488 750 \n",
       "Q 750 597 1062 519 \n",
       "Q 1375 441 1716 441 \n",
       "Q 2309 441 2620 675 \n",
       "Q 2931 909 2931 1356 \n",
       "Q 2931 1769 2642 2001 \n",
       "Q 2353 2234 1838 2234 \n",
       "L 1294 2234 \n",
       "L 1294 2753 \n",
       "L 1863 2753 \n",
       "Q 2328 2753 2575 2939 \n",
       "Q 2822 3125 2822 3475 \n",
       "Q 2822 3834 2567 4026 \n",
       "Q 2313 4219 1838 4219 \n",
       "Q 1578 4219 1281 4162 \n",
       "Q 984 4106 628 3988 \n",
       "L 628 4550 \n",
       "Q 988 4650 1302 4700 \n",
       "Q 1616 4750 1894 4750 \n",
       "Q 2613 4750 3031 4423 \n",
       "Q 3450 4097 3450 3541 \n",
       "Q 3450 3153 3228 2886 \n",
       "Q 3006 2619 2597 2516 \n",
       "z\n",
       "\" transform=\"scale(0.015625)\"/>\n",
       "       </defs>\n",
       "       <use xlink:href=\"#DejaVuSans-33\"/>\n",
       "       <use xlink:href=\"#DejaVuSans-30\" x=\"63.623047\"/>\n",
       "      </g>\n",
       "     </g>\n",
       "    </g>\n",
       "    <g id=\"text_8\">\n",
       "     <!-- Singular Value Rank -->\n",
       "     <g style=\"fill: #ffffff\" transform=\"translate(161.198438 272.354687) scale(0.1 -0.1)\">\n",
       "      <defs>\n",
       "       <path id=\"DejaVuSans-53\" d=\"M 3425 4513 \n",
       "L 3425 3897 \n",
       "Q 3066 4069 2747 4153 \n",
       "Q 2428 4238 2131 4238 \n",
       "Q 1616 4238 1336 4038 \n",
       "Q 1056 3838 1056 3469 \n",
       "Q 1056 3159 1242 3001 \n",
       "Q 1428 2844 1947 2747 \n",
       "L 2328 2669 \n",
       "Q 3034 2534 3370 2195 \n",
       "Q 3706 1856 3706 1288 \n",
       "Q 3706 609 3251 259 \n",
       "Q 2797 -91 1919 -91 \n",
       "Q 1588 -91 1214 -16 \n",
       "Q 841 59 441 206 \n",
       "L 441 856 \n",
       "Q 825 641 1194 531 \n",
       "Q 1563 422 1919 422 \n",
       "Q 2459 422 2753 634 \n",
       "Q 3047 847 3047 1241 \n",
       "Q 3047 1584 2836 1778 \n",
       "Q 2625 1972 2144 2069 \n",
       "L 1759 2144 \n",
       "Q 1053 2284 737 2584 \n",
       "Q 422 2884 422 3419 \n",
       "Q 422 4038 858 4394 \n",
       "Q 1294 4750 2059 4750 \n",
       "Q 2388 4750 2728 4690 \n",
       "Q 3069 4631 3425 4513 \n",
       "z\n",
       "\" transform=\"scale(0.015625)\"/>\n",
       "       <path id=\"DejaVuSans-69\" d=\"M 603 3500 \n",
       "L 1178 3500 \n",
       "L 1178 0 \n",
       "L 603 0 \n",
       "L 603 3500 \n",
       "z\n",
       "M 603 4863 \n",
       "L 1178 4863 \n",
       "L 1178 4134 \n",
       "L 603 4134 \n",
       "L 603 4863 \n",
       "z\n",
       "\" transform=\"scale(0.015625)\"/>\n",
       "       <path id=\"DejaVuSans-6e\" d=\"M 3513 2113 \n",
       "L 3513 0 \n",
       "L 2938 0 \n",
       "L 2938 2094 \n",
       "Q 2938 2591 2744 2837 \n",
       "Q 2550 3084 2163 3084 \n",
       "Q 1697 3084 1428 2787 \n",
       "Q 1159 2491 1159 1978 \n",
       "L 1159 0 \n",
       "L 581 0 \n",
       "L 581 3500 \n",
       "L 1159 3500 \n",
       "L 1159 2956 \n",
       "Q 1366 3272 1645 3428 \n",
       "Q 1925 3584 2291 3584 \n",
       "Q 2894 3584 3203 3211 \n",
       "Q 3513 2838 3513 2113 \n",
       "z\n",
       "\" transform=\"scale(0.015625)\"/>\n",
       "       <path id=\"DejaVuSans-67\" d=\"M 2906 1791 \n",
       "Q 2906 2416 2648 2759 \n",
       "Q 2391 3103 1925 3103 \n",
       "Q 1463 3103 1205 2759 \n",
       "Q 947 2416 947 1791 \n",
       "Q 947 1169 1205 825 \n",
       "Q 1463 481 1925 481 \n",
       "Q 2391 481 2648 825 \n",
       "Q 2906 1169 2906 1791 \n",
       "z\n",
       "M 3481 434 \n",
       "Q 3481 -459 3084 -895 \n",
       "Q 2688 -1331 1869 -1331 \n",
       "Q 1566 -1331 1297 -1286 \n",
       "Q 1028 -1241 775 -1147 \n",
       "L 775 -588 \n",
       "Q 1028 -725 1275 -790 \n",
       "Q 1522 -856 1778 -856 \n",
       "Q 2344 -856 2625 -561 \n",
       "Q 2906 -266 2906 331 \n",
       "L 2906 616 \n",
       "Q 2728 306 2450 153 \n",
       "Q 2172 0 1784 0 \n",
       "Q 1141 0 747 490 \n",
       "Q 353 981 353 1791 \n",
       "Q 353 2603 747 3093 \n",
       "Q 1141 3584 1784 3584 \n",
       "Q 2172 3584 2450 3431 \n",
       "Q 2728 3278 2906 2969 \n",
       "L 2906 3500 \n",
       "L 3481 3500 \n",
       "L 3481 434 \n",
       "z\n",
       "\" transform=\"scale(0.015625)\"/>\n",
       "       <path id=\"DejaVuSans-75\" d=\"M 544 1381 \n",
       "L 544 3500 \n",
       "L 1119 3500 \n",
       "L 1119 1403 \n",
       "Q 1119 906 1312 657 \n",
       "Q 1506 409 1894 409 \n",
       "Q 2359 409 2629 706 \n",
       "Q 2900 1003 2900 1516 \n",
       "L 2900 3500 \n",
       "L 3475 3500 \n",
       "L 3475 0 \n",
       "L 2900 0 \n",
       "L 2900 538 \n",
       "Q 2691 219 2414 64 \n",
       "Q 2138 -91 1772 -91 \n",
       "Q 1169 -91 856 284 \n",
       "Q 544 659 544 1381 \n",
       "z\n",
       "M 1991 3584 \n",
       "L 1991 3584 \n",
       "z\n",
       "\" transform=\"scale(0.015625)\"/>\n",
       "       <path id=\"DejaVuSans-6c\" d=\"M 603 4863 \n",
       "L 1178 4863 \n",
       "L 1178 0 \n",
       "L 603 0 \n",
       "L 603 4863 \n",
       "z\n",
       "\" transform=\"scale(0.015625)\"/>\n",
       "       <path id=\"DejaVuSans-61\" d=\"M 2194 1759 \n",
       "Q 1497 1759 1228 1600 \n",
       "Q 959 1441 959 1056 \n",
       "Q 959 750 1161 570 \n",
       "Q 1363 391 1709 391 \n",
       "Q 2188 391 2477 730 \n",
       "Q 2766 1069 2766 1631 \n",
       "L 2766 1759 \n",
       "L 2194 1759 \n",
       "z\n",
       "M 3341 1997 \n",
       "L 3341 0 \n",
       "L 2766 0 \n",
       "L 2766 531 \n",
       "Q 2569 213 2275 61 \n",
       "Q 1981 -91 1556 -91 \n",
       "Q 1019 -91 701 211 \n",
       "Q 384 513 384 1019 \n",
       "Q 384 1609 779 1909 \n",
       "Q 1175 2209 1959 2209 \n",
       "L 2766 2209 \n",
       "L 2766 2266 \n",
       "Q 2766 2663 2505 2880 \n",
       "Q 2244 3097 1772 3097 \n",
       "Q 1472 3097 1187 3025 \n",
       "Q 903 2953 641 2809 \n",
       "L 641 3341 \n",
       "Q 956 3463 1253 3523 \n",
       "Q 1550 3584 1831 3584 \n",
       "Q 2591 3584 2966 3190 \n",
       "Q 3341 2797 3341 1997 \n",
       "z\n",
       "\" transform=\"scale(0.015625)\"/>\n",
       "       <path id=\"DejaVuSans-72\" d=\"M 2631 2963 \n",
       "Q 2534 3019 2420 3045 \n",
       "Q 2306 3072 2169 3072 \n",
       "Q 1681 3072 1420 2755 \n",
       "Q 1159 2438 1159 1844 \n",
       "L 1159 0 \n",
       "L 581 0 \n",
       "L 581 3500 \n",
       "L 1159 3500 \n",
       "L 1159 2956 \n",
       "Q 1341 3275 1631 3429 \n",
       "Q 1922 3584 2338 3584 \n",
       "Q 2397 3584 2469 3576 \n",
       "Q 2541 3569 2628 3553 \n",
       "L 2631 2963 \n",
       "z\n",
       "\" transform=\"scale(0.015625)\"/>\n",
       "       <path id=\"DejaVuSans-20\" transform=\"scale(0.015625)\"/>\n",
       "       <path id=\"DejaVuSans-56\" d=\"M 1831 0 \n",
       "L 50 4666 \n",
       "L 709 4666 \n",
       "L 2188 738 \n",
       "L 3669 4666 \n",
       "L 4325 4666 \n",
       "L 2547 0 \n",
       "L 1831 0 \n",
       "z\n",
       "\" transform=\"scale(0.015625)\"/>\n",
       "       <path id=\"DejaVuSans-65\" d=\"M 3597 1894 \n",
       "L 3597 1613 \n",
       "L 953 1613 \n",
       "Q 991 1019 1311 708 \n",
       "Q 1631 397 2203 397 \n",
       "Q 2534 397 2845 478 \n",
       "Q 3156 559 3463 722 \n",
       "L 3463 178 \n",
       "Q 3153 47 2828 -22 \n",
       "Q 2503 -91 2169 -91 \n",
       "Q 1331 -91 842 396 \n",
       "Q 353 884 353 1716 \n",
       "Q 353 2575 817 3079 \n",
       "Q 1281 3584 2069 3584 \n",
       "Q 2775 3584 3186 3129 \n",
       "Q 3597 2675 3597 1894 \n",
       "z\n",
       "M 3022 2063 \n",
       "Q 3016 2534 2758 2815 \n",
       "Q 2500 3097 2075 3097 \n",
       "Q 1594 3097 1305 2825 \n",
       "Q 1016 2553 972 2059 \n",
       "L 3022 2063 \n",
       "z\n",
       "\" transform=\"scale(0.015625)\"/>\n",
       "       <path id=\"DejaVuSans-52\" d=\"M 2841 2188 \n",
       "Q 3044 2119 3236 1894 \n",
       "Q 3428 1669 3622 1275 \n",
       "L 4263 0 \n",
       "L 3584 0 \n",
       "L 2988 1197 \n",
       "Q 2756 1666 2539 1819 \n",
       "Q 2322 1972 1947 1972 \n",
       "L 1259 1972 \n",
       "L 1259 0 \n",
       "L 628 0 \n",
       "L 628 4666 \n",
       "L 2053 4666 \n",
       "Q 2853 4666 3247 4331 \n",
       "Q 3641 3997 3641 3322 \n",
       "Q 3641 2881 3436 2590 \n",
       "Q 3231 2300 2841 2188 \n",
       "z\n",
       "M 1259 4147 \n",
       "L 1259 2491 \n",
       "L 2053 2491 \n",
       "Q 2509 2491 2742 2702 \n",
       "Q 2975 2913 2975 3322 \n",
       "Q 2975 3731 2742 3939 \n",
       "Q 2509 4147 2053 4147 \n",
       "L 1259 4147 \n",
       "z\n",
       "\" transform=\"scale(0.015625)\"/>\n",
       "       <path id=\"DejaVuSans-6b\" d=\"M 581 4863 \n",
       "L 1159 4863 \n",
       "L 1159 1991 \n",
       "L 2875 3500 \n",
       "L 3609 3500 \n",
       "L 1753 1863 \n",
       "L 3688 0 \n",
       "L 2938 0 \n",
       "L 1159 1709 \n",
       "L 1159 0 \n",
       "L 581 0 \n",
       "L 581 4863 \n",
       "z\n",
       "\" transform=\"scale(0.015625)\"/>\n",
       "      </defs>\n",
       "      <use xlink:href=\"#DejaVuSans-53\"/>\n",
       "      <use xlink:href=\"#DejaVuSans-69\" x=\"63.476562\"/>\n",
       "      <use xlink:href=\"#DejaVuSans-6e\" x=\"91.259766\"/>\n",
       "      <use xlink:href=\"#DejaVuSans-67\" x=\"154.638672\"/>\n",
       "      <use xlink:href=\"#DejaVuSans-75\" x=\"218.115234\"/>\n",
       "      <use xlink:href=\"#DejaVuSans-6c\" x=\"281.494141\"/>\n",
       "      <use xlink:href=\"#DejaVuSans-61\" x=\"309.277344\"/>\n",
       "      <use xlink:href=\"#DejaVuSans-72\" x=\"370.556641\"/>\n",
       "      <use xlink:href=\"#DejaVuSans-20\" x=\"411.669922\"/>\n",
       "      <use xlink:href=\"#DejaVuSans-56\" x=\"443.457031\"/>\n",
       "      <use xlink:href=\"#DejaVuSans-61\" x=\"504.115234\"/>\n",
       "      <use xlink:href=\"#DejaVuSans-6c\" x=\"565.394531\"/>\n",
       "      <use xlink:href=\"#DejaVuSans-75\" x=\"593.177734\"/>\n",
       "      <use xlink:href=\"#DejaVuSans-65\" x=\"656.556641\"/>\n",
       "      <use xlink:href=\"#DejaVuSans-20\" x=\"718.080078\"/>\n",
       "      <use xlink:href=\"#DejaVuSans-52\" x=\"749.867188\"/>\n",
       "      <use xlink:href=\"#DejaVuSans-61\" x=\"817.099609\"/>\n",
       "      <use xlink:href=\"#DejaVuSans-6e\" x=\"878.378906\"/>\n",
       "      <use xlink:href=\"#DejaVuSans-6b\" x=\"941.757812\"/>\n",
       "     </g>\n",
       "    </g>\n",
       "   </g>\n",
       "   <g id=\"matplotlib.axis_2\">\n",
       "    <g id=\"ytick_1\">\n",
       "     <g id=\"line2d_8\">\n",
       "      <defs>\n",
       "       <path id=\"m314ff8ac89\" d=\"M 0 0 \n",
       "L -3.5 0 \n",
       "\" style=\"stroke: #ffffff; stroke-width: 0.8\"/>\n",
       "      </defs>\n",
       "      <g>\n",
       "       <use xlink:href=\"#m314ff8ac89\" x=\"43.78125\" y=\"244.078125\" style=\"fill: #ffffff; stroke: #ffffff; stroke-width: 0.8\"/>\n",
       "      </g>\n",
       "     </g>\n",
       "     <g id=\"text_9\">\n",
       "      <!-- 0.0 -->\n",
       "      <g style=\"fill: #ffffff\" transform=\"translate(20.878125 247.877344) scale(0.1 -0.1)\">\n",
       "       <defs>\n",
       "        <path id=\"DejaVuSans-2e\" d=\"M 684 794 \n",
       "L 1344 794 \n",
       "L 1344 0 \n",
       "L 684 0 \n",
       "L 684 794 \n",
       "z\n",
       "\" transform=\"scale(0.015625)\"/>\n",
       "       </defs>\n",
       "       <use xlink:href=\"#DejaVuSans-30\"/>\n",
       "       <use xlink:href=\"#DejaVuSans-2e\" x=\"63.623047\"/>\n",
       "       <use xlink:href=\"#DejaVuSans-30\" x=\"95.410156\"/>\n",
       "      </g>\n",
       "     </g>\n",
       "    </g>\n",
       "    <g id=\"ytick_2\">\n",
       "     <g id=\"line2d_9\">\n",
       "      <g>\n",
       "       <use xlink:href=\"#m314ff8ac89\" x=\"43.78125\" y=\"199.726125\" style=\"fill: #ffffff; stroke: #ffffff; stroke-width: 0.8\"/>\n",
       "      </g>\n",
       "     </g>\n",
       "     <g id=\"text_10\">\n",
       "      <!-- 0.2 -->\n",
       "      <g style=\"fill: #ffffff\" transform=\"translate(20.878125 203.525344) scale(0.1 -0.1)\">\n",
       "       <use xlink:href=\"#DejaVuSans-30\"/>\n",
       "       <use xlink:href=\"#DejaVuSans-2e\" x=\"63.623047\"/>\n",
       "       <use xlink:href=\"#DejaVuSans-32\" x=\"95.410156\"/>\n",
       "      </g>\n",
       "     </g>\n",
       "    </g>\n",
       "    <g id=\"ytick_3\">\n",
       "     <g id=\"line2d_10\">\n",
       "      <g>\n",
       "       <use xlink:href=\"#m314ff8ac89\" x=\"43.78125\" y=\"155.374125\" style=\"fill: #ffffff; stroke: #ffffff; stroke-width: 0.8\"/>\n",
       "      </g>\n",
       "     </g>\n",
       "     <g id=\"text_11\">\n",
       "      <!-- 0.4 -->\n",
       "      <g style=\"fill: #ffffff\" transform=\"translate(20.878125 159.173344) scale(0.1 -0.1)\">\n",
       "       <defs>\n",
       "        <path id=\"DejaVuSans-34\" d=\"M 2419 4116 \n",
       "L 825 1625 \n",
       "L 2419 1625 \n",
       "L 2419 4116 \n",
       "z\n",
       "M 2253 4666 \n",
       "L 3047 4666 \n",
       "L 3047 1625 \n",
       "L 3713 1625 \n",
       "L 3713 1100 \n",
       "L 3047 1100 \n",
       "L 3047 0 \n",
       "L 2419 0 \n",
       "L 2419 1100 \n",
       "L 313 1100 \n",
       "L 313 1709 \n",
       "L 2253 4666 \n",
       "z\n",
       "\" transform=\"scale(0.015625)\"/>\n",
       "       </defs>\n",
       "       <use xlink:href=\"#DejaVuSans-30\"/>\n",
       "       <use xlink:href=\"#DejaVuSans-2e\" x=\"63.623047\"/>\n",
       "       <use xlink:href=\"#DejaVuSans-34\" x=\"95.410156\"/>\n",
       "      </g>\n",
       "     </g>\n",
       "    </g>\n",
       "    <g id=\"ytick_4\">\n",
       "     <g id=\"line2d_11\">\n",
       "      <g>\n",
       "       <use xlink:href=\"#m314ff8ac89\" x=\"43.78125\" y=\"111.022125\" style=\"fill: #ffffff; stroke: #ffffff; stroke-width: 0.8\"/>\n",
       "      </g>\n",
       "     </g>\n",
       "     <g id=\"text_12\">\n",
       "      <!-- 0.6 -->\n",
       "      <g style=\"fill: #ffffff\" transform=\"translate(20.878125 114.821344) scale(0.1 -0.1)\">\n",
       "       <defs>\n",
       "        <path id=\"DejaVuSans-36\" d=\"M 2113 2584 \n",
       "Q 1688 2584 1439 2293 \n",
       "Q 1191 2003 1191 1497 \n",
       "Q 1191 994 1439 701 \n",
       "Q 1688 409 2113 409 \n",
       "Q 2538 409 2786 701 \n",
       "Q 3034 994 3034 1497 \n",
       "Q 3034 2003 2786 2293 \n",
       "Q 2538 2584 2113 2584 \n",
       "z\n",
       "M 3366 4563 \n",
       "L 3366 3988 \n",
       "Q 3128 4100 2886 4159 \n",
       "Q 2644 4219 2406 4219 \n",
       "Q 1781 4219 1451 3797 \n",
       "Q 1122 3375 1075 2522 \n",
       "Q 1259 2794 1537 2939 \n",
       "Q 1816 3084 2150 3084 \n",
       "Q 2853 3084 3261 2657 \n",
       "Q 3669 2231 3669 1497 \n",
       "Q 3669 778 3244 343 \n",
       "Q 2819 -91 2113 -91 \n",
       "Q 1303 -91 875 529 \n",
       "Q 447 1150 447 2328 \n",
       "Q 447 3434 972 4092 \n",
       "Q 1497 4750 2381 4750 \n",
       "Q 2619 4750 2861 4703 \n",
       "Q 3103 4656 3366 4563 \n",
       "z\n",
       "\" transform=\"scale(0.015625)\"/>\n",
       "       </defs>\n",
       "       <use xlink:href=\"#DejaVuSans-30\"/>\n",
       "       <use xlink:href=\"#DejaVuSans-2e\" x=\"63.623047\"/>\n",
       "       <use xlink:href=\"#DejaVuSans-36\" x=\"95.410156\"/>\n",
       "      </g>\n",
       "     </g>\n",
       "    </g>\n",
       "    <g id=\"ytick_5\">\n",
       "     <g id=\"line2d_12\">\n",
       "      <g>\n",
       "       <use xlink:href=\"#m314ff8ac89\" x=\"43.78125\" y=\"66.670125\" style=\"fill: #ffffff; stroke: #ffffff; stroke-width: 0.8\"/>\n",
       "      </g>\n",
       "     </g>\n",
       "     <g id=\"text_13\">\n",
       "      <!-- 0.8 -->\n",
       "      <g style=\"fill: #ffffff\" transform=\"translate(20.878125 70.469344) scale(0.1 -0.1)\">\n",
       "       <defs>\n",
       "        <path id=\"DejaVuSans-38\" d=\"M 2034 2216 \n",
       "Q 1584 2216 1326 1975 \n",
       "Q 1069 1734 1069 1313 \n",
       "Q 1069 891 1326 650 \n",
       "Q 1584 409 2034 409 \n",
       "Q 2484 409 2743 651 \n",
       "Q 3003 894 3003 1313 \n",
       "Q 3003 1734 2745 1975 \n",
       "Q 2488 2216 2034 2216 \n",
       "z\n",
       "M 1403 2484 \n",
       "Q 997 2584 770 2862 \n",
       "Q 544 3141 544 3541 \n",
       "Q 544 4100 942 4425 \n",
       "Q 1341 4750 2034 4750 \n",
       "Q 2731 4750 3128 4425 \n",
       "Q 3525 4100 3525 3541 \n",
       "Q 3525 3141 3298 2862 \n",
       "Q 3072 2584 2669 2484 \n",
       "Q 3125 2378 3379 2068 \n",
       "Q 3634 1759 3634 1313 \n",
       "Q 3634 634 3220 271 \n",
       "Q 2806 -91 2034 -91 \n",
       "Q 1263 -91 848 271 \n",
       "Q 434 634 434 1313 \n",
       "Q 434 1759 690 2068 \n",
       "Q 947 2378 1403 2484 \n",
       "z\n",
       "M 1172 3481 \n",
       "Q 1172 3119 1398 2916 \n",
       "Q 1625 2713 2034 2713 \n",
       "Q 2441 2713 2670 2916 \n",
       "Q 2900 3119 2900 3481 \n",
       "Q 2900 3844 2670 4047 \n",
       "Q 2441 4250 2034 4250 \n",
       "Q 1625 4250 1398 4047 \n",
       "Q 1172 3844 1172 3481 \n",
       "z\n",
       "\" transform=\"scale(0.015625)\"/>\n",
       "       </defs>\n",
       "       <use xlink:href=\"#DejaVuSans-30\"/>\n",
       "       <use xlink:href=\"#DejaVuSans-2e\" x=\"63.623047\"/>\n",
       "       <use xlink:href=\"#DejaVuSans-38\" x=\"95.410156\"/>\n",
       "      </g>\n",
       "     </g>\n",
       "    </g>\n",
       "    <g id=\"ytick_6\">\n",
       "     <g id=\"line2d_13\">\n",
       "      <g>\n",
       "       <use xlink:href=\"#m314ff8ac89\" x=\"43.78125\" y=\"22.318125\" style=\"fill: #ffffff; stroke: #ffffff; stroke-width: 0.8\"/>\n",
       "      </g>\n",
       "     </g>\n",
       "     <g id=\"text_14\">\n",
       "      <!-- 1.0 -->\n",
       "      <g style=\"fill: #ffffff\" transform=\"translate(20.878125 26.117344) scale(0.1 -0.1)\">\n",
       "       <use xlink:href=\"#DejaVuSans-31\"/>\n",
       "       <use xlink:href=\"#DejaVuSans-2e\" x=\"63.623047\"/>\n",
       "       <use xlink:href=\"#DejaVuSans-30\" x=\"95.410156\"/>\n",
       "      </g>\n",
       "     </g>\n",
       "    </g>\n",
       "    <g id=\"text_15\">\n",
       "     <!-- Singular Values -->\n",
       "     <g style=\"fill: #ffffff\" transform=\"translate(14.798438 171.706719) rotate(-90) scale(0.1 -0.1)\">\n",
       "      <defs>\n",
       "       <path id=\"DejaVuSans-73\" d=\"M 2834 3397 \n",
       "L 2834 2853 \n",
       "Q 2591 2978 2328 3040 \n",
       "Q 2066 3103 1784 3103 \n",
       "Q 1356 3103 1142 2972 \n",
       "Q 928 2841 928 2578 \n",
       "Q 928 2378 1081 2264 \n",
       "Q 1234 2150 1697 2047 \n",
       "L 1894 2003 \n",
       "Q 2506 1872 2764 1633 \n",
       "Q 3022 1394 3022 966 \n",
       "Q 3022 478 2636 193 \n",
       "Q 2250 -91 1575 -91 \n",
       "Q 1294 -91 989 -36 \n",
       "Q 684 19 347 128 \n",
       "L 347 722 \n",
       "Q 666 556 975 473 \n",
       "Q 1284 391 1588 391 \n",
       "Q 1994 391 2212 530 \n",
       "Q 2431 669 2431 922 \n",
       "Q 2431 1156 2273 1281 \n",
       "Q 2116 1406 1581 1522 \n",
       "L 1381 1569 \n",
       "Q 847 1681 609 1914 \n",
       "Q 372 2147 372 2553 \n",
       "Q 372 3047 722 3315 \n",
       "Q 1072 3584 1716 3584 \n",
       "Q 2034 3584 2315 3537 \n",
       "Q 2597 3491 2834 3397 \n",
       "z\n",
       "\" transform=\"scale(0.015625)\"/>\n",
       "      </defs>\n",
       "      <use xlink:href=\"#DejaVuSans-53\"/>\n",
       "      <use xlink:href=\"#DejaVuSans-69\" x=\"63.476562\"/>\n",
       "      <use xlink:href=\"#DejaVuSans-6e\" x=\"91.259766\"/>\n",
       "      <use xlink:href=\"#DejaVuSans-67\" x=\"154.638672\"/>\n",
       "      <use xlink:href=\"#DejaVuSans-75\" x=\"218.115234\"/>\n",
       "      <use xlink:href=\"#DejaVuSans-6c\" x=\"281.494141\"/>\n",
       "      <use xlink:href=\"#DejaVuSans-61\" x=\"309.277344\"/>\n",
       "      <use xlink:href=\"#DejaVuSans-72\" x=\"370.556641\"/>\n",
       "      <use xlink:href=\"#DejaVuSans-20\" x=\"411.669922\"/>\n",
       "      <use xlink:href=\"#DejaVuSans-56\" x=\"443.457031\"/>\n",
       "      <use xlink:href=\"#DejaVuSans-61\" x=\"504.115234\"/>\n",
       "      <use xlink:href=\"#DejaVuSans-6c\" x=\"565.394531\"/>\n",
       "      <use xlink:href=\"#DejaVuSans-75\" x=\"593.177734\"/>\n",
       "      <use xlink:href=\"#DejaVuSans-65\" x=\"656.556641\"/>\n",
       "      <use xlink:href=\"#DejaVuSans-73\" x=\"718.080078\"/>\n",
       "     </g>\n",
       "    </g>\n",
       "   </g>\n",
       "   <g id=\"line2d_14\">\n",
       "    <path d=\"M 43.78125 22.318125 \n",
       "L 54.24375 102.13232 \n",
       "L 64.70625 212.478036 \n",
       "L 75.16875 219.427315 \n",
       "L 85.63125 235.033271 \n",
       "L 96.09375 244.077882 \n",
       "L 106.55625 244.077907 \n",
       "L 117.01875 244.078102 \n",
       "L 127.48125 244.078118 \n",
       "L 137.94375 244.078121 \n",
       "L 148.40625 244.078123 \n",
       "L 158.86875 244.078124 \n",
       "L 169.33125 244.078125 \n",
       "L 179.79375 244.078125 \n",
       "L 190.25625 244.078125 \n",
       "L 200.71875 244.078125 \n",
       "L 211.18125 244.078125 \n",
       "L 221.64375 244.078125 \n",
       "L 232.10625 244.078125 \n",
       "L 242.56875 244.078125 \n",
       "L 253.03125 244.078125 \n",
       "L 263.49375 244.078125 \n",
       "L 273.95625 244.078125 \n",
       "L 284.41875 244.078125 \n",
       "L 294.88125 244.078125 \n",
       "L 305.34375 244.078125 \n",
       "L 315.80625 244.078125 \n",
       "L 326.26875 244.078125 \n",
       "L 336.73125 244.078125 \n",
       "L 347.19375 244.078125 \n",
       "L 357.65625 244.078125 \n",
       "L 368.11875 244.078125 \n",
       "\" clip-path=\"url(#p3bb04d100c)\" style=\"fill: none; stroke: #8dd3c7; stroke-width: 1.5; stroke-linecap: square\"/>\n",
       "   </g>\n",
       "   <g id=\"patch_3\">\n",
       "    <path d=\"M 43.78125 244.078125 \n",
       "L 43.78125 22.318125 \n",
       "\" style=\"fill: none; stroke: #ffffff; stroke-width: 0.8; stroke-linejoin: miter; stroke-linecap: square\"/>\n",
       "   </g>\n",
       "   <g id=\"patch_4\">\n",
       "    <path d=\"M 378.58125 244.078125 \n",
       "L 378.58125 22.318125 \n",
       "\" style=\"fill: none; stroke: #ffffff; stroke-width: 0.8; stroke-linejoin: miter; stroke-linecap: square\"/>\n",
       "   </g>\n",
       "   <g id=\"patch_5\">\n",
       "    <path d=\"M 43.78125 244.078125 \n",
       "L 378.58125 244.078125 \n",
       "\" style=\"fill: none; stroke: #ffffff; stroke-width: 0.8; stroke-linejoin: miter; stroke-linecap: square\"/>\n",
       "   </g>\n",
       "   <g id=\"patch_6\">\n",
       "    <path d=\"M 43.78125 22.318125 \n",
       "L 378.58125 22.318125 \n",
       "\" style=\"fill: none; stroke: #ffffff; stroke-width: 0.8; stroke-linejoin: miter; stroke-linecap: square\"/>\n",
       "   </g>\n",
       "   <g id=\"text_16\">\n",
       "    <!-- Singular Values of Covariance Matrix -->\n",
       "    <g style=\"fill: #ffffff\" transform=\"translate(100.883438 16.318125) scale(0.12 -0.12)\">\n",
       "     <defs>\n",
       "      <path id=\"DejaVuSans-6f\" d=\"M 1959 3097 \n",
       "Q 1497 3097 1228 2736 \n",
       "Q 959 2375 959 1747 \n",
       "Q 959 1119 1226 758 \n",
       "Q 1494 397 1959 397 \n",
       "Q 2419 397 2687 759 \n",
       "Q 2956 1122 2956 1747 \n",
       "Q 2956 2369 2687 2733 \n",
       "Q 2419 3097 1959 3097 \n",
       "z\n",
       "M 1959 3584 \n",
       "Q 2709 3584 3137 3096 \n",
       "Q 3566 2609 3566 1747 \n",
       "Q 3566 888 3137 398 \n",
       "Q 2709 -91 1959 -91 \n",
       "Q 1206 -91 779 398 \n",
       "Q 353 888 353 1747 \n",
       "Q 353 2609 779 3096 \n",
       "Q 1206 3584 1959 3584 \n",
       "z\n",
       "\" transform=\"scale(0.015625)\"/>\n",
       "      <path id=\"DejaVuSans-66\" d=\"M 2375 4863 \n",
       "L 2375 4384 \n",
       "L 1825 4384 \n",
       "Q 1516 4384 1395 4259 \n",
       "Q 1275 4134 1275 3809 \n",
       "L 1275 3500 \n",
       "L 2222 3500 \n",
       "L 2222 3053 \n",
       "L 1275 3053 \n",
       "L 1275 0 \n",
       "L 697 0 \n",
       "L 697 3053 \n",
       "L 147 3053 \n",
       "L 147 3500 \n",
       "L 697 3500 \n",
       "L 697 3744 \n",
       "Q 697 4328 969 4595 \n",
       "Q 1241 4863 1831 4863 \n",
       "L 2375 4863 \n",
       "z\n",
       "\" transform=\"scale(0.015625)\"/>\n",
       "      <path id=\"DejaVuSans-43\" d=\"M 4122 4306 \n",
       "L 4122 3641 \n",
       "Q 3803 3938 3442 4084 \n",
       "Q 3081 4231 2675 4231 \n",
       "Q 1875 4231 1450 3742 \n",
       "Q 1025 3253 1025 2328 \n",
       "Q 1025 1406 1450 917 \n",
       "Q 1875 428 2675 428 \n",
       "Q 3081 428 3442 575 \n",
       "Q 3803 722 4122 1019 \n",
       "L 4122 359 \n",
       "Q 3791 134 3420 21 \n",
       "Q 3050 -91 2638 -91 \n",
       "Q 1578 -91 968 557 \n",
       "Q 359 1206 359 2328 \n",
       "Q 359 3453 968 4101 \n",
       "Q 1578 4750 2638 4750 \n",
       "Q 3056 4750 3426 4639 \n",
       "Q 3797 4528 4122 4306 \n",
       "z\n",
       "\" transform=\"scale(0.015625)\"/>\n",
       "      <path id=\"DejaVuSans-76\" d=\"M 191 3500 \n",
       "L 800 3500 \n",
       "L 1894 563 \n",
       "L 2988 3500 \n",
       "L 3597 3500 \n",
       "L 2284 0 \n",
       "L 1503 0 \n",
       "L 191 3500 \n",
       "z\n",
       "\" transform=\"scale(0.015625)\"/>\n",
       "      <path id=\"DejaVuSans-63\" d=\"M 3122 3366 \n",
       "L 3122 2828 \n",
       "Q 2878 2963 2633 3030 \n",
       "Q 2388 3097 2138 3097 \n",
       "Q 1578 3097 1268 2742 \n",
       "Q 959 2388 959 1747 \n",
       "Q 959 1106 1268 751 \n",
       "Q 1578 397 2138 397 \n",
       "Q 2388 397 2633 464 \n",
       "Q 2878 531 3122 666 \n",
       "L 3122 134 \n",
       "Q 2881 22 2623 -34 \n",
       "Q 2366 -91 2075 -91 \n",
       "Q 1284 -91 818 406 \n",
       "Q 353 903 353 1747 \n",
       "Q 353 2603 823 3093 \n",
       "Q 1294 3584 2113 3584 \n",
       "Q 2378 3584 2631 3529 \n",
       "Q 2884 3475 3122 3366 \n",
       "z\n",
       "\" transform=\"scale(0.015625)\"/>\n",
       "      <path id=\"DejaVuSans-4d\" d=\"M 628 4666 \n",
       "L 1569 4666 \n",
       "L 2759 1491 \n",
       "L 3956 4666 \n",
       "L 4897 4666 \n",
       "L 4897 0 \n",
       "L 4281 0 \n",
       "L 4281 4097 \n",
       "L 3078 897 \n",
       "L 2444 897 \n",
       "L 1241 4097 \n",
       "L 1241 0 \n",
       "L 628 0 \n",
       "L 628 4666 \n",
       "z\n",
       "\" transform=\"scale(0.015625)\"/>\n",
       "      <path id=\"DejaVuSans-74\" d=\"M 1172 4494 \n",
       "L 1172 3500 \n",
       "L 2356 3500 \n",
       "L 2356 3053 \n",
       "L 1172 3053 \n",
       "L 1172 1153 \n",
       "Q 1172 725 1289 603 \n",
       "Q 1406 481 1766 481 \n",
       "L 2356 481 \n",
       "L 2356 0 \n",
       "L 1766 0 \n",
       "Q 1100 0 847 248 \n",
       "Q 594 497 594 1153 \n",
       "L 594 3053 \n",
       "L 172 3053 \n",
       "L 172 3500 \n",
       "L 594 3500 \n",
       "L 594 4494 \n",
       "L 1172 4494 \n",
       "z\n",
       "\" transform=\"scale(0.015625)\"/>\n",
       "      <path id=\"DejaVuSans-78\" d=\"M 3513 3500 \n",
       "L 2247 1797 \n",
       "L 3578 0 \n",
       "L 2900 0 \n",
       "L 1881 1375 \n",
       "L 863 0 \n",
       "L 184 0 \n",
       "L 1544 1831 \n",
       "L 300 3500 \n",
       "L 978 3500 \n",
       "L 1906 2253 \n",
       "L 2834 3500 \n",
       "L 3513 3500 \n",
       "z\n",
       "\" transform=\"scale(0.015625)\"/>\n",
       "     </defs>\n",
       "     <use xlink:href=\"#DejaVuSans-53\"/>\n",
       "     <use xlink:href=\"#DejaVuSans-69\" x=\"63.476562\"/>\n",
       "     <use xlink:href=\"#DejaVuSans-6e\" x=\"91.259766\"/>\n",
       "     <use xlink:href=\"#DejaVuSans-67\" x=\"154.638672\"/>\n",
       "     <use xlink:href=\"#DejaVuSans-75\" x=\"218.115234\"/>\n",
       "     <use xlink:href=\"#DejaVuSans-6c\" x=\"281.494141\"/>\n",
       "     <use xlink:href=\"#DejaVuSans-61\" x=\"309.277344\"/>\n",
       "     <use xlink:href=\"#DejaVuSans-72\" x=\"370.556641\"/>\n",
       "     <use xlink:href=\"#DejaVuSans-20\" x=\"411.669922\"/>\n",
       "     <use xlink:href=\"#DejaVuSans-56\" x=\"443.457031\"/>\n",
       "     <use xlink:href=\"#DejaVuSans-61\" x=\"504.115234\"/>\n",
       "     <use xlink:href=\"#DejaVuSans-6c\" x=\"565.394531\"/>\n",
       "     <use xlink:href=\"#DejaVuSans-75\" x=\"593.177734\"/>\n",
       "     <use xlink:href=\"#DejaVuSans-65\" x=\"656.556641\"/>\n",
       "     <use xlink:href=\"#DejaVuSans-73\" x=\"718.080078\"/>\n",
       "     <use xlink:href=\"#DejaVuSans-20\" x=\"770.179688\"/>\n",
       "     <use xlink:href=\"#DejaVuSans-6f\" x=\"801.966797\"/>\n",
       "     <use xlink:href=\"#DejaVuSans-66\" x=\"863.148438\"/>\n",
       "     <use xlink:href=\"#DejaVuSans-20\" x=\"898.353516\"/>\n",
       "     <use xlink:href=\"#DejaVuSans-43\" x=\"930.140625\"/>\n",
       "     <use xlink:href=\"#DejaVuSans-6f\" x=\"999.964844\"/>\n",
       "     <use xlink:href=\"#DejaVuSans-76\" x=\"1061.146484\"/>\n",
       "     <use xlink:href=\"#DejaVuSans-61\" x=\"1120.326172\"/>\n",
       "     <use xlink:href=\"#DejaVuSans-72\" x=\"1181.605469\"/>\n",
       "     <use xlink:href=\"#DejaVuSans-69\" x=\"1222.71875\"/>\n",
       "     <use xlink:href=\"#DejaVuSans-61\" x=\"1250.501953\"/>\n",
       "     <use xlink:href=\"#DejaVuSans-6e\" x=\"1311.78125\"/>\n",
       "     <use xlink:href=\"#DejaVuSans-63\" x=\"1375.160156\"/>\n",
       "     <use xlink:href=\"#DejaVuSans-65\" x=\"1430.140625\"/>\n",
       "     <use xlink:href=\"#DejaVuSans-20\" x=\"1491.664062\"/>\n",
       "     <use xlink:href=\"#DejaVuSans-4d\" x=\"1523.451172\"/>\n",
       "     <use xlink:href=\"#DejaVuSans-61\" x=\"1609.730469\"/>\n",
       "     <use xlink:href=\"#DejaVuSans-74\" x=\"1671.009766\"/>\n",
       "     <use xlink:href=\"#DejaVuSans-72\" x=\"1710.21875\"/>\n",
       "     <use xlink:href=\"#DejaVuSans-69\" x=\"1751.332031\"/>\n",
       "     <use xlink:href=\"#DejaVuSans-78\" x=\"1779.115234\"/>\n",
       "    </g>\n",
       "   </g>\n",
       "  </g>\n",
       " </g>\n",
       " <defs>\n",
       "  <clipPath id=\"p3bb04d100c\">\n",
       "   <rect x=\"43.78125\" y=\"22.318125\" width=\"334.8\" height=\"221.76\"/>\n",
       "  </clipPath>\n",
       " </defs>\n",
       "</svg>\n"
      ],
      "text/plain": [
       "<Figure size 600x400 with 1 Axes>"
      ]
     },
     "metadata": {},
     "output_type": "display_data"
    },
    {
     "data": {
      "text/plain": [
       "<Figure size 1000x2000 with 0 Axes>"
      ]
     },
     "metadata": {},
     "output_type": "display_data"
    }
   ],
   "source": [
    "main(args_linear)"
   ]
  },
  {
   "cell_type": "markdown",
   "metadata": {},
   "source": [
    "### No linear autoencoder"
   ]
  },
  {
   "cell_type": "code",
   "execution_count": 54,
   "metadata": {
    "id": "m3HkcGxcvfLp"
   },
   "outputs": [],
   "source": [
    "args_AE = Config()\n",
    "args_AE.model_name = \"nolinearAE\"\n",
    "args_AE.vae = False\n",
    "args_AE.l = 0\n",
    "args_AE.lr = 0.001\n",
    "args_AE.epochs = 50\n",
    "args_AE.post_connect = False\n",
    "args_AE.dataset = \"physical\"\n",
    "args_AE.train_target = \"U\"\n",
    "args_AE.wandb_run_name = \"nolinearAE\" + '_' + args_AE.train_target\n",
    "args_AE.n = 32"
   ]
  },
  {
   "cell_type": "code",
   "execution_count": 55,
   "metadata": {
    "colab": {
     "base_uri": "https://localhost:8080/"
    },
    "id": "BShxYKK5vhLg",
    "outputId": "e27f5909-530d-4b18-907d-05479787ee21"
   },
   "outputs": [
    {
     "name": "stdout",
     "output_type": "stream",
     "text": [
      "Config(l=0, lr=0.001, epochs=50, vae=False, n=32, batch_size=128, dataset=physical, data_path=./data/, checkpoint=./checkpoint/, gpu=True, beta=0.1, model_name=nolinearAE, wandb_run_name=nolinearAE_U, save_path=./results/, post_connect=False, wandb_project=10617-project, train_target=U)\n"
     ]
    }
   ],
   "source": [
    "pprint(args_AE)"
   ]
  },
  {
   "cell_type": "code",
   "execution_count": 56,
   "metadata": {
    "colab": {
     "base_uri": "https://localhost:8080/",
     "height": 427
    },
    "id": "pGLIPoJW1EVv",
    "outputId": "9c9e18b9-6f7e-499c-d38a-2d3dd1cbb6f2"
   },
   "outputs": [
    {
     "data": {
      "text/html": [
       "Tracking run with wandb version 0.15.12"
      ],
      "text/plain": [
       "<IPython.core.display.HTML object>"
      ]
     },
     "metadata": {},
     "output_type": "display_data"
    },
    {
     "data": {
      "text/html": [
       "Run data is saved locally in <code>/home/dylan/repo/VAE/wandb/run-20231030_005732-is08t632</code>"
      ],
      "text/plain": [
       "<IPython.core.display.HTML object>"
      ]
     },
     "metadata": {},
     "output_type": "display_data"
    },
    {
     "data": {
      "text/html": [
       "Syncing run <strong><a href='https://wandb.ai/dylanli/10617-project/runs/is08t632' target=\"_blank\">nolinearAE_U</a></strong> to <a href='https://wandb.ai/dylanli/10617-project' target=\"_blank\">Weights & Biases</a> (<a href='https://wandb.me/run' target=\"_blank\">docs</a>)<br/>"
      ],
      "text/plain": [
       "<IPython.core.display.HTML object>"
      ]
     },
     "metadata": {},
     "output_type": "display_data"
    },
    {
     "data": {
      "text/html": [
       " View project at <a href='https://wandb.ai/dylanli/10617-project' target=\"_blank\">https://wandb.ai/dylanli/10617-project</a>"
      ],
      "text/plain": [
       "<IPython.core.display.HTML object>"
      ]
     },
     "metadata": {},
     "output_type": "display_data"
    },
    {
     "data": {
      "text/html": [
       " View run at <a href='https://wandb.ai/dylanli/10617-project/runs/is08t632' target=\"_blank\">https://wandb.ai/dylanli/10617-project/runs/is08t632</a>"
      ],
      "text/plain": [
       "<IPython.core.display.HTML object>"
      ]
     },
     "metadata": {},
     "output_type": "display_data"
    },
    {
     "name": "stdout",
     "output_type": "stream",
     "text": [
      "AE(\n",
      "  (final_latent): Physical_Final_Latent(\n",
      "    (fc): Linear(in_features=64, out_features=32, bias=True)\n",
      "  )\n",
      "  (enc): Physical_Encoder(\n",
      "    (mlp): Sequential(\n",
      "      (0): Linear(in_features=250, out_features=128, bias=True)\n",
      "      (1): ReLU(inplace=True)\n",
      "      (2): Linear(in_features=128, out_features=64, bias=True)\n",
      "      (3): ReLU(inplace=True)\n",
      "    )\n",
      "  )\n",
      "  (dec): Physical_Decoder(\n",
      "    (mlp): Sequential(\n",
      "      (0): Linear(in_features=32, out_features=64, bias=True)\n",
      "      (1): ReLU(inplace=True)\n",
      "      (2): Linear(in_features=64, out_features=128, bias=True)\n",
      "      (3): ReLU(inplace=True)\n",
      "      (4): Linear(in_features=128, out_features=250, bias=True)\n",
      "    )\n",
      "  )\n",
      "  (mlp): InnerMLP(\n",
      "    (hidden): ModuleList()\n",
      "  )\n",
      ")\n"
     ]
    },
    {
     "name": "stderr",
     "output_type": "stream",
     "text": [
      "Epoch 0: 100%|██████████| 786/786 [00:04<00:00, 167.81it/s]\n"
     ]
    },
    {
     "name": "stdout",
     "output_type": "stream",
     "text": [
      "Epoch 0\ttraining loss = 0.016549957165532033\n"
     ]
    },
    {
     "name": "stderr",
     "output_type": "stream",
     "text": [
      "100%|██████████| 197/197 [00:02<00:00, 74.91it/s] \n"
     ]
    },
    {
     "name": "stdout",
     "output_type": "stream",
     "text": [
      "Epoch 0\tvalid loss = 0.002206521572044053\n"
     ]
    },
    {
     "name": "stderr",
     "output_type": "stream",
     "text": [
      "Epoch 1: 100%|██████████| 786/786 [00:04<00:00, 167.51it/s]\n",
      "100%|██████████| 197/197 [00:02<00:00, 75.21it/s] \n"
     ]
    },
    {
     "name": "stdout",
     "output_type": "stream",
     "text": [
      "Epoch 1\tvalid loss = 0.0027819681563414633\n"
     ]
    },
    {
     "name": "stderr",
     "output_type": "stream",
     "text": [
      "Epoch 2: 100%|██████████| 786/786 [00:04<00:00, 169.64it/s]\n",
      "100%|██████████| 197/197 [00:02<00:00, 75.50it/s] \n"
     ]
    },
    {
     "name": "stdout",
     "output_type": "stream",
     "text": [
      "Epoch 2\tvalid loss = 0.0023639234870809324\n"
     ]
    },
    {
     "name": "stderr",
     "output_type": "stream",
     "text": [
      "Epoch 3: 100%|██████████| 786/786 [00:04<00:00, 167.84it/s]\n",
      "100%|██████████| 197/197 [00:02<00:00, 74.93it/s] \n"
     ]
    },
    {
     "name": "stdout",
     "output_type": "stream",
     "text": [
      "Epoch 3\tvalid loss = 0.0010551857627008753\n"
     ]
    },
    {
     "name": "stderr",
     "output_type": "stream",
     "text": [
      "Epoch 4: 100%|██████████| 786/786 [00:04<00:00, 166.70it/s]\n",
      "100%|██████████| 197/197 [00:02<00:00, 74.51it/s] \n",
      "/home/dylan/mambaforge/envs/aiml/lib/python3.10/site-packages/wandb/wandb_torch.py:287: TracerWarning: Converting a tensor to a Python boolean might cause the trace to be incorrect. We can't record the data flow of Python values, so this value will be treated as a constant in the future. This means that the trace might not generalize to other inputs!\n",
      "  return tensor.shape == torch.Size([0]) or (~torch.isfinite(tensor)).all().item()\n",
      "/home/dylan/mambaforge/envs/aiml/lib/python3.10/site-packages/wandb/wandb_torch.py:287: TracerWarning: Converting a tensor to a Python number might cause the trace to be incorrect. We can't record the data flow of Python values, so this value will be treated as a constant in the future. This means that the trace might not generalize to other inputs!\n",
      "  return tensor.shape == torch.Size([0]) or (~torch.isfinite(tensor)).all().item()\n",
      "/home/dylan/mambaforge/envs/aiml/lib/python3.10/site-packages/wandb/wandb_torch.py:290: TracerWarning: Converting a tensor to a Python boolean might cause the trace to be incorrect. We can't record the data flow of Python values, so this value will be treated as a constant in the future. This means that the trace might not generalize to other inputs!\n",
      "  if not torch.isfinite(tensor).all():\n",
      "/home/dylan/mambaforge/envs/aiml/lib/python3.10/site-packages/wandb/wandb_torch.py:207: TracerWarning: Converting a tensor to a Python number might cause the trace to be incorrect. We can't record the data flow of Python values, so this value will be treated as a constant in the future. This means that the trace might not generalize to other inputs!\n",
      "  tmin = flat.min().item()\n",
      "/home/dylan/mambaforge/envs/aiml/lib/python3.10/site-packages/wandb/wandb_torch.py:208: TracerWarning: Converting a tensor to a Python number might cause the trace to be incorrect. We can't record the data flow of Python values, so this value will be treated as a constant in the future. This means that the trace might not generalize to other inputs!\n",
      "  tmax = flat.max().item()\n",
      "/home/dylan/mambaforge/envs/aiml/lib/python3.10/site-packages/wandb/wandb_torch.py:243: TracerWarning: Converting a tensor to a Python list might cause the trace to be incorrect. We can't record the data flow of Python values, so this value will be treated as a constant in the future. This means that the trace might not generalize to other inputs!\n",
      "  {name: wandb.Histogram(np_histogram=(tensor.tolist(), bins.tolist()))},\n"
     ]
    },
    {
     "name": "stdout",
     "output_type": "stream",
     "text": [
      "Epoch 4\tvalid loss = 0.0017586231653768862\n"
     ]
    },
    {
     "name": "stderr",
     "output_type": "stream",
     "text": [
      "Epoch 5: 100%|██████████| 786/786 [00:04<00:00, 164.12it/s]\n",
      "100%|██████████| 197/197 [00:02<00:00, 75.35it/s] \n"
     ]
    },
    {
     "name": "stdout",
     "output_type": "stream",
     "text": [
      "Epoch 5\tvalid loss = 0.0010024571482081506\n"
     ]
    },
    {
     "name": "stderr",
     "output_type": "stream",
     "text": [
      "Epoch 6: 100%|██████████| 786/786 [00:04<00:00, 166.55it/s]\n",
      "100%|██████████| 197/197 [00:02<00:00, 74.00it/s] \n"
     ]
    },
    {
     "name": "stdout",
     "output_type": "stream",
     "text": [
      "Epoch 6\tvalid loss = 0.0007560645835237757\n"
     ]
    },
    {
     "name": "stderr",
     "output_type": "stream",
     "text": [
      "Epoch 7: 100%|██████████| 786/786 [00:04<00:00, 165.44it/s]\n",
      "100%|██████████| 197/197 [00:02<00:00, 74.47it/s] \n"
     ]
    },
    {
     "name": "stdout",
     "output_type": "stream",
     "text": [
      "Epoch 7\tvalid loss = 0.0004872538109172873\n"
     ]
    },
    {
     "name": "stderr",
     "output_type": "stream",
     "text": [
      "Epoch 8: 100%|██████████| 786/786 [00:04<00:00, 164.80it/s]\n",
      "100%|██████████| 197/197 [00:02<00:00, 73.84it/s]\n"
     ]
    },
    {
     "name": "stdout",
     "output_type": "stream",
     "text": [
      "Epoch 8\tvalid loss = 0.0007819345652014678\n"
     ]
    },
    {
     "name": "stderr",
     "output_type": "stream",
     "text": [
      "Epoch 9: 100%|██████████| 786/786 [00:04<00:00, 162.06it/s]\n",
      "100%|██████████| 197/197 [00:02<00:00, 74.43it/s] \n"
     ]
    },
    {
     "name": "stdout",
     "output_type": "stream",
     "text": [
      "Epoch 9\tvalid loss = 0.0009446527549186202\n"
     ]
    },
    {
     "name": "stderr",
     "output_type": "stream",
     "text": [
      "Epoch 10: 100%|██████████| 786/786 [00:04<00:00, 162.43it/s]\n"
     ]
    },
    {
     "name": "stdout",
     "output_type": "stream",
     "text": [
      "Epoch 10\ttraining loss = 0.00045003566957352715\n"
     ]
    },
    {
     "name": "stderr",
     "output_type": "stream",
     "text": [
      "100%|██████████| 197/197 [00:02<00:00, 74.85it/s] \n"
     ]
    },
    {
     "name": "stdout",
     "output_type": "stream",
     "text": [
      "Epoch 10\tvalid loss = 0.0010333736899142214\n"
     ]
    },
    {
     "name": "stderr",
     "output_type": "stream",
     "text": [
      "Epoch 11: 100%|██████████| 786/786 [00:04<00:00, 161.78it/s]\n",
      "100%|██████████| 197/197 [00:02<00:00, 74.36it/s] \n"
     ]
    },
    {
     "name": "stdout",
     "output_type": "stream",
     "text": [
      "Epoch 11\tvalid loss = 0.0010432363210776633\n"
     ]
    },
    {
     "name": "stderr",
     "output_type": "stream",
     "text": [
      "Epoch 12: 100%|██████████| 786/786 [00:04<00:00, 163.14it/s]\n",
      "  1%|          | 1/197 [02:42<8:50:55, 162.53s/it]Exception ignored in: <function _MultiProcessingDataLoaderIter.__del__ at 0x7f226c750ee0>\n",
      "Traceback (most recent call last):\n",
      "  File \"/home/dylan/mambaforge/envs/aiml/lib/python3.10/site-packages/torch/utils/data/dataloader.py\", line 1478, in __del__\n",
      "    self._shutdown_workers()\n",
      "  File \"/home/dylan/mambaforge/envs/aiml/lib/python3.10/site-packages/torch/utils/data/dataloader.py\", line 1461, in _shutdown_workers\n",
      "    if w.is_alive():\n",
      "  File \"/home/dylan/mambaforge/envs/aiml/lib/python3.10/multiprocessing/process.py\", line 160, in is_alive\n",
      "    assert self._parent_pid == os.getpid(), 'can only test a child process'\n",
      "AssertionError: can only test a child process\n",
      "Exception ignored in: <function _MultiProcessingDataLoaderIter.__del__ at 0x7f226c750ee0>Exception ignored in: \n",
      "<function _MultiProcessingDataLoaderIter.__del__ at 0x7f226c750ee0>Traceback (most recent call last):\n",
      "\n",
      "  File \"/home/dylan/mambaforge/envs/aiml/lib/python3.10/site-packages/torch/utils/data/dataloader.py\", line 1478, in __del__\n",
      "Exception ignored in: Traceback (most recent call last):\n",
      "<function _MultiProcessingDataLoaderIter.__del__ at 0x7f226c750ee0>  File \"/home/dylan/mambaforge/envs/aiml/lib/python3.10/site-packages/torch/utils/data/dataloader.py\", line 1478, in __del__\n",
      "    \n",
      "self._shutdown_workers()    Traceback (most recent call last):\n",
      "\n",
      "self._shutdown_workers()  File \"/home/dylan/mambaforge/envs/aiml/lib/python3.10/site-packages/torch/utils/data/dataloader.py\", line 1478, in __del__\n",
      "  File \"/home/dylan/mambaforge/envs/aiml/lib/python3.10/site-packages/torch/utils/data/dataloader.py\", line 1461, in _shutdown_workers\n",
      "\n",
      "      File \"/home/dylan/mambaforge/envs/aiml/lib/python3.10/site-packages/torch/utils/data/dataloader.py\", line 1461, in _shutdown_workers\n",
      "    self._shutdown_workers()if w.is_alive():    \n",
      "\n",
      "if w.is_alive():  File \"/home/dylan/mambaforge/envs/aiml/lib/python3.10/site-packages/torch/utils/data/dataloader.py\", line 1461, in _shutdown_workers\n",
      "  File \"/home/dylan/mambaforge/envs/aiml/lib/python3.10/multiprocessing/process.py\", line 160, in is_alive\n",
      "\n",
      "      File \"/home/dylan/mambaforge/envs/aiml/lib/python3.10/multiprocessing/process.py\", line 160, in is_alive\n",
      "    assert self._parent_pid == os.getpid(), 'can only test a child process'if w.is_alive():    \n",
      "\n",
      "assert self._parent_pid == os.getpid(), 'can only test a child process'AssertionError  File \"/home/dylan/mambaforge/envs/aiml/lib/python3.10/multiprocessing/process.py\", line 160, in is_alive\n",
      "\n",
      ":     AssertionErrorcan only test a child processassert self._parent_pid == os.getpid(), 'can only test a child process': \n",
      "\n",
      "can only test a child processAssertionError\n",
      ": can only test a child process\n",
      " 63%|██████▎   | 124/197 [02:42<00:48,  1.50it/s] Exception ignored in: <function _MultiProcessingDataLoaderIter.__del__ at 0x7f226c750ee0>\n",
      "Traceback (most recent call last):\n",
      "  File \"/home/dylan/mambaforge/envs/aiml/lib/python3.10/site-packages/torch/utils/data/dataloader.py\", line 1478, in __del__\n",
      "    self._shutdown_workers()\n",
      "  File \"/home/dylan/mambaforge/envs/aiml/lib/python3.10/site-packages/torch/utils/data/dataloader.py\", line 1461, in _shutdown_workers\n",
      "    if w.is_alive():\n",
      "  File \"/home/dylan/mambaforge/envs/aiml/lib/python3.10/multiprocessing/process.py\", line 160, in is_alive\n",
      "    assert self._parent_pid == os.getpid(), 'can only test a child process'\n",
      "AssertionError: can only test a child process\n",
      "100%|██████████| 197/197 [02:43<00:00,  1.21it/s]\n"
     ]
    },
    {
     "name": "stdout",
     "output_type": "stream",
     "text": [
      "Epoch 12\tvalid loss = 0.0010894320820704064\n"
     ]
    },
    {
     "name": "stderr",
     "output_type": "stream",
     "text": [
      "Epoch 13: 100%|██████████| 786/786 [00:04<00:00, 174.04it/s]\n",
      "100%|██████████| 197/197 [00:02<00:00, 76.25it/s] \n"
     ]
    },
    {
     "name": "stdout",
     "output_type": "stream",
     "text": [
      "Epoch 13\tvalid loss = 0.0007999235252095717\n"
     ]
    },
    {
     "name": "stderr",
     "output_type": "stream",
     "text": [
      "Epoch 14: 100%|██████████| 786/786 [00:04<00:00, 169.60it/s]\n",
      "100%|██████████| 197/197 [00:02<00:00, 77.71it/s] \n"
     ]
    },
    {
     "name": "stdout",
     "output_type": "stream",
     "text": [
      "Epoch 14\tvalid loss = 0.0011077739054137406\n"
     ]
    },
    {
     "name": "stderr",
     "output_type": "stream",
     "text": [
      "Epoch 15: 100%|██████████| 786/786 [00:04<00:00, 168.40it/s]\n",
      "100%|██████████| 197/197 [00:02<00:00, 76.80it/s] \n"
     ]
    },
    {
     "name": "stdout",
     "output_type": "stream",
     "text": [
      "Epoch 15\tvalid loss = 0.0008346084373281278\n"
     ]
    },
    {
     "name": "stderr",
     "output_type": "stream",
     "text": [
      "Epoch 16: 100%|██████████| 786/786 [00:04<00:00, 167.00it/s]\n",
      "100%|██████████| 197/197 [00:02<00:00, 76.80it/s] \n"
     ]
    },
    {
     "name": "stdout",
     "output_type": "stream",
     "text": [
      "Epoch 16\tvalid loss = 0.001085956430837966\n"
     ]
    },
    {
     "name": "stderr",
     "output_type": "stream",
     "text": [
      "Epoch 17: 100%|██████████| 786/786 [00:04<00:00, 170.22it/s]\n",
      "100%|██████████| 197/197 [00:02<00:00, 76.78it/s] \n"
     ]
    },
    {
     "name": "stdout",
     "output_type": "stream",
     "text": [
      "Epoch 17\tvalid loss = 0.0005830239490836358\n"
     ]
    },
    {
     "name": "stderr",
     "output_type": "stream",
     "text": [
      "Epoch 18: 100%|██████████| 786/786 [00:04<00:00, 168.73it/s]\n",
      "100%|██████████| 197/197 [00:02<00:00, 76.49it/s]\n"
     ]
    },
    {
     "name": "stdout",
     "output_type": "stream",
     "text": [
      "Epoch 18\tvalid loss = 0.0010623599813014818\n"
     ]
    },
    {
     "name": "stderr",
     "output_type": "stream",
     "text": [
      "Epoch 19: 100%|██████████| 786/786 [00:04<00:00, 167.46it/s]\n",
      "100%|██████████| 197/197 [00:02<00:00, 74.63it/s] \n"
     ]
    },
    {
     "name": "stdout",
     "output_type": "stream",
     "text": [
      "Epoch 19\tvalid loss = 0.0006416169057841304\n"
     ]
    },
    {
     "name": "stderr",
     "output_type": "stream",
     "text": [
      "Epoch 20: 100%|██████████| 786/786 [00:04<00:00, 169.40it/s]\n"
     ]
    },
    {
     "name": "stdout",
     "output_type": "stream",
     "text": [
      "Epoch 20\ttraining loss = 0.00023570094115303518\n"
     ]
    },
    {
     "name": "stderr",
     "output_type": "stream",
     "text": [
      "100%|██████████| 197/197 [00:02<00:00, 76.03it/s] \n"
     ]
    },
    {
     "name": "stdout",
     "output_type": "stream",
     "text": [
      "Epoch 20\tvalid loss = 0.0009218537485638284\n"
     ]
    },
    {
     "name": "stderr",
     "output_type": "stream",
     "text": [
      "Epoch 21: 100%|██████████| 786/786 [00:04<00:00, 166.38it/s]\n",
      "100%|██████████| 197/197 [00:02<00:00, 76.45it/s] \n"
     ]
    },
    {
     "name": "stdout",
     "output_type": "stream",
     "text": [
      "Epoch 21\tvalid loss = 0.0009279241344602223\n"
     ]
    },
    {
     "name": "stderr",
     "output_type": "stream",
     "text": [
      "Epoch 22: 100%|██████████| 786/786 [00:04<00:00, 163.72it/s]\n",
      "100%|██████████| 197/197 [00:02<00:00, 74.46it/s] \n"
     ]
    },
    {
     "name": "stdout",
     "output_type": "stream",
     "text": [
      "Epoch 22\tvalid loss = 0.0006490143719274045\n"
     ]
    },
    {
     "name": "stderr",
     "output_type": "stream",
     "text": [
      "Epoch 23: 100%|██████████| 786/786 [00:04<00:00, 166.16it/s]\n",
      "100%|██████████| 197/197 [00:02<00:00, 75.26it/s] \n"
     ]
    },
    {
     "name": "stdout",
     "output_type": "stream",
     "text": [
      "Epoch 23\tvalid loss = 0.0007776609675643781\n"
     ]
    },
    {
     "name": "stderr",
     "output_type": "stream",
     "text": [
      "Epoch 24: 100%|██████████| 786/786 [00:04<00:00, 166.96it/s]\n",
      "100%|██████████| 197/197 [00:02<00:00, 76.24it/s] \n"
     ]
    },
    {
     "name": "stdout",
     "output_type": "stream",
     "text": [
      "Epoch 24\tvalid loss = 0.0006623676557043334\n"
     ]
    },
    {
     "name": "stderr",
     "output_type": "stream",
     "text": [
      "Epoch 25: 100%|██████████| 786/786 [00:04<00:00, 166.41it/s]\n",
      "100%|██████████| 197/197 [00:02<00:00, 76.87it/s] \n"
     ]
    },
    {
     "name": "stdout",
     "output_type": "stream",
     "text": [
      "Epoch 25\tvalid loss = 0.000681485048281608\n"
     ]
    },
    {
     "name": "stderr",
     "output_type": "stream",
     "text": [
      "Epoch 26: 100%|██████████| 786/786 [00:04<00:00, 164.55it/s]\n",
      "100%|██████████| 197/197 [00:02<00:00, 76.88it/s] \n"
     ]
    },
    {
     "name": "stdout",
     "output_type": "stream",
     "text": [
      "Epoch 26\tvalid loss = 0.0007800288048326416\n"
     ]
    },
    {
     "name": "stderr",
     "output_type": "stream",
     "text": [
      "Epoch 27: 100%|██████████| 786/786 [00:04<00:00, 162.96it/s]\n",
      "100%|██████████| 197/197 [00:02<00:00, 75.97it/s] \n"
     ]
    },
    {
     "name": "stdout",
     "output_type": "stream",
     "text": [
      "Epoch 27\tvalid loss = 0.0008676950559776446\n"
     ]
    },
    {
     "name": "stderr",
     "output_type": "stream",
     "text": [
      "Epoch 28: 100%|██████████| 786/786 [00:04<00:00, 165.33it/s]\n",
      "100%|██████████| 197/197 [00:02<00:00, 75.98it/s] \n"
     ]
    },
    {
     "name": "stdout",
     "output_type": "stream",
     "text": [
      "Epoch 28\tvalid loss = 0.0006945630664419238\n"
     ]
    },
    {
     "name": "stderr",
     "output_type": "stream",
     "text": [
      "Epoch 29: 100%|██████████| 786/786 [00:04<00:00, 167.00it/s]\n",
      "100%|██████████| 197/197 [00:02<00:00, 77.41it/s] \n"
     ]
    },
    {
     "name": "stdout",
     "output_type": "stream",
     "text": [
      "Epoch 29\tvalid loss = 0.0008677641731244571\n"
     ]
    },
    {
     "name": "stderr",
     "output_type": "stream",
     "text": [
      "Epoch 30: 100%|██████████| 786/786 [00:04<00:00, 160.51it/s]\n"
     ]
    },
    {
     "name": "stdout",
     "output_type": "stream",
     "text": [
      "Epoch 30\ttraining loss = 0.00014992893007867132\n"
     ]
    },
    {
     "name": "stderr",
     "output_type": "stream",
     "text": [
      "100%|██████████| 197/197 [00:02<00:00, 75.09it/s] \n"
     ]
    },
    {
     "name": "stdout",
     "output_type": "stream",
     "text": [
      "Epoch 30\tvalid loss = 0.0007352260468296616\n"
     ]
    },
    {
     "name": "stderr",
     "output_type": "stream",
     "text": [
      "Epoch 31: 100%|██████████| 786/786 [00:04<00:00, 161.35it/s]\n",
      "100%|██████████| 197/197 [00:02<00:00, 75.85it/s] \n"
     ]
    },
    {
     "name": "stdout",
     "output_type": "stream",
     "text": [
      "Epoch 31\tvalid loss = 0.0006586374297397103\n"
     ]
    },
    {
     "name": "stderr",
     "output_type": "stream",
     "text": [
      "Epoch 32: 100%|██████████| 786/786 [00:04<00:00, 165.62it/s]\n",
      "100%|██████████| 197/197 [00:02<00:00, 76.08it/s] \n"
     ]
    },
    {
     "name": "stdout",
     "output_type": "stream",
     "text": [
      "Epoch 32\tvalid loss = 0.0007648112246149744\n"
     ]
    },
    {
     "name": "stderr",
     "output_type": "stream",
     "text": [
      "Epoch 33: 100%|██████████| 786/786 [00:04<00:00, 167.36it/s]\n",
      "100%|██████████| 197/197 [00:02<00:00, 75.23it/s] \n"
     ]
    },
    {
     "name": "stdout",
     "output_type": "stream",
     "text": [
      "Epoch 33\tvalid loss = 0.0007890459776620811\n"
     ]
    },
    {
     "name": "stderr",
     "output_type": "stream",
     "text": [
      "Epoch 34: 100%|██████████| 786/786 [00:04<00:00, 162.01it/s]\n",
      "100%|██████████| 197/197 [00:02<00:00, 76.27it/s] \n"
     ]
    },
    {
     "name": "stdout",
     "output_type": "stream",
     "text": [
      "Epoch 34\tvalid loss = 0.0005225858851725964\n"
     ]
    },
    {
     "name": "stderr",
     "output_type": "stream",
     "text": [
      "Epoch 35: 100%|██████████| 786/786 [00:04<00:00, 162.74it/s]\n",
      "100%|██████████| 197/197 [00:02<00:00, 75.13it/s] \n"
     ]
    },
    {
     "name": "stdout",
     "output_type": "stream",
     "text": [
      "Epoch 35\tvalid loss = 0.0006898939409715757\n"
     ]
    },
    {
     "name": "stderr",
     "output_type": "stream",
     "text": [
      "Epoch 36: 100%|██████████| 786/786 [00:04<00:00, 166.26it/s]\n",
      "100%|██████████| 197/197 [00:02<00:00, 76.33it/s] \n"
     ]
    },
    {
     "name": "stdout",
     "output_type": "stream",
     "text": [
      "Epoch 36\tvalid loss = 0.000815665000339918\n"
     ]
    },
    {
     "name": "stderr",
     "output_type": "stream",
     "text": [
      "Epoch 37: 100%|██████████| 786/786 [00:04<00:00, 167.01it/s]\n",
      "100%|██████████| 197/197 [00:02<00:00, 76.71it/s] \n"
     ]
    },
    {
     "name": "stdout",
     "output_type": "stream",
     "text": [
      "Epoch 37\tvalid loss = 0.0005712721299667852\n"
     ]
    },
    {
     "name": "stderr",
     "output_type": "stream",
     "text": [
      "Epoch 38: 100%|██████████| 786/786 [00:04<00:00, 164.29it/s]\n",
      "100%|██████████| 197/197 [00:02<00:00, 75.45it/s]\n"
     ]
    },
    {
     "name": "stdout",
     "output_type": "stream",
     "text": [
      "Epoch 38\tvalid loss = 0.0006345538339918293\n"
     ]
    },
    {
     "name": "stderr",
     "output_type": "stream",
     "text": [
      "Epoch 39: 100%|██████████| 786/786 [00:04<00:00, 165.06it/s]\n",
      "100%|██████████| 197/197 [00:02<00:00, 75.40it/s] \n"
     ]
    },
    {
     "name": "stdout",
     "output_type": "stream",
     "text": [
      "Epoch 39\tvalid loss = 0.0009290110571741311\n"
     ]
    },
    {
     "name": "stderr",
     "output_type": "stream",
     "text": [
      "Epoch 40: 100%|██████████| 786/786 [00:04<00:00, 163.30it/s]\n"
     ]
    },
    {
     "name": "stdout",
     "output_type": "stream",
     "text": [
      "Epoch 40\ttraining loss = 0.0001553641558696263\n"
     ]
    },
    {
     "name": "stderr",
     "output_type": "stream",
     "text": [
      "100%|██████████| 197/197 [00:02<00:00, 75.11it/s]\n"
     ]
    },
    {
     "name": "stdout",
     "output_type": "stream",
     "text": [
      "Epoch 40\tvalid loss = 0.000718399956978256\n"
     ]
    },
    {
     "name": "stderr",
     "output_type": "stream",
     "text": [
      "Epoch 41: 100%|██████████| 786/786 [00:04<00:00, 162.14it/s]\n",
      "100%|██████████| 197/197 [00:02<00:00, 75.65it/s] \n"
     ]
    },
    {
     "name": "stdout",
     "output_type": "stream",
     "text": [
      "Epoch 41\tvalid loss = 0.0004956599597956248\n"
     ]
    },
    {
     "name": "stderr",
     "output_type": "stream",
     "text": [
      "Epoch 42: 100%|██████████| 786/786 [00:04<00:00, 163.75it/s]\n",
      "100%|██████████| 197/197 [00:02<00:00, 76.09it/s]\n"
     ]
    },
    {
     "name": "stdout",
     "output_type": "stream",
     "text": [
      "Epoch 42\tvalid loss = 0.0008216776582161272\n"
     ]
    },
    {
     "name": "stderr",
     "output_type": "stream",
     "text": [
      "Epoch 43: 100%|██████████| 786/786 [00:04<00:00, 166.22it/s]\n",
      "100%|██████████| 197/197 [00:02<00:00, 76.56it/s] \n"
     ]
    },
    {
     "name": "stdout",
     "output_type": "stream",
     "text": [
      "Epoch 43\tvalid loss = 0.0005709239175935573\n"
     ]
    },
    {
     "name": "stderr",
     "output_type": "stream",
     "text": [
      "Epoch 44: 100%|██████████| 786/786 [00:04<00:00, 163.81it/s]\n",
      "100%|██████████| 197/197 [00:02<00:00, 75.20it/s] \n"
     ]
    },
    {
     "name": "stdout",
     "output_type": "stream",
     "text": [
      "Epoch 44\tvalid loss = 0.0006205459107759499\n"
     ]
    },
    {
     "name": "stderr",
     "output_type": "stream",
     "text": [
      "Epoch 45: 100%|██████████| 786/786 [00:04<00:00, 160.12it/s]\n",
      "100%|██████████| 197/197 [00:02<00:00, 74.27it/s]\n"
     ]
    },
    {
     "name": "stdout",
     "output_type": "stream",
     "text": [
      "Epoch 45\tvalid loss = 0.0005628504245739955\n"
     ]
    },
    {
     "name": "stderr",
     "output_type": "stream",
     "text": [
      "Epoch 46: 100%|██████████| 786/786 [00:04<00:00, 166.02it/s]\n",
      "100%|██████████| 197/197 [00:02<00:00, 74.72it/s] \n"
     ]
    },
    {
     "name": "stdout",
     "output_type": "stream",
     "text": [
      "Epoch 46\tvalid loss = 0.0010505040053001647\n"
     ]
    },
    {
     "name": "stderr",
     "output_type": "stream",
     "text": [
      "Epoch 47: 100%|██████████| 786/786 [00:04<00:00, 165.28it/s]\n",
      "100%|██████████| 197/197 [00:02<00:00, 75.77it/s] \n"
     ]
    },
    {
     "name": "stdout",
     "output_type": "stream",
     "text": [
      "Epoch 47\tvalid loss = 0.0007058665565627823\n"
     ]
    },
    {
     "name": "stderr",
     "output_type": "stream",
     "text": [
      "Epoch 48: 100%|██████████| 786/786 [00:04<00:00, 163.89it/s]\n",
      "100%|██████████| 197/197 [00:02<00:00, 75.95it/s] \n"
     ]
    },
    {
     "name": "stdout",
     "output_type": "stream",
     "text": [
      "Epoch 48\tvalid loss = 0.0007643770804492223\n"
     ]
    },
    {
     "name": "stderr",
     "output_type": "stream",
     "text": [
      "Epoch 49: 100%|██████████| 786/786 [00:04<00:00, 166.77it/s]\n",
      "100%|██████████| 197/197 [00:02<00:00, 75.62it/s] \n"
     ]
    },
    {
     "name": "stdout",
     "output_type": "stream",
     "text": [
      "Epoch 49\tvalid loss = 0.000578735931329565\n",
      "load model nolinearAE!\n",
      "load model nolinearAE_U!\n"
     ]
    },
    {
     "data": {
      "text/html": [
       "Waiting for W&B process to finish... <strong style=\"color:green\">(success).</strong>"
      ],
      "text/plain": [
       "<IPython.core.display.HTML object>"
      ]
     },
     "metadata": {},
     "output_type": "display_data"
    },
    {
     "data": {
      "text/html": [
       "<style>\n",
       "    table.wandb td:nth-child(1) { padding: 0 10px; text-align: left ; width: auto;} td:nth-child(2) {text-align: left ; width: 100%}\n",
       "    .wandb-row { display: flex; flex-direction: row; flex-wrap: wrap; justify-content: flex-start; width: 100% }\n",
       "    .wandb-col { display: flex; flex-direction: column; flex-basis: 100%; flex: 1; padding: 10px; }\n",
       "    </style>\n",
       "<div class=\"wandb-row\"><div class=\"wandb-col\"><h3>Run history:</h3><br/><table class=\"wandb\"><tr><td>epoch</td><td>▁▁▁▁▂▂▂▂▂▃▃▃▃▃▃▄▄▄▄▄▅▅▅▅▅▅▆▆▆▆▆▆▇▇▇▇▇███</td></tr><tr><td>loss</td><td>█▁▁▁▁▁▁▁▁▁▁▁▁▁▁▁▁▁▁▁▁▁▁▁▁▁▁▁▁▁▁▁▁▁▁▁▁▁▁▁</td></tr><tr><td>val_loss</td><td>▆█▇▃▃▂▁▂▃▃▃▂▂▃▁▃▂▂▁▂▂▂▂▂▂▂▂▂▂▂▁▁▂▁▂▁▁▃▂▁</td></tr></table><br/></div><div class=\"wandb-col\"><h3>Run summary:</h3><br/><table class=\"wandb\"><tr><td>epoch</td><td>49</td></tr><tr><td>loss</td><td>0.00012</td></tr><tr><td>val_loss</td><td>0.00058</td></tr></table><br/></div></div>"
      ],
      "text/plain": [
       "<IPython.core.display.HTML object>"
      ]
     },
     "metadata": {},
     "output_type": "display_data"
    },
    {
     "data": {
      "text/html": [
       " View run <strong style=\"color:#cdcd00\">nolinearAE_U</strong> at: <a href='https://wandb.ai/dylanli/10617-project/runs/is08t632' target=\"_blank\">https://wandb.ai/dylanli/10617-project/runs/is08t632</a><br/> View job at <a href='https://wandb.ai/dylanli/10617-project/jobs/QXJ0aWZhY3RDb2xsZWN0aW9uOjExMTAzODkzNw==/version_details/v27' target=\"_blank\">https://wandb.ai/dylanli/10617-project/jobs/QXJ0aWZhY3RDb2xsZWN0aW9uOjExMTAzODkzNw==/version_details/v27</a><br/>Synced 6 W&B file(s), 2 media file(s), 4 artifact file(s) and 2 other file(s)"
      ],
      "text/plain": [
       "<IPython.core.display.HTML object>"
      ]
     },
     "metadata": {},
     "output_type": "display_data"
    },
    {
     "data": {
      "text/html": [
       "Find logs at: <code>./wandb/run-20231030_005732-is08t632/logs</code>"
      ],
      "text/plain": [
       "<IPython.core.display.HTML object>"
      ]
     },
     "metadata": {},
     "output_type": "display_data"
    },
    {
     "data": {
      "image/png": "[encoded data removed]",
      "image/svg+xml": [
       "<?xml version=\"1.0\" encoding=\"utf-8\" standalone=\"no\"?>\n",
       "<!DOCTYPE svg PUBLIC \"-//W3C//DTD SVG 1.1//EN\"\n",
       "  \"http://www.w3.org/Graphics/SVG/1.1/DTD/svg11.dtd\">\n",
       "<svg xmlns:xlink=\"http://www.w3.org/1999/xlink\" width=\"385.78125pt\" height=\"281.634375pt\" viewBox=\"0 0 385.78125 281.634375\" xmlns=\"http://www.w3.org/2000/svg\" version=\"1.1\">\n",
       " <metadata>\n",
       "  <rdf:RDF xmlns:dc=\"http://purl.org/dc/elements/1.1/\" xmlns:cc=\"http://creativecommons.org/ns#\" xmlns:rdf=\"http://www.w3.org/1999/02/22-rdf-syntax-ns#\">\n",
       "   <cc:Work>\n",
       "    <dc:type rdf:resource=\"http://purl.org/dc/dcmitype/StillImage\"/>\n",
       "    <dc:date>2023-10-30T01:07:03.724136</dc:date>\n",
       "    <dc:format>image/svg+xml</dc:format>\n",
       "    <dc:creator>\n",
       "     <cc:Agent>\n",
       "      <dc:title>Matplotlib v3.8.0, https://matplotlib.org/</dc:title>\n",
       "     </cc:Agent>\n",
       "    </dc:creator>\n",
       "   </cc:Work>\n",
       "  </rdf:RDF>\n",
       " </metadata>\n",
       " <defs>\n",
       "  <style type=\"text/css\">*{stroke-linejoin: round; stroke-linecap: butt}</style>\n",
       " </defs>\n",
       " <g id=\"figure_1\">\n",
       "  <g id=\"patch_1\">\n",
       "   <path d=\"M 0 281.634375 \n",
       "L 385.78125 281.634375 \n",
       "L 385.78125 0 \n",
       "L 0 0 \n",
       "z\n",
       "\"/>\n",
       "  </g>\n",
       "  <g id=\"axes_1\">\n",
       "   <g id=\"patch_2\">\n",
       "    <path d=\"M 43.78125 244.078125 \n",
       "L 378.58125 244.078125 \n",
       "L 378.58125 22.318125 \n",
       "L 43.78125 22.318125 \n",
       "z\n",
       "\"/>\n",
       "   </g>\n",
       "   <g id=\"matplotlib.axis_1\">\n",
       "    <g id=\"xtick_1\">\n",
       "     <g id=\"line2d_1\">\n",
       "      <defs>\n",
       "       <path id=\"me3821c5c91\" d=\"M 0 0 \n",
       "L 0 3.5 \n",
       "\" style=\"stroke: #ffffff; stroke-width: 0.8\"/>\n",
       "      </defs>\n",
       "      <g>\n",
       "       <use xlink:href=\"#me3821c5c91\" x=\"43.78125\" y=\"244.078125\" style=\"fill: #ffffff; stroke: #ffffff; stroke-width: 0.8\"/>\n",
       "      </g>\n",
       "     </g>\n",
       "     <g id=\"text_1\">\n",
       "      <!-- 0 -->\n",
       "      <g style=\"fill: #ffffff\" transform=\"translate(40.6 258.676562) scale(0.1 -0.1)\">\n",
       "       <defs>\n",
       "        <path id=\"DejaVuSans-30\" d=\"M 2034 4250 \n",
       "Q 1547 4250 1301 3770 \n",
       "Q 1056 3291 1056 2328 \n",
       "Q 1056 1369 1301 889 \n",
       "Q 1547 409 2034 409 \n",
       "Q 2525 409 2770 889 \n",
       "Q 3016 1369 3016 2328 \n",
       "Q 3016 3291 2770 3770 \n",
       "Q 2525 4250 2034 4250 \n",
       "z\n",
       "M 2034 4750 \n",
       "Q 2819 4750 3233 4129 \n",
       "Q 3647 3509 3647 2328 \n",
       "Q 3647 1150 3233 529 \n",
       "Q 2819 -91 2034 -91 \n",
       "Q 1250 -91 836 529 \n",
       "Q 422 1150 422 2328 \n",
       "Q 422 3509 836 4129 \n",
       "Q 1250 4750 2034 4750 \n",
       "z\n",
       "\" transform=\"scale(0.015625)\"/>\n",
       "       </defs>\n",
       "       <use xlink:href=\"#DejaVuSans-30\"/>\n",
       "      </g>\n",
       "     </g>\n",
       "    </g>\n",
       "    <g id=\"xtick_2\">\n",
       "     <g id=\"line2d_2\">\n",
       "      <g>\n",
       "       <use xlink:href=\"#me3821c5c91\" x=\"96.09375\" y=\"244.078125\" style=\"fill: #ffffff; stroke: #ffffff; stroke-width: 0.8\"/>\n",
       "      </g>\n",
       "     </g>\n",
       "     <g id=\"text_2\">\n",
       "      <!-- 5 -->\n",
       "      <g style=\"fill: #ffffff\" transform=\"translate(92.9125 258.676562) scale(0.1 -0.1)\">\n",
       "       <defs>\n",
       "        <path id=\"DejaVuSans-35\" d=\"M 691 4666 \n",
       "L 3169 4666 \n",
       "L 3169 4134 \n",
       "L 1269 4134 \n",
       "L 1269 2991 \n",
       "Q 1406 3038 1543 3061 \n",
       "Q 1681 3084 1819 3084 \n",
       "Q 2600 3084 3056 2656 \n",
       "Q 3513 2228 3513 1497 \n",
       "Q 3513 744 3044 326 \n",
       "Q 2575 -91 1722 -91 \n",
       "Q 1428 -91 1123 -41 \n",
       "Q 819 9 494 109 \n",
       "L 494 744 \n",
       "Q 775 591 1075 516 \n",
       "Q 1375 441 1709 441 \n",
       "Q 2250 441 2565 725 \n",
       "Q 2881 1009 2881 1497 \n",
       "Q 2881 1984 2565 2268 \n",
       "Q 2250 2553 1709 2553 \n",
       "Q 1456 2553 1204 2497 \n",
       "Q 953 2441 691 2322 \n",
       "L 691 4666 \n",
       "z\n",
       "\" transform=\"scale(0.015625)\"/>\n",
       "       </defs>\n",
       "       <use xlink:href=\"#DejaVuSans-35\"/>\n",
       "      </g>\n",
       "     </g>\n",
       "    </g>\n",
       "    <g id=\"xtick_3\">\n",
       "     <g id=\"line2d_3\">\n",
       "      <g>\n",
       "       <use xlink:href=\"#me3821c5c91\" x=\"148.40625\" y=\"244.078125\" style=\"fill: #ffffff; stroke: #ffffff; stroke-width: 0.8\"/>\n",
       "      </g>\n",
       "     </g>\n",
       "     <g id=\"text_3\">\n",
       "      <!-- 10 -->\n",
       "      <g style=\"fill: #ffffff\" transform=\"translate(142.04375 258.676562) scale(0.1 -0.1)\">\n",
       "       <defs>\n",
       "        <path id=\"DejaVuSans-31\" d=\"M 794 531 \n",
       "L 1825 531 \n",
       "L 1825 4091 \n",
       "L 703 3866 \n",
       "L 703 4441 \n",
       "L 1819 4666 \n",
       "L 2450 4666 \n",
       "L 2450 531 \n",
       "L 3481 531 \n",
       "L 3481 0 \n",
       "L 794 0 \n",
       "L 794 531 \n",
       "z\n",
       "\" transform=\"scale(0.015625)\"/>\n",
       "       </defs>\n",
       "       <use xlink:href=\"#DejaVuSans-31\"/>\n",
       "       <use xlink:href=\"#DejaVuSans-30\" x=\"63.623047\"/>\n",
       "      </g>\n",
       "     </g>\n",
       "    </g>\n",
       "    <g id=\"xtick_4\">\n",
       "     <g id=\"line2d_4\">\n",
       "      <g>\n",
       "       <use xlink:href=\"#me3821c5c91\" x=\"200.71875\" y=\"244.078125\" style=\"fill: #ffffff; stroke: #ffffff; stroke-width: 0.8\"/>\n",
       "      </g>\n",
       "     </g>\n",
       "     <g id=\"text_4\">\n",
       "      <!-- 15 -->\n",
       "      <g style=\"fill: #ffffff\" transform=\"translate(194.35625 258.676562) scale(0.1 -0.1)\">\n",
       "       <use xlink:href=\"#DejaVuSans-31\"/>\n",
       "       <use xlink:href=\"#DejaVuSans-35\" x=\"63.623047\"/>\n",
       "      </g>\n",
       "     </g>\n",
       "    </g>\n",
       "    <g id=\"xtick_5\">\n",
       "     <g id=\"line2d_5\">\n",
       "      <g>\n",
       "       <use xlink:href=\"#me3821c5c91\" x=\"253.03125\" y=\"244.078125\" style=\"fill: #ffffff; stroke: #ffffff; stroke-width: 0.8\"/>\n",
       "      </g>\n",
       "     </g>\n",
       "     <g id=\"text_5\">\n",
       "      <!-- 20 -->\n",
       "      <g style=\"fill: #ffffff\" transform=\"translate(246.66875 258.676562) scale(0.1 -0.1)\">\n",
       "       <defs>\n",
       "        <path id=\"DejaVuSans-32\" d=\"M 1228 531 \n",
       "L 3431 531 \n",
       "L 3431 0 \n",
       "L 469 0 \n",
       "L 469 531 \n",
       "Q 828 903 1448 1529 \n",
       "Q 2069 2156 2228 2338 \n",
       "Q 2531 2678 2651 2914 \n",
       "Q 2772 3150 2772 3378 \n",
       "Q 2772 3750 2511 3984 \n",
       "Q 2250 4219 1831 4219 \n",
       "Q 1534 4219 1204 4116 \n",
       "Q 875 4013 500 3803 \n",
       "L 500 4441 \n",
       "Q 881 4594 1212 4672 \n",
       "Q 1544 4750 1819 4750 \n",
       "Q 2544 4750 2975 4387 \n",
       "Q 3406 4025 3406 3419 \n",
       "Q 3406 3131 3298 2873 \n",
       "Q 3191 2616 2906 2266 \n",
       "Q 2828 2175 2409 1742 \n",
       "Q 1991 1309 1228 531 \n",
       "z\n",
       "\" transform=\"scale(0.015625)\"/>\n",
       "       </defs>\n",
       "       <use xlink:href=\"#DejaVuSans-32\"/>\n",
       "       <use xlink:href=\"#DejaVuSans-30\" x=\"63.623047\"/>\n",
       "      </g>\n",
       "     </g>\n",
       "    </g>\n",
       "    <g id=\"xtick_6\">\n",
       "     <g id=\"line2d_6\">\n",
       "      <g>\n",
       "       <use xlink:href=\"#me3821c5c91\" x=\"305.34375\" y=\"244.078125\" style=\"fill: #ffffff; stroke: #ffffff; stroke-width: 0.8\"/>\n",
       "      </g>\n",
       "     </g>\n",
       "     <g id=\"text_6\">\n",
       "      <!-- 25 -->\n",
       "      <g style=\"fill: #ffffff\" transform=\"translate(298.98125 258.676562) scale(0.1 -0.1)\">\n",
       "       <use xlink:href=\"#DejaVuSans-32\"/>\n",
       "       <use xlink:href=\"#DejaVuSans-35\" x=\"63.623047\"/>\n",
       "      </g>\n",
       "     </g>\n",
       "    </g>\n",
       "    <g id=\"xtick_7\">\n",
       "     <g id=\"line2d_7\">\n",
       "      <g>\n",
       "       <use xlink:href=\"#me3821c5c91\" x=\"357.65625\" y=\"244.078125\" style=\"fill: #ffffff; stroke: #ffffff; stroke-width: 0.8\"/>\n",
       "      </g>\n",
       "     </g>\n",
       "     <g id=\"text_7\">\n",
       "      <!-- 30 -->\n",
       "      <g style=\"fill: #ffffff\" transform=\"translate(351.29375 258.676562) scale(0.1 -0.1)\">\n",
       "       <defs>\n",
       "        <path id=\"DejaVuSans-33\" d=\"M 2597 2516 \n",
       "Q 3050 2419 3304 2112 \n",
       "Q 3559 1806 3559 1356 \n",
       "Q 3559 666 3084 287 \n",
       "Q 2609 -91 1734 -91 \n",
       "Q 1441 -91 1130 -33 \n",
       "Q 819 25 488 141 \n",
       "L 488 750 \n",
       "Q 750 597 1062 519 \n",
       "Q 1375 441 1716 441 \n",
       "Q 2309 441 2620 675 \n",
       "Q 2931 909 2931 1356 \n",
       "Q 2931 1769 2642 2001 \n",
       "Q 2353 2234 1838 2234 \n",
       "L 1294 2234 \n",
       "L 1294 2753 \n",
       "L 1863 2753 \n",
       "Q 2328 2753 2575 2939 \n",
       "Q 2822 3125 2822 3475 \n",
       "Q 2822 3834 2567 4026 \n",
       "Q 2313 4219 1838 4219 \n",
       "Q 1578 4219 1281 4162 \n",
       "Q 984 4106 628 3988 \n",
       "L 628 4550 \n",
       "Q 988 4650 1302 4700 \n",
       "Q 1616 4750 1894 4750 \n",
       "Q 2613 4750 3031 4423 \n",
       "Q 3450 4097 3450 3541 \n",
       "Q 3450 3153 3228 2886 \n",
       "Q 3006 2619 2597 2516 \n",
       "z\n",
       "\" transform=\"scale(0.015625)\"/>\n",
       "       </defs>\n",
       "       <use xlink:href=\"#DejaVuSans-33\"/>\n",
       "       <use xlink:href=\"#DejaVuSans-30\" x=\"63.623047\"/>\n",
       "      </g>\n",
       "     </g>\n",
       "    </g>\n",
       "    <g id=\"text_8\">\n",
       "     <!-- Singular Value Rank -->\n",
       "     <g style=\"fill: #ffffff\" transform=\"translate(161.198438 272.354687) scale(0.1 -0.1)\">\n",
       "      <defs>\n",
       "       <path id=\"DejaVuSans-53\" d=\"M 3425 4513 \n",
       "L 3425 3897 \n",
       "Q 3066 4069 2747 4153 \n",
       "Q 2428 4238 2131 4238 \n",
       "Q 1616 4238 1336 4038 \n",
       "Q 1056 3838 1056 3469 \n",
       "Q 1056 3159 1242 3001 \n",
       "Q 1428 2844 1947 2747 \n",
       "L 2328 2669 \n",
       "Q 3034 2534 3370 2195 \n",
       "Q 3706 1856 3706 1288 \n",
       "Q 3706 609 3251 259 \n",
       "Q 2797 -91 1919 -91 \n",
       "Q 1588 -91 1214 -16 \n",
       "Q 841 59 441 206 \n",
       "L 441 856 \n",
       "Q 825 641 1194 531 \n",
       "Q 1563 422 1919 422 \n",
       "Q 2459 422 2753 634 \n",
       "Q 3047 847 3047 1241 \n",
       "Q 3047 1584 2836 1778 \n",
       "Q 2625 1972 2144 2069 \n",
       "L 1759 2144 \n",
       "Q 1053 2284 737 2584 \n",
       "Q 422 2884 422 3419 \n",
       "Q 422 4038 858 4394 \n",
       "Q 1294 4750 2059 4750 \n",
       "Q 2388 4750 2728 4690 \n",
       "Q 3069 4631 3425 4513 \n",
       "z\n",
       "\" transform=\"scale(0.015625)\"/>\n",
       "       <path id=\"DejaVuSans-69\" d=\"M 603 3500 \n",
       "L 1178 3500 \n",
       "L 1178 0 \n",
       "L 603 0 \n",
       "L 603 3500 \n",
       "z\n",
       "M 603 4863 \n",
       "L 1178 4863 \n",
       "L 1178 4134 \n",
       "L 603 4134 \n",
       "L 603 4863 \n",
       "z\n",
       "\" transform=\"scale(0.015625)\"/>\n",
       "       <path id=\"DejaVuSans-6e\" d=\"M 3513 2113 \n",
       "L 3513 0 \n",
       "L 2938 0 \n",
       "L 2938 2094 \n",
       "Q 2938 2591 2744 2837 \n",
       "Q 2550 3084 2163 3084 \n",
       "Q 1697 3084 1428 2787 \n",
       "Q 1159 2491 1159 1978 \n",
       "L 1159 0 \n",
       "L 581 0 \n",
       "L 581 3500 \n",
       "L 1159 3500 \n",
       "L 1159 2956 \n",
       "Q 1366 3272 1645 3428 \n",
       "Q 1925 3584 2291 3584 \n",
       "Q 2894 3584 3203 3211 \n",
       "Q 3513 2838 3513 2113 \n",
       "z\n",
       "\" transform=\"scale(0.015625)\"/>\n",
       "       <path id=\"DejaVuSans-67\" d=\"M 2906 1791 \n",
       "Q 2906 2416 2648 2759 \n",
       "Q 2391 3103 1925 3103 \n",
       "Q 1463 3103 1205 2759 \n",
       "Q 947 2416 947 1791 \n",
       "Q 947 1169 1205 825 \n",
       "Q 1463 481 1925 481 \n",
       "Q 2391 481 2648 825 \n",
       "Q 2906 1169 2906 1791 \n",
       "z\n",
       "M 3481 434 \n",
       "Q 3481 -459 3084 -895 \n",
       "Q 2688 -1331 1869 -1331 \n",
       "Q 1566 -1331 1297 -1286 \n",
       "Q 1028 -1241 775 -1147 \n",
       "L 775 -588 \n",
       "Q 1028 -725 1275 -790 \n",
       "Q 1522 -856 1778 -856 \n",
       "Q 2344 -856 2625 -561 \n",
       "Q 2906 -266 2906 331 \n",
       "L 2906 616 \n",
       "Q 2728 306 2450 153 \n",
       "Q 2172 0 1784 0 \n",
       "Q 1141 0 747 490 \n",
       "Q 353 981 353 1791 \n",
       "Q 353 2603 747 3093 \n",
       "Q 1141 3584 1784 3584 \n",
       "Q 2172 3584 2450 3431 \n",
       "Q 2728 3278 2906 2969 \n",
       "L 2906 3500 \n",
       "L 3481 3500 \n",
       "L 3481 434 \n",
       "z\n",
       "\" transform=\"scale(0.015625)\"/>\n",
       "       <path id=\"DejaVuSans-75\" d=\"M 544 1381 \n",
       "L 544 3500 \n",
       "L 1119 3500 \n",
       "L 1119 1403 \n",
       "Q 1119 906 1312 657 \n",
       "Q 1506 409 1894 409 \n",
       "Q 2359 409 2629 706 \n",
       "Q 2900 1003 2900 1516 \n",
       "L 2900 3500 \n",
       "L 3475 3500 \n",
       "L 3475 0 \n",
       "L 2900 0 \n",
       "L 2900 538 \n",
       "Q 2691 219 2414 64 \n",
       "Q 2138 -91 1772 -91 \n",
       "Q 1169 -91 856 284 \n",
       "Q 544 659 544 1381 \n",
       "z\n",
       "M 1991 3584 \n",
       "L 1991 3584 \n",
       "z\n",
       "\" transform=\"scale(0.015625)\"/>\n",
       "       <path id=\"DejaVuSans-6c\" d=\"M 603 4863 \n",
       "L 1178 4863 \n",
       "L 1178 0 \n",
       "L 603 0 \n",
       "L 603 4863 \n",
       "z\n",
       "\" transform=\"scale(0.015625)\"/>\n",
       "       <path id=\"DejaVuSans-61\" d=\"M 2194 1759 \n",
       "Q 1497 1759 1228 1600 \n",
       "Q 959 1441 959 1056 \n",
       "Q 959 750 1161 570 \n",
       "Q 1363 391 1709 391 \n",
       "Q 2188 391 2477 730 \n",
       "Q 2766 1069 2766 1631 \n",
       "L 2766 1759 \n",
       "L 2194 1759 \n",
       "z\n",
       "M 3341 1997 \n",
       "L 3341 0 \n",
       "L 2766 0 \n",
       "L 2766 531 \n",
       "Q 2569 213 2275 61 \n",
       "Q 1981 -91 1556 -91 \n",
       "Q 1019 -91 701 211 \n",
       "Q 384 513 384 1019 \n",
       "Q 384 1609 779 1909 \n",
       "Q 1175 2209 1959 2209 \n",
       "L 2766 2209 \n",
       "L 2766 2266 \n",
       "Q 2766 2663 2505 2880 \n",
       "Q 2244 3097 1772 3097 \n",
       "Q 1472 3097 1187 3025 \n",
       "Q 903 2953 641 2809 \n",
       "L 641 3341 \n",
       "Q 956 3463 1253 3523 \n",
       "Q 1550 3584 1831 3584 \n",
       "Q 2591 3584 2966 3190 \n",
       "Q 3341 2797 3341 1997 \n",
       "z\n",
       "\" transform=\"scale(0.015625)\"/>\n",
       "       <path id=\"DejaVuSans-72\" d=\"M 2631 2963 \n",
       "Q 2534 3019 2420 3045 \n",
       "Q 2306 3072 2169 3072 \n",
       "Q 1681 3072 1420 2755 \n",
       "Q 1159 2438 1159 1844 \n",
       "L 1159 0 \n",
       "L 581 0 \n",
       "L 581 3500 \n",
       "L 1159 3500 \n",
       "L 1159 2956 \n",
       "Q 1341 3275 1631 3429 \n",
       "Q 1922 3584 2338 3584 \n",
       "Q 2397 3584 2469 3576 \n",
       "Q 2541 3569 2628 3553 \n",
       "L 2631 2963 \n",
       "z\n",
       "\" transform=\"scale(0.015625)\"/>\n",
       "       <path id=\"DejaVuSans-20\" transform=\"scale(0.015625)\"/>\n",
       "       <path id=\"DejaVuSans-56\" d=\"M 1831 0 \n",
       "L 50 4666 \n",
       "L 709 4666 \n",
       "L 2188 738 \n",
       "L 3669 4666 \n",
       "L 4325 4666 \n",
       "L 2547 0 \n",
       "L 1831 0 \n",
       "z\n",
       "\" transform=\"scale(0.015625)\"/>\n",
       "       <path id=\"DejaVuSans-65\" d=\"M 3597 1894 \n",
       "L 3597 1613 \n",
       "L 953 1613 \n",
       "Q 991 1019 1311 708 \n",
       "Q 1631 397 2203 397 \n",
       "Q 2534 397 2845 478 \n",
       "Q 3156 559 3463 722 \n",
       "L 3463 178 \n",
       "Q 3153 47 2828 -22 \n",
       "Q 2503 -91 2169 -91 \n",
       "Q 1331 -91 842 396 \n",
       "Q 353 884 353 1716 \n",
       "Q 353 2575 817 3079 \n",
       "Q 1281 3584 2069 3584 \n",
       "Q 2775 3584 3186 3129 \n",
       "Q 3597 2675 3597 1894 \n",
       "z\n",
       "M 3022 2063 \n",
       "Q 3016 2534 2758 2815 \n",
       "Q 2500 3097 2075 3097 \n",
       "Q 1594 3097 1305 2825 \n",
       "Q 1016 2553 972 2059 \n",
       "L 3022 2063 \n",
       "z\n",
       "\" transform=\"scale(0.015625)\"/>\n",
       "       <path id=\"DejaVuSans-52\" d=\"M 2841 2188 \n",
       "Q 3044 2119 3236 1894 \n",
       "Q 3428 1669 3622 1275 \n",
       "L 4263 0 \n",
       "L 3584 0 \n",
       "L 2988 1197 \n",
       "Q 2756 1666 2539 1819 \n",
       "Q 2322 1972 1947 1972 \n",
       "L 1259 1972 \n",
       "L 1259 0 \n",
       "L 628 0 \n",
       "L 628 4666 \n",
       "L 2053 4666 \n",
       "Q 2853 4666 3247 4331 \n",
       "Q 3641 3997 3641 3322 \n",
       "Q 3641 2881 3436 2590 \n",
       "Q 3231 2300 2841 2188 \n",
       "z\n",
       "M 1259 4147 \n",
       "L 1259 2491 \n",
       "L 2053 2491 \n",
       "Q 2509 2491 2742 2702 \n",
       "Q 2975 2913 2975 3322 \n",
       "Q 2975 3731 2742 3939 \n",
       "Q 2509 4147 2053 4147 \n",
       "L 1259 4147 \n",
       "z\n",
       "\" transform=\"scale(0.015625)\"/>\n",
       "       <path id=\"DejaVuSans-6b\" d=\"M 581 4863 \n",
       "L 1159 4863 \n",
       "L 1159 1991 \n",
       "L 2875 3500 \n",
       "L 3609 3500 \n",
       "L 1753 1863 \n",
       "L 3688 0 \n",
       "L 2938 0 \n",
       "L 1159 1709 \n",
       "L 1159 0 \n",
       "L 581 0 \n",
       "L 581 4863 \n",
       "z\n",
       "\" transform=\"scale(0.015625)\"/>\n",
       "      </defs>\n",
       "      <use xlink:href=\"#DejaVuSans-53\"/>\n",
       "      <use xlink:href=\"#DejaVuSans-69\" x=\"63.476562\"/>\n",
       "      <use xlink:href=\"#DejaVuSans-6e\" x=\"91.259766\"/>\n",
       "      <use xlink:href=\"#DejaVuSans-67\" x=\"154.638672\"/>\n",
       "      <use xlink:href=\"#DejaVuSans-75\" x=\"218.115234\"/>\n",
       "      <use xlink:href=\"#DejaVuSans-6c\" x=\"281.494141\"/>\n",
       "      <use xlink:href=\"#DejaVuSans-61\" x=\"309.277344\"/>\n",
       "      <use xlink:href=\"#DejaVuSans-72\" x=\"370.556641\"/>\n",
       "      <use xlink:href=\"#DejaVuSans-20\" x=\"411.669922\"/>\n",
       "      <use xlink:href=\"#DejaVuSans-56\" x=\"443.457031\"/>\n",
       "      <use xlink:href=\"#DejaVuSans-61\" x=\"504.115234\"/>\n",
       "      <use xlink:href=\"#DejaVuSans-6c\" x=\"565.394531\"/>\n",
       "      <use xlink:href=\"#DejaVuSans-75\" x=\"593.177734\"/>\n",
       "      <use xlink:href=\"#DejaVuSans-65\" x=\"656.556641\"/>\n",
       "      <use xlink:href=\"#DejaVuSans-20\" x=\"718.080078\"/>\n",
       "      <use xlink:href=\"#DejaVuSans-52\" x=\"749.867188\"/>\n",
       "      <use xlink:href=\"#DejaVuSans-61\" x=\"817.099609\"/>\n",
       "      <use xlink:href=\"#DejaVuSans-6e\" x=\"878.378906\"/>\n",
       "      <use xlink:href=\"#DejaVuSans-6b\" x=\"941.757812\"/>\n",
       "     </g>\n",
       "    </g>\n",
       "   </g>\n",
       "   <g id=\"matplotlib.axis_2\">\n",
       "    <g id=\"ytick_1\">\n",
       "     <g id=\"line2d_8\">\n",
       "      <defs>\n",
       "       <path id=\"mbd6a293586\" d=\"M 0 0 \n",
       "L -3.5 0 \n",
       "\" style=\"stroke: #ffffff; stroke-width: 0.8\"/>\n",
       "      </defs>\n",
       "      <g>\n",
       "       <use xlink:href=\"#mbd6a293586\" x=\"43.78125\" y=\"244.078125\" style=\"fill: #ffffff; stroke: #ffffff; stroke-width: 0.8\"/>\n",
       "      </g>\n",
       "     </g>\n",
       "     <g id=\"text_9\">\n",
       "      <!-- 0.0 -->\n",
       "      <g style=\"fill: #ffffff\" transform=\"translate(20.878125 247.877344) scale(0.1 -0.1)\">\n",
       "       <defs>\n",
       "        <path id=\"DejaVuSans-2e\" d=\"M 684 794 \n",
       "L 1344 794 \n",
       "L 1344 0 \n",
       "L 684 0 \n",
       "L 684 794 \n",
       "z\n",
       "\" transform=\"scale(0.015625)\"/>\n",
       "       </defs>\n",
       "       <use xlink:href=\"#DejaVuSans-30\"/>\n",
       "       <use xlink:href=\"#DejaVuSans-2e\" x=\"63.623047\"/>\n",
       "       <use xlink:href=\"#DejaVuSans-30\" x=\"95.410156\"/>\n",
       "      </g>\n",
       "     </g>\n",
       "    </g>\n",
       "    <g id=\"ytick_2\">\n",
       "     <g id=\"line2d_9\">\n",
       "      <g>\n",
       "       <use xlink:href=\"#mbd6a293586\" x=\"43.78125\" y=\"199.726125\" style=\"fill: #ffffff; stroke: #ffffff; stroke-width: 0.8\"/>\n",
       "      </g>\n",
       "     </g>\n",
       "     <g id=\"text_10\">\n",
       "      <!-- 0.2 -->\n",
       "      <g style=\"fill: #ffffff\" transform=\"translate(20.878125 203.525344) scale(0.1 -0.1)\">\n",
       "       <use xlink:href=\"#DejaVuSans-30\"/>\n",
       "       <use xlink:href=\"#DejaVuSans-2e\" x=\"63.623047\"/>\n",
       "       <use xlink:href=\"#DejaVuSans-32\" x=\"95.410156\"/>\n",
       "      </g>\n",
       "     </g>\n",
       "    </g>\n",
       "    <g id=\"ytick_3\">\n",
       "     <g id=\"line2d_10\">\n",
       "      <g>\n",
       "       <use xlink:href=\"#mbd6a293586\" x=\"43.78125\" y=\"155.374125\" style=\"fill: #ffffff; stroke: #ffffff; stroke-width: 0.8\"/>\n",
       "      </g>\n",
       "     </g>\n",
       "     <g id=\"text_11\">\n",
       "      <!-- 0.4 -->\n",
       "      <g style=\"fill: #ffffff\" transform=\"translate(20.878125 159.173344) scale(0.1 -0.1)\">\n",
       "       <defs>\n",
       "        <path id=\"DejaVuSans-34\" d=\"M 2419 4116 \n",
       "L 825 1625 \n",
       "L 2419 1625 \n",
       "L 2419 4116 \n",
       "z\n",
       "M 2253 4666 \n",
       "L 3047 4666 \n",
       "L 3047 1625 \n",
       "L 3713 1625 \n",
       "L 3713 1100 \n",
       "L 3047 1100 \n",
       "L 3047 0 \n",
       "L 2419 0 \n",
       "L 2419 1100 \n",
       "L 313 1100 \n",
       "L 313 1709 \n",
       "L 2253 4666 \n",
       "z\n",
       "\" transform=\"scale(0.015625)\"/>\n",
       "       </defs>\n",
       "       <use xlink:href=\"#DejaVuSans-30\"/>\n",
       "       <use xlink:href=\"#DejaVuSans-2e\" x=\"63.623047\"/>\n",
       "       <use xlink:href=\"#DejaVuSans-34\" x=\"95.410156\"/>\n",
       "      </g>\n",
       "     </g>\n",
       "    </g>\n",
       "    <g id=\"ytick_4\">\n",
       "     <g id=\"line2d_11\">\n",
       "      <g>\n",
       "       <use xlink:href=\"#mbd6a293586\" x=\"43.78125\" y=\"111.022125\" style=\"fill: #ffffff; stroke: #ffffff; stroke-width: 0.8\"/>\n",
       "      </g>\n",
       "     </g>\n",
       "     <g id=\"text_12\">\n",
       "      <!-- 0.6 -->\n",
       "      <g style=\"fill: #ffffff\" transform=\"translate(20.878125 114.821344) scale(0.1 -0.1)\">\n",
       "       <defs>\n",
       "        <path id=\"DejaVuSans-36\" d=\"M 2113 2584 \n",
       "Q 1688 2584 1439 2293 \n",
       "Q 1191 2003 1191 1497 \n",
       "Q 1191 994 1439 701 \n",
       "Q 1688 409 2113 409 \n",
       "Q 2538 409 2786 701 \n",
       "Q 3034 994 3034 1497 \n",
       "Q 3034 2003 2786 2293 \n",
       "Q 2538 2584 2113 2584 \n",
       "z\n",
       "M 3366 4563 \n",
       "L 3366 3988 \n",
       "Q 3128 4100 2886 4159 \n",
       "Q 2644 4219 2406 4219 \n",
       "Q 1781 4219 1451 3797 \n",
       "Q 1122 3375 1075 2522 \n",
       "Q 1259 2794 1537 2939 \n",
       "Q 1816 3084 2150 3084 \n",
       "Q 2853 3084 3261 2657 \n",
       "Q 3669 2231 3669 1497 \n",
       "Q 3669 778 3244 343 \n",
       "Q 2819 -91 2113 -91 \n",
       "Q 1303 -91 875 529 \n",
       "Q 447 1150 447 2328 \n",
       "Q 447 3434 972 4092 \n",
       "Q 1497 4750 2381 4750 \n",
       "Q 2619 4750 2861 4703 \n",
       "Q 3103 4656 3366 4563 \n",
       "z\n",
       "\" transform=\"scale(0.015625)\"/>\n",
       "       </defs>\n",
       "       <use xlink:href=\"#DejaVuSans-30\"/>\n",
       "       <use xlink:href=\"#DejaVuSans-2e\" x=\"63.623047\"/>\n",
       "       <use xlink:href=\"#DejaVuSans-36\" x=\"95.410156\"/>\n",
       "      </g>\n",
       "     </g>\n",
       "    </g>\n",
       "    <g id=\"ytick_5\">\n",
       "     <g id=\"line2d_12\">\n",
       "      <g>\n",
       "       <use xlink:href=\"#mbd6a293586\" x=\"43.78125\" y=\"66.670125\" style=\"fill: #ffffff; stroke: #ffffff; stroke-width: 0.8\"/>\n",
       "      </g>\n",
       "     </g>\n",
       "     <g id=\"text_13\">\n",
       "      <!-- 0.8 -->\n",
       "      <g style=\"fill: #ffffff\" transform=\"translate(20.878125 70.469344) scale(0.1 -0.1)\">\n",
       "       <defs>\n",
       "        <path id=\"DejaVuSans-38\" d=\"M 2034 2216 \n",
       "Q 1584 2216 1326 1975 \n",
       "Q 1069 1734 1069 1313 \n",
       "Q 1069 891 1326 650 \n",
       "Q 1584 409 2034 409 \n",
       "Q 2484 409 2743 651 \n",
       "Q 3003 894 3003 1313 \n",
       "Q 3003 1734 2745 1975 \n",
       "Q 2488 2216 2034 2216 \n",
       "z\n",
       "M 1403 2484 \n",
       "Q 997 2584 770 2862 \n",
       "Q 544 3141 544 3541 \n",
       "Q 544 4100 942 4425 \n",
       "Q 1341 4750 2034 4750 \n",
       "Q 2731 4750 3128 4425 \n",
       "Q 3525 4100 3525 3541 \n",
       "Q 3525 3141 3298 2862 \n",
       "Q 3072 2584 2669 2484 \n",
       "Q 3125 2378 3379 2068 \n",
       "Q 3634 1759 3634 1313 \n",
       "Q 3634 634 3220 271 \n",
       "Q 2806 -91 2034 -91 \n",
       "Q 1263 -91 848 271 \n",
       "Q 434 634 434 1313 \n",
       "Q 434 1759 690 2068 \n",
       "Q 947 2378 1403 2484 \n",
       "z\n",
       "M 1172 3481 \n",
       "Q 1172 3119 1398 2916 \n",
       "Q 1625 2713 2034 2713 \n",
       "Q 2441 2713 2670 2916 \n",
       "Q 2900 3119 2900 3481 \n",
       "Q 2900 3844 2670 4047 \n",
       "Q 2441 4250 2034 4250 \n",
       "Q 1625 4250 1398 4047 \n",
       "Q 1172 3844 1172 3481 \n",
       "z\n",
       "\" transform=\"scale(0.015625)\"/>\n",
       "       </defs>\n",
       "       <use xlink:href=\"#DejaVuSans-30\"/>\n",
       "       <use xlink:href=\"#DejaVuSans-2e\" x=\"63.623047\"/>\n",
       "       <use xlink:href=\"#DejaVuSans-38\" x=\"95.410156\"/>\n",
       "      </g>\n",
       "     </g>\n",
       "    </g>\n",
       "    <g id=\"ytick_6\">\n",
       "     <g id=\"line2d_13\">\n",
       "      <g>\n",
       "       <use xlink:href=\"#mbd6a293586\" x=\"43.78125\" y=\"22.318125\" style=\"fill: #ffffff; stroke: #ffffff; stroke-width: 0.8\"/>\n",
       "      </g>\n",
       "     </g>\n",
       "     <g id=\"text_14\">\n",
       "      <!-- 1.0 -->\n",
       "      <g style=\"fill: #ffffff\" transform=\"translate(20.878125 26.117344) scale(0.1 -0.1)\">\n",
       "       <use xlink:href=\"#DejaVuSans-31\"/>\n",
       "       <use xlink:href=\"#DejaVuSans-2e\" x=\"63.623047\"/>\n",
       "       <use xlink:href=\"#DejaVuSans-30\" x=\"95.410156\"/>\n",
       "      </g>\n",
       "     </g>\n",
       "    </g>\n",
       "    <g id=\"text_15\">\n",
       "     <!-- Singular Values -->\n",
       "     <g style=\"fill: #ffffff\" transform=\"translate(14.798438 171.706719) rotate(-90) scale(0.1 -0.1)\">\n",
       "      <defs>\n",
       "       <path id=\"DejaVuSans-73\" d=\"M 2834 3397 \n",
       "L 2834 2853 \n",
       "Q 2591 2978 2328 3040 \n",
       "Q 2066 3103 1784 3103 \n",
       "Q 1356 3103 1142 2972 \n",
       "Q 928 2841 928 2578 \n",
       "Q 928 2378 1081 2264 \n",
       "Q 1234 2150 1697 2047 \n",
       "L 1894 2003 \n",
       "Q 2506 1872 2764 1633 \n",
       "Q 3022 1394 3022 966 \n",
       "Q 3022 478 2636 193 \n",
       "Q 2250 -91 1575 -91 \n",
       "Q 1294 -91 989 -36 \n",
       "Q 684 19 347 128 \n",
       "L 347 722 \n",
       "Q 666 556 975 473 \n",
       "Q 1284 391 1588 391 \n",
       "Q 1994 391 2212 530 \n",
       "Q 2431 669 2431 922 \n",
       "Q 2431 1156 2273 1281 \n",
       "Q 2116 1406 1581 1522 \n",
       "L 1381 1569 \n",
       "Q 847 1681 609 1914 \n",
       "Q 372 2147 372 2553 \n",
       "Q 372 3047 722 3315 \n",
       "Q 1072 3584 1716 3584 \n",
       "Q 2034 3584 2315 3537 \n",
       "Q 2597 3491 2834 3397 \n",
       "z\n",
       "\" transform=\"scale(0.015625)\"/>\n",
       "      </defs>\n",
       "      <use xlink:href=\"#DejaVuSans-53\"/>\n",
       "      <use xlink:href=\"#DejaVuSans-69\" x=\"63.476562\"/>\n",
       "      <use xlink:href=\"#DejaVuSans-6e\" x=\"91.259766\"/>\n",
       "      <use xlink:href=\"#DejaVuSans-67\" x=\"154.638672\"/>\n",
       "      <use xlink:href=\"#DejaVuSans-75\" x=\"218.115234\"/>\n",
       "      <use xlink:href=\"#DejaVuSans-6c\" x=\"281.494141\"/>\n",
       "      <use xlink:href=\"#DejaVuSans-61\" x=\"309.277344\"/>\n",
       "      <use xlink:href=\"#DejaVuSans-72\" x=\"370.556641\"/>\n",
       "      <use xlink:href=\"#DejaVuSans-20\" x=\"411.669922\"/>\n",
       "      <use xlink:href=\"#DejaVuSans-56\" x=\"443.457031\"/>\n",
       "      <use xlink:href=\"#DejaVuSans-61\" x=\"504.115234\"/>\n",
       "      <use xlink:href=\"#DejaVuSans-6c\" x=\"565.394531\"/>\n",
       "      <use xlink:href=\"#DejaVuSans-75\" x=\"593.177734\"/>\n",
       "      <use xlink:href=\"#DejaVuSans-65\" x=\"656.556641\"/>\n",
       "      <use xlink:href=\"#DejaVuSans-73\" x=\"718.080078\"/>\n",
       "     </g>\n",
       "    </g>\n",
       "   </g>\n",
       "   <g id=\"line2d_14\">\n",
       "    <path d=\"M 43.78125 22.318125 \n",
       "L 54.24375 77.172124 \n",
       "L 64.70625 199.196771 \n",
       "L 75.16875 207.079323 \n",
       "L 85.63125 231.267532 \n",
       "L 96.09375 241.382674 \n",
       "L 106.55625 242.689562 \n",
       "L 117.01875 243.469139 \n",
       "L 127.48125 243.55681 \n",
       "L 137.94375 243.78654 \n",
       "L 148.40625 243.939262 \n",
       "L 158.86875 244.00359 \n",
       "L 169.33125 244.028563 \n",
       "L 179.79375 244.04492 \n",
       "L 190.25625 244.05982 \n",
       "L 200.71875 244.070188 \n",
       "L 211.18125 244.072998 \n",
       "L 221.64375 244.073211 \n",
       "L 232.10625 244.075405 \n",
       "L 242.56875 244.077034 \n",
       "L 253.03125 244.077861 \n",
       "L 263.49375 244.078021 \n",
       "L 273.95625 244.078125 \n",
       "L 284.41875 244.078125 \n",
       "L 294.88125 244.078125 \n",
       "L 305.34375 244.078125 \n",
       "L 315.80625 244.078125 \n",
       "L 326.26875 244.078125 \n",
       "L 336.73125 244.078125 \n",
       "L 347.19375 244.078125 \n",
       "L 357.65625 244.078125 \n",
       "L 368.11875 244.078125 \n",
       "\" clip-path=\"url(#p317f4e9e3d)\" style=\"fill: none; stroke: #8dd3c7; stroke-width: 1.5; stroke-linecap: square\"/>\n",
       "   </g>\n",
       "   <g id=\"patch_3\">\n",
       "    <path d=\"M 43.78125 244.078125 \n",
       "L 43.78125 22.318125 \n",
       "\" style=\"fill: none; stroke: #ffffff; stroke-width: 0.8; stroke-linejoin: miter; stroke-linecap: square\"/>\n",
       "   </g>\n",
       "   <g id=\"patch_4\">\n",
       "    <path d=\"M 378.58125 244.078125 \n",
       "L 378.58125 22.318125 \n",
       "\" style=\"fill: none; stroke: #ffffff; stroke-width: 0.8; stroke-linejoin: miter; stroke-linecap: square\"/>\n",
       "   </g>\n",
       "   <g id=\"patch_5\">\n",
       "    <path d=\"M 43.78125 244.078125 \n",
       "L 378.58125 244.078125 \n",
       "\" style=\"fill: none; stroke: #ffffff; stroke-width: 0.8; stroke-linejoin: miter; stroke-linecap: square\"/>\n",
       "   </g>\n",
       "   <g id=\"patch_6\">\n",
       "    <path d=\"M 43.78125 22.318125 \n",
       "L 378.58125 22.318125 \n",
       "\" style=\"fill: none; stroke: #ffffff; stroke-width: 0.8; stroke-linejoin: miter; stroke-linecap: square\"/>\n",
       "   </g>\n",
       "   <g id=\"text_16\">\n",
       "    <!-- Singular Values of Covariance Matrix -->\n",
       "    <g style=\"fill: #ffffff\" transform=\"translate(100.883438 16.318125) scale(0.12 -0.12)\">\n",
       "     <defs>\n",
       "      <path id=\"DejaVuSans-6f\" d=\"M 1959 3097 \n",
       "Q 1497 3097 1228 2736 \n",
       "Q 959 2375 959 1747 \n",
       "Q 959 1119 1226 758 \n",
       "Q 1494 397 1959 397 \n",
       "Q 2419 397 2687 759 \n",
       "Q 2956 1122 2956 1747 \n",
       "Q 2956 2369 2687 2733 \n",
       "Q 2419 3097 1959 3097 \n",
       "z\n",
       "M 1959 3584 \n",
       "Q 2709 3584 3137 3096 \n",
       "Q 3566 2609 3566 1747 \n",
       "Q 3566 888 3137 398 \n",
       "Q 2709 -91 1959 -91 \n",
       "Q 1206 -91 779 398 \n",
       "Q 353 888 353 1747 \n",
       "Q 353 2609 779 3096 \n",
       "Q 1206 3584 1959 3584 \n",
       "z\n",
       "\" transform=\"scale(0.015625)\"/>\n",
       "      <path id=\"DejaVuSans-66\" d=\"M 2375 4863 \n",
       "L 2375 4384 \n",
       "L 1825 4384 \n",
       "Q 1516 4384 1395 4259 \n",
       "Q 1275 4134 1275 3809 \n",
       "L 1275 3500 \n",
       "L 2222 3500 \n",
       "L 2222 3053 \n",
       "L 1275 3053 \n",
       "L 1275 0 \n",
       "L 697 0 \n",
       "L 697 3053 \n",
       "L 147 3053 \n",
       "L 147 3500 \n",
       "L 697 3500 \n",
       "L 697 3744 \n",
       "Q 697 4328 969 4595 \n",
       "Q 1241 4863 1831 4863 \n",
       "L 2375 4863 \n",
       "z\n",
       "\" transform=\"scale(0.015625)\"/>\n",
       "      <path id=\"DejaVuSans-43\" d=\"M 4122 4306 \n",
       "L 4122 3641 \n",
       "Q 3803 3938 3442 4084 \n",
       "Q 3081 4231 2675 4231 \n",
       "Q 1875 4231 1450 3742 \n",
       "Q 1025 3253 1025 2328 \n",
       "Q 1025 1406 1450 917 \n",
       "Q 1875 428 2675 428 \n",
       "Q 3081 428 3442 575 \n",
       "Q 3803 722 4122 1019 \n",
       "L 4122 359 \n",
       "Q 3791 134 3420 21 \n",
       "Q 3050 -91 2638 -91 \n",
       "Q 1578 -91 968 557 \n",
       "Q 359 1206 359 2328 \n",
       "Q 359 3453 968 4101 \n",
       "Q 1578 4750 2638 4750 \n",
       "Q 3056 4750 3426 4639 \n",
       "Q 3797 4528 4122 4306 \n",
       "z\n",
       "\" transform=\"scale(0.015625)\"/>\n",
       "      <path id=\"DejaVuSans-76\" d=\"M 191 3500 \n",
       "L 800 3500 \n",
       "L 1894 563 \n",
       "L 2988 3500 \n",
       "L 3597 3500 \n",
       "L 2284 0 \n",
       "L 1503 0 \n",
       "L 191 3500 \n",
       "z\n",
       "\" transform=\"scale(0.015625)\"/>\n",
       "      <path id=\"DejaVuSans-63\" d=\"M 3122 3366 \n",
       "L 3122 2828 \n",
       "Q 2878 2963 2633 3030 \n",
       "Q 2388 3097 2138 3097 \n",
       "Q 1578 3097 1268 2742 \n",
       "Q 959 2388 959 1747 \n",
       "Q 959 1106 1268 751 \n",
       "Q 1578 397 2138 397 \n",
       "Q 2388 397 2633 464 \n",
       "Q 2878 531 3122 666 \n",
       "L 3122 134 \n",
       "Q 2881 22 2623 -34 \n",
       "Q 2366 -91 2075 -91 \n",
       "Q 1284 -91 818 406 \n",
       "Q 353 903 353 1747 \n",
       "Q 353 2603 823 3093 \n",
       "Q 1294 3584 2113 3584 \n",
       "Q 2378 3584 2631 3529 \n",
       "Q 2884 3475 3122 3366 \n",
       "z\n",
       "\" transform=\"scale(0.015625)\"/>\n",
       "      <path id=\"DejaVuSans-4d\" d=\"M 628 4666 \n",
       "L 1569 4666 \n",
       "L 2759 1491 \n",
       "L 3956 4666 \n",
       "L 4897 4666 \n",
       "L 4897 0 \n",
       "L 4281 0 \n",
       "L 4281 4097 \n",
       "L 3078 897 \n",
       "L 2444 897 \n",
       "L 1241 4097 \n",
       "L 1241 0 \n",
       "L 628 0 \n",
       "L 628 4666 \n",
       "z\n",
       "\" transform=\"scale(0.015625)\"/>\n",
       "      <path id=\"DejaVuSans-74\" d=\"M 1172 4494 \n",
       "L 1172 3500 \n",
       "L 2356 3500 \n",
       "L 2356 3053 \n",
       "L 1172 3053 \n",
       "L 1172 1153 \n",
       "Q 1172 725 1289 603 \n",
       "Q 1406 481 1766 481 \n",
       "L 2356 481 \n",
       "L 2356 0 \n",
       "L 1766 0 \n",
       "Q 1100 0 847 248 \n",
       "Q 594 497 594 1153 \n",
       "L 594 3053 \n",
       "L 172 3053 \n",
       "L 172 3500 \n",
       "L 594 3500 \n",
       "L 594 4494 \n",
       "L 1172 4494 \n",
       "z\n",
       "\" transform=\"scale(0.015625)\"/>\n",
       "      <path id=\"DejaVuSans-78\" d=\"M 3513 3500 \n",
       "L 2247 1797 \n",
       "L 3578 0 \n",
       "L 2900 0 \n",
       "L 1881 1375 \n",
       "L 863 0 \n",
       "L 184 0 \n",
       "L 1544 1831 \n",
       "L 300 3500 \n",
       "L 978 3500 \n",
       "L 1906 2253 \n",
       "L 2834 3500 \n",
       "L 3513 3500 \n",
       "z\n",
       "\" transform=\"scale(0.015625)\"/>\n",
       "     </defs>\n",
       "     <use xlink:href=\"#DejaVuSans-53\"/>\n",
       "     <use xlink:href=\"#DejaVuSans-69\" x=\"63.476562\"/>\n",
       "     <use xlink:href=\"#DejaVuSans-6e\" x=\"91.259766\"/>\n",
       "     <use xlink:href=\"#DejaVuSans-67\" x=\"154.638672\"/>\n",
       "     <use xlink:href=\"#DejaVuSans-75\" x=\"218.115234\"/>\n",
       "     <use xlink:href=\"#DejaVuSans-6c\" x=\"281.494141\"/>\n",
       "     <use xlink:href=\"#DejaVuSans-61\" x=\"309.277344\"/>\n",
       "     <use xlink:href=\"#DejaVuSans-72\" x=\"370.556641\"/>\n",
       "     <use xlink:href=\"#DejaVuSans-20\" x=\"411.669922\"/>\n",
       "     <use xlink:href=\"#DejaVuSans-56\" x=\"443.457031\"/>\n",
       "     <use xlink:href=\"#DejaVuSans-61\" x=\"504.115234\"/>\n",
       "     <use xlink:href=\"#DejaVuSans-6c\" x=\"565.394531\"/>\n",
       "     <use xlink:href=\"#DejaVuSans-75\" x=\"593.177734\"/>\n",
       "     <use xlink:href=\"#DejaVuSans-65\" x=\"656.556641\"/>\n",
       "     <use xlink:href=\"#DejaVuSans-73\" x=\"718.080078\"/>\n",
       "     <use xlink:href=\"#DejaVuSans-20\" x=\"770.179688\"/>\n",
       "     <use xlink:href=\"#DejaVuSans-6f\" x=\"801.966797\"/>\n",
       "     <use xlink:href=\"#DejaVuSans-66\" x=\"863.148438\"/>\n",
       "     <use xlink:href=\"#DejaVuSans-20\" x=\"898.353516\"/>\n",
       "     <use xlink:href=\"#DejaVuSans-43\" x=\"930.140625\"/>\n",
       "     <use xlink:href=\"#DejaVuSans-6f\" x=\"999.964844\"/>\n",
       "     <use xlink:href=\"#DejaVuSans-76\" x=\"1061.146484\"/>\n",
       "     <use xlink:href=\"#DejaVuSans-61\" x=\"1120.326172\"/>\n",
       "     <use xlink:href=\"#DejaVuSans-72\" x=\"1181.605469\"/>\n",
       "     <use xlink:href=\"#DejaVuSans-69\" x=\"1222.71875\"/>\n",
       "     <use xlink:href=\"#DejaVuSans-61\" x=\"1250.501953\"/>\n",
       "     <use xlink:href=\"#DejaVuSans-6e\" x=\"1311.78125\"/>\n",
       "     <use xlink:href=\"#DejaVuSans-63\" x=\"1375.160156\"/>\n",
       "     <use xlink:href=\"#DejaVuSans-65\" x=\"1430.140625\"/>\n",
       "     <use xlink:href=\"#DejaVuSans-20\" x=\"1491.664062\"/>\n",
       "     <use xlink:href=\"#DejaVuSans-4d\" x=\"1523.451172\"/>\n",
       "     <use xlink:href=\"#DejaVuSans-61\" x=\"1609.730469\"/>\n",
       "     <use xlink:href=\"#DejaVuSans-74\" x=\"1671.009766\"/>\n",
       "     <use xlink:href=\"#DejaVuSans-72\" x=\"1710.21875\"/>\n",
       "     <use xlink:href=\"#DejaVuSans-69\" x=\"1751.332031\"/>\n",
       "     <use xlink:href=\"#DejaVuSans-78\" x=\"1779.115234\"/>\n",
       "    </g>\n",
       "   </g>\n",
       "  </g>\n",
       " </g>\n",
       " <defs>\n",
       "  <clipPath id=\"p317f4e9e3d\">\n",
       "   <rect x=\"43.78125\" y=\"22.318125\" width=\"334.8\" height=\"221.76\"/>\n",
       "  </clipPath>\n",
       " </defs>\n",
       "</svg>\n"
      ],
      "text/plain": [
       "<Figure size 600x400 with 1 Axes>"
      ]
     },
     "metadata": {},
     "output_type": "display_data"
    },
    {
     "data": {
      "text/plain": [
       "<Figure size 1000x2000 with 0 Axes>"
      ]
     },
     "metadata": {},
     "output_type": "display_data"
    }
   ],
   "source": [
    "main(args_AE)"
   ]
  }
 ],
 "metadata": {
  "accelerator": "GPU",
  "colab": {
   "gpuType": "T4",
   "provenance": []
  },
  "kernelspec": {
   "display_name": "Python 3 (ipykernel)",
   "language": "python",
   "name": "python3"
  },
  "language_info": {
   "codemirror_mode": {
    "name": "ipython",
    "version": 3
   },
   "file_extension": ".py",
   "mimetype": "text/x-python",
   "name": "python",
   "nbconvert_exporter": "python",
   "pygments_lexer": "ipython3",
   "version": "3.10.12"
  }
 },
 "nbformat": 4,
 "nbformat_minor": 4
}
